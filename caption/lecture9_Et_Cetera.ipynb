{
 "cells": [
  {
   "cell_type": "markdown",
   "id": "54784990",
   "metadata": {},
   "source": [
    "# cs50p lecture9"
   ]
  },
  {
   "cell_type": "markdown",
   "id": "b50e237f",
   "metadata": {},
   "source": [
    "## debugging"
   ]
  },
  {
   "cell_type": "code",
   "execution_count": 2,
   "id": "145bf55b",
   "metadata": {},
   "outputs": [
    {
     "name": "stdout",
     "output_type": "stream",
     "text": [
      "Height: 3\n",
      "#\n",
      "##\n",
      "###\n"
     ]
    }
   ],
   "source": [
    "def main():\n",
    "    height = int(input(\"Height: \"))\n",
    "    pyramid(height)\n",
    "    \n",
    "    \n",
    "def pyramid(n):\n",
    "    for i in range(n):\n",
    "        print(\"#\" * (i + 1))\n",
    "        \n",
    "\n",
    "        \n",
    "if __name__ == \"__main__\":\n",
    "    main()"
   ]
  },
  {
   "cell_type": "markdown",
   "id": "5fe5e63a",
   "metadata": {},
   "source": [
    "## style"
   ]
  },
  {
   "cell_type": "markdown",
   "id": "b2659905",
   "metadata": {},
   "source": [
    "### `PEP 8` format style"
   ]
  },
  {
   "cell_type": "markdown",
   "id": "abbc80ab",
   "metadata": {},
   "source": [
    "### `pylint` tool\n",
    "\n"
   ]
  },
  {
   "cell_type": "markdown",
   "id": "851b6d48",
   "metadata": {},
   "source": [
    "### `black` tool"
   ]
  },
  {
   "cell_type": "markdown",
   "id": "a9775456",
   "metadata": {},
   "source": []
  },
  {
   "cell_type": "markdown",
   "id": "428e7a24",
   "metadata": {},
   "source": [
    "## lecture9"
   ]
  },
  {
   "cell_type": "markdown",
   "id": "2e89c419",
   "metadata": {},
   "source": [
    "### set"
   ]
  },
  {
   "cell_type": "code",
   "execution_count": 3,
   "id": "5ef72433",
   "metadata": {},
   "outputs": [
    {
     "name": "stdout",
     "output_type": "stream",
     "text": [
      "Gryffindor\n",
      "Ravenclaw\n",
      "Slytherin\n"
     ]
    }
   ],
   "source": [
    "# Filters out duplicate houses using loop\n",
    "\n",
    "students = [\n",
    "    {\"name\": \"Hermione\", \"house\": \"Gryffindor\"},\n",
    "    {\"name\": \"Harry\", \"house\": \"Gryffindor\"},\n",
    "    {\"name\": \"Ron\", \"house\": \"Gryffindor\"},\n",
    "    {\"name\": \"Draco\", \"house\": \"Slytherin\"},\n",
    "    {\"name\": \"Padma\", \"house\": \"Ravenclaw\"},\n",
    "]\n",
    "\n",
    "houses = []\n",
    "for student in students:\n",
    "    if student[\"house\"] not in houses:\n",
    "        houses.append(student[\"house\"])\n",
    "\n",
    "for house in sorted(houses):\n",
    "    print(house)"
   ]
  },
  {
   "cell_type": "code",
   "execution_count": 4,
   "id": "6c3cd568",
   "metadata": {},
   "outputs": [
    {
     "name": "stdout",
     "output_type": "stream",
     "text": [
      "Gryffindor\n",
      "Ravenclaw\n",
      "Slytherin\n"
     ]
    }
   ],
   "source": [
    "# Filters out duplicate houses using set\n",
    "\n",
    "students = [\n",
    "    {\"name\": \"Hermione\", \"house\": \"Gryffindor\"},\n",
    "    {\"name\": \"Harry\", \"house\": \"Gryffindor\"},\n",
    "    {\"name\": \"Ron\", \"house\": \"Gryffindor\"},\n",
    "    {\"name\": \"Draco\", \"house\": \"Slytherin\"},\n",
    "    {\"name\": \"Padma\", \"house\": \"Ravenclaw\"},\n",
    "]\n",
    "\n",
    "houses = set()\n",
    "for student in students:\n",
    "    houses.add(student[\"house\"])\n",
    "\n",
    "for house in sorted(houses):\n",
    "    print(house)\n"
   ]
  },
  {
   "cell_type": "markdown",
   "id": "32efa962",
   "metadata": {},
   "source": [
    "## global"
   ]
  },
  {
   "cell_type": "code",
   "execution_count": 5,
   "id": "48ecb816",
   "metadata": {},
   "outputs": [
    {
     "name": "stdout",
     "output_type": "stream",
     "text": [
      "Balance: 0\n"
     ]
    }
   ],
   "source": [
    "# Implements a bank account\n",
    "\n",
    "balance = 0\n",
    "\n",
    "\n",
    "def main():\n",
    "    print(\"Balance:\", balance)\n",
    "\n",
    "\n",
    "if __name__ == \"__main__\":\n",
    "    main()\n"
   ]
  },
  {
   "cell_type": "code",
   "execution_count": 6,
   "id": "d676404d",
   "metadata": {},
   "outputs": [
    {
     "name": "stdout",
     "output_type": "stream",
     "text": [
      "Balance: 0\n"
     ]
    },
    {
     "ename": "UnboundLocalError",
     "evalue": "local variable 'balance' referenced before assignment",
     "output_type": "error",
     "traceback": [
      "\u001b[0;31m---------------------------------------------------------------------------\u001b[0m",
      "\u001b[0;31mUnboundLocalError\u001b[0m                         Traceback (most recent call last)",
      "\u001b[0;32m/tmp/ipykernel_15970/3793418277.py\u001b[0m in \u001b[0;36m<module>\u001b[0;34m\u001b[0m\n\u001b[1;32m     20\u001b[0m \u001b[0;34m\u001b[0m\u001b[0m\n\u001b[1;32m     21\u001b[0m \u001b[0;32mif\u001b[0m \u001b[0m__name__\u001b[0m \u001b[0;34m==\u001b[0m \u001b[0;34m\"__main__\"\u001b[0m\u001b[0;34m:\u001b[0m\u001b[0;34m\u001b[0m\u001b[0;34m\u001b[0m\u001b[0m\n\u001b[0;32m---> 22\u001b[0;31m     \u001b[0mmain\u001b[0m\u001b[0;34m(\u001b[0m\u001b[0;34m)\u001b[0m\u001b[0;34m\u001b[0m\u001b[0;34m\u001b[0m\u001b[0m\n\u001b[0m",
      "\u001b[0;32m/tmp/ipykernel_15970/3793418277.py\u001b[0m in \u001b[0;36mmain\u001b[0;34m()\u001b[0m\n\u001b[1;32m      6\u001b[0m \u001b[0;32mdef\u001b[0m \u001b[0mmain\u001b[0m\u001b[0;34m(\u001b[0m\u001b[0;34m)\u001b[0m\u001b[0;34m:\u001b[0m\u001b[0;34m\u001b[0m\u001b[0;34m\u001b[0m\u001b[0m\n\u001b[1;32m      7\u001b[0m     \u001b[0mprint\u001b[0m\u001b[0;34m(\u001b[0m\u001b[0;34m\"Balance:\"\u001b[0m\u001b[0;34m,\u001b[0m \u001b[0mbalance\u001b[0m\u001b[0;34m)\u001b[0m\u001b[0;34m\u001b[0m\u001b[0;34m\u001b[0m\u001b[0m\n\u001b[0;32m----> 8\u001b[0;31m     \u001b[0mdeposit\u001b[0m\u001b[0;34m(\u001b[0m\u001b[0;36m100\u001b[0m\u001b[0;34m)\u001b[0m\u001b[0;34m\u001b[0m\u001b[0;34m\u001b[0m\u001b[0m\n\u001b[0m\u001b[1;32m      9\u001b[0m     \u001b[0mwithdraw\u001b[0m\u001b[0;34m(\u001b[0m\u001b[0;36m50\u001b[0m\u001b[0;34m)\u001b[0m\u001b[0;34m\u001b[0m\u001b[0;34m\u001b[0m\u001b[0m\n\u001b[1;32m     10\u001b[0m     \u001b[0mprint\u001b[0m\u001b[0;34m(\u001b[0m\u001b[0;34m\"Balance:\"\u001b[0m\u001b[0;34m,\u001b[0m \u001b[0mbalance\u001b[0m\u001b[0;34m)\u001b[0m\u001b[0;34m\u001b[0m\u001b[0;34m\u001b[0m\u001b[0m\n",
      "\u001b[0;32m/tmp/ipykernel_15970/3793418277.py\u001b[0m in \u001b[0;36mdeposit\u001b[0;34m(n)\u001b[0m\n\u001b[1;32m     12\u001b[0m \u001b[0;34m\u001b[0m\u001b[0m\n\u001b[1;32m     13\u001b[0m \u001b[0;32mdef\u001b[0m \u001b[0mdeposit\u001b[0m\u001b[0;34m(\u001b[0m\u001b[0mn\u001b[0m\u001b[0;34m)\u001b[0m\u001b[0;34m:\u001b[0m\u001b[0;34m\u001b[0m\u001b[0;34m\u001b[0m\u001b[0m\n\u001b[0;32m---> 14\u001b[0;31m     \u001b[0mbalance\u001b[0m \u001b[0;34m+=\u001b[0m \u001b[0mn\u001b[0m\u001b[0;34m\u001b[0m\u001b[0;34m\u001b[0m\u001b[0m\n\u001b[0m\u001b[1;32m     15\u001b[0m \u001b[0;34m\u001b[0m\u001b[0m\n\u001b[1;32m     16\u001b[0m \u001b[0;34m\u001b[0m\u001b[0m\n",
      "\u001b[0;31mUnboundLocalError\u001b[0m: local variable 'balance' referenced before assignment"
     ]
    }
   ],
   "source": [
    "# UnboundLocalError\n",
    "\n",
    "balance = 0\n",
    "\n",
    "\n",
    "def main():\n",
    "    print(\"Balance:\", balance)\n",
    "    deposit(100)\n",
    "    withdraw(50)\n",
    "    print(\"Balance:\", balance)\n",
    "\n",
    "\n",
    "def deposit(n):\n",
    "    balance += n\n",
    "\n",
    "\n",
    "def withdraw(n):\n",
    "    balance -= n\n",
    "\n",
    "\n",
    "if __name__ == \"__main__\":\n",
    "    main()\n"
   ]
  },
  {
   "cell_type": "code",
   "execution_count": 7,
   "id": "32dbe97b",
   "metadata": {},
   "outputs": [
    {
     "name": "stdout",
     "output_type": "stream",
     "text": [
      "Balance: 0\n",
      "Balance: 50\n"
     ]
    }
   ],
   "source": [
    "# Uses global\n",
    "\n",
    "balance = 0\n",
    "\n",
    "\n",
    "def main():\n",
    "    print(\"Balance:\", balance)\n",
    "    deposit(100)\n",
    "    withdraw(50)\n",
    "    print(\"Balance:\", balance)\n",
    "\n",
    "\n",
    "def deposit(n):\n",
    "    global balance\n",
    "    balance += n\n",
    "\n",
    "\n",
    "def withdraw(n):\n",
    "    global balance\n",
    "    balance -= n\n",
    "\n",
    "\n",
    "if __name__ == \"__main__\":\n",
    "    main()\n"
   ]
  },
  {
   "cell_type": "markdown",
   "id": "4b3b9b1c",
   "metadata": {},
   "source": [
    "#### OOP methodology"
   ]
  },
  {
   "cell_type": "code",
   "execution_count": 8,
   "id": "178779d9",
   "metadata": {},
   "outputs": [
    {
     "name": "stdout",
     "output_type": "stream",
     "text": [
      "Balance: 0\n",
      "Balance: 50\n"
     ]
    }
   ],
   "source": [
    "# Uses class\n",
    "\n",
    "\n",
    "class Account:\n",
    "    def __init__(self):\n",
    "        self._balance = 0\n",
    "\n",
    "    @property\n",
    "    def balance(self):\n",
    "        return self._balance\n",
    "\n",
    "    def deposit(self, n):\n",
    "        self._balance += n\n",
    "\n",
    "    def withdraw(self, n):\n",
    "        self._balance -= n\n",
    "\n",
    "\n",
    "def main():\n",
    "    account = Account()\n",
    "    print(\"Balance:\", account.balance)\n",
    "    account.deposit(100)\n",
    "    account.withdraw(50)\n",
    "    print(\"Balance:\", account.balance)\n",
    "\n",
    "\n",
    "if __name__ == \"__main__\":\n",
    "    main()\n"
   ]
  },
  {
   "cell_type": "markdown",
   "id": "83b4ef32",
   "metadata": {},
   "source": [
    "#### Q : What is property ?"
   ]
  },
  {
   "cell_type": "markdown",
   "id": "03b0b83f",
   "metadata": {},
   "source": [
    "Some finer-grain control of instance variable."
   ]
  },
  {
   "cell_type": "markdown",
   "id": "3bf212b6",
   "metadata": {},
   "source": [
    "## constants"
   ]
  },
  {
   "cell_type": "code",
   "execution_count": 9,
   "id": "00224db6",
   "metadata": {},
   "outputs": [
    {
     "name": "stdout",
     "output_type": "stream",
     "text": [
      "meow\n",
      "meow\n",
      "meow\n"
     ]
    }
   ],
   "source": [
    "# Demonstrates a constant\n",
    "\n",
    "MEOWS = 3\n",
    "\n",
    "for _ in range(MEOWS):\n",
    "    print(\"meow\")\n"
   ]
  },
  {
   "cell_type": "markdown",
   "id": "f672f59b",
   "metadata": {},
   "source": [
    "In Python, the constant is not implemented by language itself.\n",
    "\n",
    "By convention, use capital characters to indicate constants, programmer shoud not change it ."
   ]
  },
  {
   "cell_type": "markdown",
   "id": "9805b704",
   "metadata": {},
   "source": [
    "### class constant"
   ]
  },
  {
   "cell_type": "code",
   "execution_count": 10,
   "id": "542b6885",
   "metadata": {},
   "outputs": [
    {
     "name": "stdout",
     "output_type": "stream",
     "text": [
      "meow\n",
      "meow\n",
      "meow\n"
     ]
    }
   ],
   "source": [
    "# Demonstrates a class constant\n",
    "\n",
    "\n",
    "class Cat:\n",
    "    MEOWS = 3\n",
    "\n",
    "    def meow(self):\n",
    "        for _ in range(Cat.MEOWS):\n",
    "            print(\"meow\")\n",
    "\n",
    "\n",
    "cat = Cat()\n",
    "cat.meow()\n"
   ]
  },
  {
   "cell_type": "markdown",
   "id": "049198a5",
   "metadata": {},
   "source": [
    "#### Q can `black` `pylint` detect capitalized constant ?\n"
   ]
  },
  {
   "cell_type": "markdown",
   "id": "9c3df594",
   "metadata": {},
   "source": [
    "## type hitns"
   ]
  },
  {
   "cell_type": "markdown",
   "id": "ad561675",
   "metadata": {},
   "source": [
    "### `mypy` type hints tool"
   ]
  },
  {
   "cell_type": "markdown",
   "id": "e43e9151",
   "metadata": {},
   "source": [
    "```shell\n",
    "pip install mypy\n",
    "```"
   ]
  },
  {
   "cell_type": "markdown",
   "id": "77826500",
   "metadata": {},
   "source": [
    "### meows2.py"
   ]
  },
  {
   "cell_type": "code",
   "execution_count": 12,
   "id": "be88b8e0",
   "metadata": {},
   "outputs": [
    {
     "name": "stdout",
     "output_type": "stream",
     "text": [
      "Number: 3\n"
     ]
    },
    {
     "ename": "TypeError",
     "evalue": "'str' object cannot be interpreted as an integer",
     "output_type": "error",
     "traceback": [
      "\u001b[0;31m---------------------------------------------------------------------------\u001b[0m",
      "\u001b[0;31mTypeError\u001b[0m                                 Traceback (most recent call last)",
      "\u001b[0;32m/tmp/ipykernel_15970/2020900058.py\u001b[0m in \u001b[0;36m<module>\u001b[0;34m\u001b[0m\n\u001b[1;32m      8\u001b[0m \u001b[0;34m\u001b[0m\u001b[0m\n\u001b[1;32m      9\u001b[0m \u001b[0mnumber\u001b[0m \u001b[0;34m=\u001b[0m \u001b[0minput\u001b[0m\u001b[0;34m(\u001b[0m\u001b[0;34m\"Number: \"\u001b[0m\u001b[0;34m)\u001b[0m\u001b[0;34m\u001b[0m\u001b[0;34m\u001b[0m\u001b[0m\n\u001b[0;32m---> 10\u001b[0;31m \u001b[0mmeow\u001b[0m\u001b[0;34m(\u001b[0m\u001b[0mnumber\u001b[0m\u001b[0;34m)\u001b[0m\u001b[0;34m\u001b[0m\u001b[0;34m\u001b[0m\u001b[0m\n\u001b[0m",
      "\u001b[0;32m/tmp/ipykernel_15970/2020900058.py\u001b[0m in \u001b[0;36mmeow\u001b[0;34m(n)\u001b[0m\n\u001b[1;32m      3\u001b[0m \u001b[0;34m\u001b[0m\u001b[0m\n\u001b[1;32m      4\u001b[0m \u001b[0;32mdef\u001b[0m \u001b[0mmeow\u001b[0m\u001b[0;34m(\u001b[0m\u001b[0mn\u001b[0m\u001b[0;34m)\u001b[0m\u001b[0;34m:\u001b[0m\u001b[0;34m\u001b[0m\u001b[0;34m\u001b[0m\u001b[0m\n\u001b[0;32m----> 5\u001b[0;31m     \u001b[0;32mfor\u001b[0m \u001b[0m_\u001b[0m \u001b[0;32min\u001b[0m \u001b[0mrange\u001b[0m\u001b[0;34m(\u001b[0m\u001b[0mn\u001b[0m\u001b[0;34m)\u001b[0m\u001b[0;34m:\u001b[0m\u001b[0;34m\u001b[0m\u001b[0;34m\u001b[0m\u001b[0m\n\u001b[0m\u001b[1;32m      6\u001b[0m         \u001b[0mprint\u001b[0m\u001b[0;34m(\u001b[0m\u001b[0;34m\"meow\"\u001b[0m\u001b[0;34m)\u001b[0m\u001b[0;34m\u001b[0m\u001b[0;34m\u001b[0m\u001b[0m\n\u001b[1;32m      7\u001b[0m \u001b[0;34m\u001b[0m\u001b[0m\n",
      "\u001b[0;31mTypeError\u001b[0m: 'str' object cannot be interpreted as an integer"
     ]
    }
   ],
   "source": [
    "# Demonstrates TypeError\n",
    "\n",
    "\n",
    "def meow(n):\n",
    "    for _ in range(n):\n",
    "        print(\"meow\")\n",
    "\n",
    "\n",
    "number = input(\"Number: \")\n",
    "meow(number)\n"
   ]
  },
  {
   "cell_type": "markdown",
   "id": "fd2975a0",
   "metadata": {},
   "source": [
    "### meows3.py\n",
    "type hint"
   ]
  },
  {
   "cell_type": "code",
   "execution_count": 13,
   "id": "34f551f4",
   "metadata": {},
   "outputs": [
    {
     "name": "stdout",
     "output_type": "stream",
     "text": [
      "Number: 3\n"
     ]
    },
    {
     "ename": "TypeError",
     "evalue": "'str' object cannot be interpreted as an integer",
     "output_type": "error",
     "traceback": [
      "\u001b[0;31m---------------------------------------------------------------------------\u001b[0m",
      "\u001b[0;31mTypeError\u001b[0m                                 Traceback (most recent call last)",
      "\u001b[0;32m/tmp/ipykernel_15970/2966622187.py\u001b[0m in \u001b[0;36m<module>\u001b[0;34m\u001b[0m\n\u001b[1;32m      8\u001b[0m \u001b[0;34m\u001b[0m\u001b[0m\n\u001b[1;32m      9\u001b[0m \u001b[0mnumber\u001b[0m \u001b[0;34m=\u001b[0m \u001b[0minput\u001b[0m\u001b[0;34m(\u001b[0m\u001b[0;34m\"Number: \"\u001b[0m\u001b[0;34m)\u001b[0m\u001b[0;34m\u001b[0m\u001b[0;34m\u001b[0m\u001b[0m\n\u001b[0;32m---> 10\u001b[0;31m \u001b[0mmeow\u001b[0m\u001b[0;34m(\u001b[0m\u001b[0mnumber\u001b[0m\u001b[0;34m)\u001b[0m\u001b[0;34m\u001b[0m\u001b[0;34m\u001b[0m\u001b[0m\n\u001b[0m",
      "\u001b[0;32m/tmp/ipykernel_15970/2966622187.py\u001b[0m in \u001b[0;36mmeow\u001b[0;34m(n)\u001b[0m\n\u001b[1;32m      3\u001b[0m \u001b[0;34m\u001b[0m\u001b[0m\n\u001b[1;32m      4\u001b[0m \u001b[0;32mdef\u001b[0m \u001b[0mmeow\u001b[0m\u001b[0;34m(\u001b[0m\u001b[0mn\u001b[0m\u001b[0;34m:\u001b[0m \u001b[0mint\u001b[0m\u001b[0;34m)\u001b[0m\u001b[0;34m:\u001b[0m\u001b[0;34m\u001b[0m\u001b[0;34m\u001b[0m\u001b[0m\n\u001b[0;32m----> 5\u001b[0;31m     \u001b[0;32mfor\u001b[0m \u001b[0m_\u001b[0m \u001b[0;32min\u001b[0m \u001b[0mrange\u001b[0m\u001b[0;34m(\u001b[0m\u001b[0mn\u001b[0m\u001b[0;34m)\u001b[0m\u001b[0;34m:\u001b[0m\u001b[0;34m\u001b[0m\u001b[0;34m\u001b[0m\u001b[0m\n\u001b[0m\u001b[1;32m      6\u001b[0m         \u001b[0mprint\u001b[0m\u001b[0;34m(\u001b[0m\u001b[0;34m\"meow\"\u001b[0m\u001b[0;34m)\u001b[0m\u001b[0;34m\u001b[0m\u001b[0;34m\u001b[0m\u001b[0m\n\u001b[1;32m      7\u001b[0m \u001b[0;34m\u001b[0m\u001b[0m\n",
      "\u001b[0;31mTypeError\u001b[0m: 'str' object cannot be interpreted as an integer"
     ]
    }
   ],
   "source": [
    "# Argument ... has incompatible type\n",
    "\n",
    "\n",
    "def meow(n: int):\n",
    "    for _ in range(n):\n",
    "        print(\"meow\")\n",
    "\n",
    "\n",
    "number = input(\"Number: \")\n",
    "meow(number)\n"
   ]
  },
  {
   "cell_type": "markdown",
   "id": "513532eb",
   "metadata": {},
   "source": [
    "### meows4"
   ]
  },
  {
   "cell_type": "code",
   "execution_count": 14,
   "id": "345c3f97",
   "metadata": {},
   "outputs": [
    {
     "name": "stdout",
     "output_type": "stream",
     "text": [
      "Number: 3\n"
     ]
    },
    {
     "ename": "TypeError",
     "evalue": "'str' object cannot be interpreted as an integer",
     "output_type": "error",
     "traceback": [
      "\u001b[0;31m---------------------------------------------------------------------------\u001b[0m",
      "\u001b[0;31mTypeError\u001b[0m                                 Traceback (most recent call last)",
      "\u001b[0;32m/tmp/ipykernel_15970/2751214871.py\u001b[0m in \u001b[0;36m<module>\u001b[0;34m\u001b[0m\n\u001b[1;32m      8\u001b[0m \u001b[0;34m\u001b[0m\u001b[0m\n\u001b[1;32m      9\u001b[0m \u001b[0mnumber\u001b[0m\u001b[0;34m:\u001b[0m \u001b[0mint\u001b[0m \u001b[0;34m=\u001b[0m \u001b[0minput\u001b[0m\u001b[0;34m(\u001b[0m\u001b[0;34m\"Number: \"\u001b[0m\u001b[0;34m)\u001b[0m\u001b[0;34m\u001b[0m\u001b[0;34m\u001b[0m\u001b[0m\n\u001b[0;32m---> 10\u001b[0;31m \u001b[0mmeow\u001b[0m\u001b[0;34m(\u001b[0m\u001b[0mnumber\u001b[0m\u001b[0;34m)\u001b[0m\u001b[0;34m\u001b[0m\u001b[0;34m\u001b[0m\u001b[0m\n\u001b[0m",
      "\u001b[0;32m/tmp/ipykernel_15970/2751214871.py\u001b[0m in \u001b[0;36mmeow\u001b[0;34m(n)\u001b[0m\n\u001b[1;32m      3\u001b[0m \u001b[0;34m\u001b[0m\u001b[0m\n\u001b[1;32m      4\u001b[0m \u001b[0;32mdef\u001b[0m \u001b[0mmeow\u001b[0m\u001b[0;34m(\u001b[0m\u001b[0mn\u001b[0m\u001b[0;34m:\u001b[0m \u001b[0mint\u001b[0m\u001b[0;34m)\u001b[0m\u001b[0;34m:\u001b[0m\u001b[0;34m\u001b[0m\u001b[0;34m\u001b[0m\u001b[0m\n\u001b[0;32m----> 5\u001b[0;31m     \u001b[0;32mfor\u001b[0m \u001b[0m_\u001b[0m \u001b[0;32min\u001b[0m \u001b[0mrange\u001b[0m\u001b[0;34m(\u001b[0m\u001b[0mn\u001b[0m\u001b[0;34m)\u001b[0m\u001b[0;34m:\u001b[0m\u001b[0;34m\u001b[0m\u001b[0;34m\u001b[0m\u001b[0m\n\u001b[0m\u001b[1;32m      6\u001b[0m         \u001b[0mprint\u001b[0m\u001b[0;34m(\u001b[0m\u001b[0;34m\"meow\"\u001b[0m\u001b[0;34m)\u001b[0m\u001b[0;34m\u001b[0m\u001b[0;34m\u001b[0m\u001b[0m\n\u001b[1;32m      7\u001b[0m \u001b[0;34m\u001b[0m\u001b[0m\n",
      "\u001b[0;31mTypeError\u001b[0m: 'str' object cannot be interpreted as an integer"
     ]
    }
   ],
   "source": [
    "# Incompatible types in assignment\n",
    "\n",
    "\n",
    "def meow(n: int):\n",
    "    for _ in range(n):\n",
    "        print(\"meow\")\n",
    "\n",
    "\n",
    "number: int = input(\"Number: \")\n",
    "meow(number)\n"
   ]
  },
  {
   "cell_type": "markdown",
   "id": "058d8d41",
   "metadata": {},
   "source": [
    "### meows5.py"
   ]
  },
  {
   "cell_type": "code",
   "execution_count": 16,
   "id": "5485172e",
   "metadata": {},
   "outputs": [
    {
     "name": "stdout",
     "output_type": "stream",
     "text": [
      "Number: 3\n",
      "meow\n",
      "meow\n",
      "meow\n"
     ]
    }
   ],
   "source": [
    "# Success\n",
    "\n",
    "\n",
    "def meow(n: int):\n",
    "    for _ in range(n):\n",
    "        print(\"meow\")\n",
    "\n",
    "\n",
    "number: int = int(input(\"Number: \"))\n",
    "meow(number)\n"
   ]
  },
  {
   "cell_type": "markdown",
   "id": "c1eb43ca",
   "metadata": {},
   "source": [
    "#### Q : "
   ]
  },
  {
   "cell_type": "markdown",
   "id": "c07ba525",
   "metadata": {},
   "source": []
  },
  {
   "cell_type": "markdown",
   "id": "3a87e550",
   "metadata": {},
   "source": [
    "#### Q:"
   ]
  },
  {
   "cell_type": "markdown",
   "id": "e401c544",
   "metadata": {},
   "source": []
  },
  {
   "cell_type": "markdown",
   "id": "d1ec565e",
   "metadata": {},
   "source": [
    "### meows6"
   ]
  },
  {
   "cell_type": "code",
   "execution_count": 15,
   "id": "2543722c",
   "metadata": {},
   "outputs": [
    {
     "name": "stdout",
     "output_type": "stream",
     "text": [
      "Number: 3\n",
      "meow\n",
      "meow\n",
      "meow\n",
      "None\n"
     ]
    }
   ],
   "source": [
    "# Prints None because mistakes meow as having a return value\n",
    "\n",
    "\n",
    "def meow(n: int):\n",
    "    for _ in range(n):\n",
    "        print(\"meow\")\n",
    "\n",
    "\n",
    "number: int = int(input(\"Number: \"))\n",
    "meows: str = meow(number)\n",
    "print(meows)\n"
   ]
  },
  {
   "cell_type": "markdown",
   "id": "4d575ec7",
   "metadata": {},
   "source": [
    "### meows7.py"
   ]
  },
  {
   "cell_type": "markdown",
   "id": "f8c083f5",
   "metadata": {},
   "source": []
  },
  {
   "cell_type": "code",
   "execution_count": 17,
   "id": "20333bac",
   "metadata": {},
   "outputs": [
    {
     "name": "stdout",
     "output_type": "stream",
     "text": [
      "Number: 3\n",
      "meow\n",
      "meow\n",
      "meow\n",
      "None\n"
     ]
    }
   ],
   "source": [
    "# Annotates return value, ... does not return a value\n",
    "\n",
    "\n",
    "def meow(n: int) -> None:\n",
    "    for _ in range(n):\n",
    "        print(\"meow\")\n",
    "\n",
    "\n",
    "number: int = int(input(\"Number: \"))\n",
    "meows: str = meow(number)\n",
    "print(meows)\n"
   ]
  },
  {
   "cell_type": "markdown",
   "id": "9f4aa09f",
   "metadata": {},
   "source": [
    "### meows8"
   ]
  },
  {
   "cell_type": "code",
   "execution_count": 18,
   "id": "d2251f0a",
   "metadata": {},
   "outputs": [
    {
     "name": "stdout",
     "output_type": "stream",
     "text": [
      "Number: 3\n",
      "meow\n",
      "meow\n",
      "meow\n"
     ]
    }
   ],
   "source": [
    "# Success\n",
    "\n",
    "\n",
    "def meow(n: int) -> str:\n",
    "    return \"meow\\n\" * n\n",
    "\n",
    "\n",
    "number: int = int(input(\"Number: \"))\n",
    "meows: str = meow(number)\n",
    "print(meows, end=\"\")"
   ]
  },
  {
   "cell_type": "markdown",
   "id": "afffaf6d",
   "metadata": {},
   "source": [
    "#### Q:  Why str multiplied return a str?"
   ]
  },
  {
   "cell_type": "code",
   "execution_count": null,
   "id": "e49513f2",
   "metadata": {},
   "outputs": [],
   "source": []
  },
  {
   "cell_type": "markdown",
   "id": "f287faa9",
   "metadata": {},
   "source": [
    "#### Q type hint keyword `int` ?"
   ]
  },
  {
   "cell_type": "code",
   "execution_count": null,
   "id": "d627a849",
   "metadata": {},
   "outputs": [],
   "source": []
  },
  {
   "cell_type": "markdown",
   "id": "9c920a85",
   "metadata": {},
   "source": [
    "## docstrings"
   ]
  },
  {
   "cell_type": "markdown",
   "id": "75bdb032",
   "metadata": {},
   "source": [
    "### meows9.py"
   ]
  },
  {
   "cell_type": "code",
   "execution_count": 19,
   "id": "12e4fc3f",
   "metadata": {},
   "outputs": [
    {
     "name": "stdout",
     "output_type": "stream",
     "text": [
      "Number: 3\n",
      "meow\n",
      "meow\n",
      "meow\n"
     ]
    }
   ],
   "source": [
    "# Adds docstring to function.\n",
    "\n",
    "\n",
    "def meow(n):\n",
    "    \"\"\"Meow n times.\"\"\"\n",
    "    return \"meow\\n\" * n\n",
    "\n",
    "\n",
    "number = int(input(\"Number: \"))\n",
    "meows = meow(number)\n",
    "print(meows, end=\"\")\n"
   ]
  },
  {
   "cell_type": "code",
   "execution_count": 20,
   "id": "482b1492",
   "metadata": {},
   "outputs": [
    {
     "name": "stdout",
     "output_type": "stream",
     "text": [
      "Number: 3\n",
      "meow\n",
      "meow\n",
      "meow\n"
     ]
    }
   ],
   "source": [
    "# Uses Sphinx docstring format\n",
    "\n",
    "\n",
    "def meow(n):\n",
    "    \"\"\"\n",
    "    Meow n times.\n",
    "\n",
    "    :param n: Number of times to meow\n",
    "    :type n: int\n",
    "    :raise TypeError: If n is not an int\n",
    "    :return: A string of n meows, one per line\n",
    "    :rtype: str\n",
    "    \"\"\"\n",
    "    return \"meow\\n\" * n\n",
    "\n",
    "\n",
    "number = int(input(\"Number: \"))\n",
    "meows = meow(number)\n",
    "print(meows, end=\"\")\n"
   ]
  },
  {
   "cell_type": "markdown",
   "id": "b01d5fb2",
   "metadata": {},
   "source": [
    "above document method is convention which can convert those docstring to pdf and markdown file."
   ]
  },
  {
   "cell_type": "markdown",
   "id": "a544b84b",
   "metadata": {},
   "source": [
    "#### Q: "
   ]
  },
  {
   "cell_type": "code",
   "execution_count": null,
   "id": "9f47a2bb",
   "metadata": {},
   "outputs": [],
   "source": []
  },
  {
   "cell_type": "markdown",
   "id": "7c660a90",
   "metadata": {},
   "source": [
    "#### Q : "
   ]
  },
  {
   "cell_type": "code",
   "execution_count": null,
   "id": "c1b078f7",
   "metadata": {},
   "outputs": [],
   "source": []
  },
  {
   "cell_type": "markdown",
   "id": "e2dfe028",
   "metadata": {},
   "source": [
    "#### Q: python `set` fucntion? It is itetable"
   ]
  },
  {
   "cell_type": "markdown",
   "id": "5c7e2b9b",
   "metadata": {},
   "source": []
  },
  {
   "cell_type": "markdown",
   "id": "f5e9824d",
   "metadata": {},
   "source": [
    "#### Q : Is it just convention to use upper case to represent constant?"
   ]
  },
  {
   "cell_type": "markdown",
   "id": "8c57ce90",
   "metadata": {},
   "source": [
    "Yes, in Python, no mechanism garentee the constant, only upper cased regular varibale to represent constants."
   ]
  },
  {
   "cell_type": "markdown",
   "id": "78f5c082",
   "metadata": {},
   "source": [
    "#### Q: Can we have own docstring convention?\n"
   ]
  },
  {
   "cell_type": "markdown",
   "id": "4e576232",
   "metadata": {},
   "source": [
    "Yes, but usually we don't, google pandas sphinx has its own conventions."
   ]
  },
  {
   "cell_type": "markdown",
   "id": "a8235869",
   "metadata": {},
   "source": [
    "#### Q: Can we have multiple init function of classes? "
   ]
  },
  {
   "cell_type": "markdown",
   "id": "67fabd21",
   "metadata": {},
   "source": []
  },
  {
   "cell_type": "markdown",
   "id": "89b57cd2",
   "metadata": {},
   "source": [
    "#### Q:  `->` return type hint?"
   ]
  },
  {
   "cell_type": "markdown",
   "id": "6754a6ef",
   "metadata": {},
   "source": [
    "### meows11.py"
   ]
  },
  {
   "cell_type": "code",
   "execution_count": 21,
   "id": "e603b2ef",
   "metadata": {},
   "outputs": [
    {
     "name": "stdout",
     "output_type": "stream",
     "text": [
      "usage: meows11.py [-n NUMBER]\n"
     ]
    }
   ],
   "source": [
    "# Uses command-line argument\n",
    "\n",
    "import sys\n",
    "\n",
    "if len(sys.argv) == 1:\n",
    "    print(\"meow\")\n",
    "elif len(sys.argv) == 3 and sys.argv[1] == \"-n\":\n",
    "    n = int(sys.argv[2])\n",
    "    for _ in range(n):\n",
    "        print(\"meow\")\n",
    "else:\n",
    "    print(\"usage: meows11.py [-n NUMBER]\")\n"
   ]
  },
  {
   "cell_type": "markdown",
   "id": "d2c1c4af",
   "metadata": {},
   "source": [
    "## argparse"
   ]
  },
  {
   "cell_type": "markdown",
   "id": "b5ca9e55",
   "metadata": {},
   "source": [
    "How to handle so many command line arguments, argparse"
   ]
  },
  {
   "cell_type": "markdown",
   "id": "ddb6ee8e",
   "metadata": {},
   "source": [
    "### meows12.py"
   ]
  },
  {
   "cell_type": "code",
   "execution_count": 22,
   "id": "4b287e02",
   "metadata": {},
   "outputs": [
    {
     "name": "stderr",
     "output_type": "stream",
     "text": [
      "usage: ipykernel_launcher.py [-h] [-n N]\n",
      "ipykernel_launcher.py: error: unrecognized arguments: -f /home/richard/.local/share/jupyter/runtime/kernel-e8792023-4a9e-4cae-8d50-80df0ea0980a.json\n"
     ]
    },
    {
     "ename": "SystemExit",
     "evalue": "2",
     "output_type": "error",
     "traceback": [
      "An exception has occurred, use %tb to see the full traceback.\n",
      "\u001b[0;31mSystemExit\u001b[0m\u001b[0;31m:\u001b[0m 2\n"
     ]
    },
    {
     "name": "stderr",
     "output_type": "stream",
     "text": [
      "/home/richard/anaconda3/lib/python3.9/site-packages/IPython/core/interactiveshell.py:3452: UserWarning: To exit: use 'exit', 'quit', or Ctrl-D.\n",
      "  warn(\"To exit: use 'exit', 'quit', or Ctrl-D.\", stacklevel=1)\n"
     ]
    }
   ],
   "source": [
    "# Uses command-line argument\n",
    "\n",
    "import argparse\n",
    "\n",
    "parser = argparse.ArgumentParser()\n",
    "parser.add_argument(\"-n\")\n",
    "args = parser.parse_args()\n",
    "\n",
    "for _ in range(int(args.n)):\n",
    "    print(\"meow\")\n"
   ]
  },
  {
   "cell_type": "markdown",
   "id": "09a8b339",
   "metadata": {},
   "source": [
    "#### meows13.py"
   ]
  },
  {
   "cell_type": "code",
   "execution_count": 23,
   "id": "cc9e0401",
   "metadata": {},
   "outputs": [
    {
     "name": "stderr",
     "output_type": "stream",
     "text": [
      "usage: ipykernel_launcher.py [-h] [-n N]\n",
      "ipykernel_launcher.py: error: unrecognized arguments: -f /home/richard/.local/share/jupyter/runtime/kernel-e8792023-4a9e-4cae-8d50-80df0ea0980a.json\n"
     ]
    },
    {
     "ename": "SystemExit",
     "evalue": "2",
     "output_type": "error",
     "traceback": [
      "An exception has occurred, use %tb to see the full traceback.\n",
      "\u001b[0;31mSystemExit\u001b[0m\u001b[0;31m:\u001b[0m 2\n"
     ]
    }
   ],
   "source": [
    "# Adds description, help\n",
    "\n",
    "import argparse\n",
    "\n",
    "parser = argparse.ArgumentParser(description=\"Meow like a cat\")\n",
    "parser.add_argument(\"-n\", help=\"number of times to meow\")\n",
    "args = parser.parse_args()\n",
    "\n",
    "for _ in range(int(args.n)):\n",
    "    print(\"meow\")\n"
   ]
  },
  {
   "cell_type": "markdown",
   "id": "ed327d18",
   "metadata": {},
   "source": [
    "### meows14.py"
   ]
  },
  {
   "cell_type": "code",
   "execution_count": 24,
   "id": "2ff98118",
   "metadata": {},
   "outputs": [
    {
     "name": "stderr",
     "output_type": "stream",
     "text": [
      "usage: ipykernel_launcher.py [-h] [-n N]\n",
      "ipykernel_launcher.py: error: unrecognized arguments: -f /home/richard/.local/share/jupyter/runtime/kernel-e8792023-4a9e-4cae-8d50-80df0ea0980a.json\n"
     ]
    },
    {
     "ename": "SystemExit",
     "evalue": "2",
     "output_type": "error",
     "traceback": [
      "An exception has occurred, use %tb to see the full traceback.\n",
      "\u001b[0;31mSystemExit\u001b[0m\u001b[0;31m:\u001b[0m 2\n"
     ]
    }
   ],
   "source": [
    "# Adds default, type; removes int()\n",
    "\n",
    "import argparse\n",
    "\n",
    "parser = argparse.ArgumentParser(description=\"Meow like a cat\")\n",
    "parser.add_argument(\"-n\", default=1, help=\"number of times to meow\", type=int)\n",
    "args = parser.parse_args()\n",
    "\n",
    "for _ in range(args.n):\n",
    "    print(\"meow\")\n"
   ]
  },
  {
   "cell_type": "markdown",
   "id": "93edad95",
   "metadata": {},
   "source": [
    "#### Q  What does `arg.n` contains?"
   ]
  },
  {
   "cell_type": "markdown",
   "id": "b5bfe6f2",
   "metadata": {},
   "source": [
    "It contains the integer after the user typed argument `-n`"
   ]
  },
  {
   "cell_type": "markdown",
   "id": "f1384db6",
   "metadata": {},
   "source": [
    "#### Q: What if user does type a number after `-n`"
   ]
  },
  {
   "cell_type": "code",
   "execution_count": 32,
   "id": "64906a4d",
   "metadata": {},
   "outputs": [
    {
     "name": "stdout",
     "output_type": "stream",
     "text": [
      "usage: meows14.py [-h] [-n N]\r\n",
      "meows14.py: error: argument -n: expected one argument\r\n"
     ]
    }
   ],
   "source": [
    "!python ../source\\ code/src9/meows14.py -n \n"
   ]
  },
  {
   "cell_type": "markdown",
   "id": "b79cee80",
   "metadata": {},
   "source": [
    "some errors defined by argpaser package."
   ]
  },
  {
   "cell_type": "markdown",
   "id": "569329ea",
   "metadata": {},
   "source": [
    "## unpacking `*` `**`"
   ]
  },
  {
   "cell_type": "code",
   "execution_count": 31,
   "id": "0a6c28e5",
   "metadata": {},
   "outputs": [
    {
     "name": "stdout",
     "output_type": "stream",
     "text": [
      "What's your name? David Malan\n",
      "hello, David\n"
     ]
    }
   ],
   "source": [
    "# Unpacks a list\n",
    "\n",
    "first, _ = input(\"What's your name? \").split(\" \")\n",
    "print(f\"hello, {first}\")\n"
   ]
  },
  {
   "cell_type": "markdown",
   "id": "4880a3e9",
   "metadata": {},
   "source": [
    "### unpack1.py"
   ]
  },
  {
   "cell_type": "code",
   "execution_count": 33,
   "id": "e738bb97",
   "metadata": {},
   "outputs": [
    {
     "name": "stdout",
     "output_type": "stream",
     "text": [
      "50775 Knuts\n"
     ]
    }
   ],
   "source": [
    "# Passes positional arguments as usual\n",
    "# https://harrypotter.fandom.com/wiki/Wizarding_currency\n",
    "\n",
    "\n",
    "def total(galleons, sickles, knuts):\n",
    "    return (galleons * 17 + sickles) * 29 + knuts\n",
    "\n",
    "\n",
    "print(total(100, 50, 25), \"Knuts\")\n"
   ]
  },
  {
   "cell_type": "markdown",
   "id": "781a0da8",
   "metadata": {},
   "source": [
    "### unpack2.py"
   ]
  },
  {
   "cell_type": "code",
   "execution_count": 34,
   "id": "c9d3a104",
   "metadata": {},
   "outputs": [
    {
     "name": "stdout",
     "output_type": "stream",
     "text": [
      "50775 Knuts\n"
     ]
    }
   ],
   "source": [
    "# Indexes into list\n",
    "\n",
    "\n",
    "def total(galleons, sickles, knuts):\n",
    "    return (galleons * 17 + sickles) * 29 + knuts\n",
    "\n",
    "\n",
    "coins = [100, 50, 25]\n",
    "\n",
    "print(total(coins[0], coins[1], coins[2]), \"Knuts\")\n"
   ]
  },
  {
   "cell_type": "markdown",
   "id": "356094aa",
   "metadata": {},
   "source": [
    "## unpacking"
   ]
  },
  {
   "cell_type": "markdown",
   "id": "a0e197d1",
   "metadata": {},
   "source": [
    "### unpack3.py"
   ]
  },
  {
   "cell_type": "code",
   "execution_count": 35,
   "id": "5caedcc3",
   "metadata": {},
   "outputs": [
    {
     "name": "stdout",
     "output_type": "stream",
     "text": [
      "50775 Knuts\n"
     ]
    }
   ],
   "source": [
    "# Unpacks a list\n",
    "\n",
    "\n",
    "def total(galleons, sickles, knuts):\n",
    "    return (galleons * 17 + sickles) * 29 + knuts\n",
    "\n",
    "\n",
    "coins = [100, 50, 25]\n",
    "\n",
    "print(total(*coins), \"Knuts\")"
   ]
  },
  {
   "cell_type": "markdown",
   "id": "fa8b2468",
   "metadata": {},
   "source": [
    "#### Q: Does it work with  `dict` `tuple` `set`?"
   ]
  },
  {
   "cell_type": "markdown",
   "id": "7ea76226",
   "metadata": {},
   "source": [
    "No `set`"
   ]
  },
  {
   "cell_type": "markdown",
   "id": "fa65effb",
   "metadata": {},
   "source": [
    "#### Q:"
   ]
  },
  {
   "cell_type": "markdown",
   "id": "08122067",
   "metadata": {},
   "source": []
  },
  {
   "cell_type": "markdown",
   "id": "10038907",
   "metadata": {},
   "source": [
    "#### Q : what if list have 4  elements?"
   ]
  },
  {
   "cell_type": "code",
   "execution_count": 36,
   "id": "b867ad5e",
   "metadata": {},
   "outputs": [
    {
     "ename": "TypeError",
     "evalue": "total() takes 3 positional arguments but 4 were given",
     "output_type": "error",
     "traceback": [
      "\u001b[0;31m---------------------------------------------------------------------------\u001b[0m",
      "\u001b[0;31mTypeError\u001b[0m                                 Traceback (most recent call last)",
      "\u001b[0;32m/tmp/ipykernel_15970/1767654863.py\u001b[0m in \u001b[0;36m<module>\u001b[0;34m\u001b[0m\n\u001b[1;32m      8\u001b[0m \u001b[0mcoins\u001b[0m \u001b[0;34m=\u001b[0m \u001b[0;34m[\u001b[0m\u001b[0;36m100\u001b[0m\u001b[0;34m,\u001b[0m \u001b[0;36m50\u001b[0m\u001b[0;34m,\u001b[0m \u001b[0;36m25\u001b[0m\u001b[0;34m,\u001b[0m \u001b[0;36m10\u001b[0m\u001b[0;34m]\u001b[0m\u001b[0;34m\u001b[0m\u001b[0;34m\u001b[0m\u001b[0m\n\u001b[1;32m      9\u001b[0m \u001b[0;34m\u001b[0m\u001b[0m\n\u001b[0;32m---> 10\u001b[0;31m \u001b[0mprint\u001b[0m\u001b[0;34m(\u001b[0m\u001b[0mtotal\u001b[0m\u001b[0;34m(\u001b[0m\u001b[0;34m*\u001b[0m\u001b[0mcoins\u001b[0m\u001b[0;34m)\u001b[0m\u001b[0;34m,\u001b[0m \u001b[0;34m\"Knuts\"\u001b[0m\u001b[0;34m)\u001b[0m\u001b[0;34m\u001b[0m\u001b[0;34m\u001b[0m\u001b[0m\n\u001b[0m",
      "\u001b[0;31mTypeError\u001b[0m: total() takes 3 positional arguments but 4 were given"
     ]
    }
   ],
   "source": [
    "# Unpacks a list\n",
    "\n",
    "\n",
    "def total(galleons, sickles, knuts):\n",
    "    return (galleons * 17 + sickles) * 29 + knuts\n",
    "\n",
    "\n",
    "coins = [100, 50, 25, 10]\n",
    "\n",
    "print(total(*coins), \"Knuts\")"
   ]
  },
  {
   "cell_type": "markdown",
   "id": "58115ed8",
   "metadata": {},
   "source": [
    "### unpack4.py\""
   ]
  },
  {
   "cell_type": "code",
   "execution_count": 37,
   "id": "67a1fb88",
   "metadata": {},
   "outputs": [
    {
     "name": "stdout",
     "output_type": "stream",
     "text": [
      "50775 Knuts\n"
     ]
    }
   ],
   "source": [
    "# Passes named arguments as usual\n",
    "\n",
    "\n",
    "def total(galleons, sickles, knuts):\n",
    "    return (galleons * 17 + sickles) * 29 + knuts\n",
    "\n",
    "\n",
    "print(total(galleons=100, sickles=50, knuts=25), \"Knuts\")"
   ]
  },
  {
   "cell_type": "markdown",
   "id": "dc79467f",
   "metadata": {},
   "source": [
    "## unpacking works with `dict` `**`"
   ]
  },
  {
   "cell_type": "markdown",
   "id": "ae8e2f4f",
   "metadata": {},
   "source": [
    "### unpack5.py"
   ]
  },
  {
   "cell_type": "code",
   "execution_count": 38,
   "id": "422ef647",
   "metadata": {},
   "outputs": [
    {
     "name": "stdout",
     "output_type": "stream",
     "text": [
      "50775 Knuts\n"
     ]
    }
   ],
   "source": [
    "# Indexes into a dict\n",
    "\n",
    "\n",
    "def total(galleons, sickles, knuts):\n",
    "    return (galleons * 17 + sickles) * 29 + knuts\n",
    "\n",
    "\n",
    "coins = {\"galleons\": 100, \"sickles\": 50, \"knuts\": 25}\n",
    "\n",
    "print(total(coins[\"galleons\"], coins[\"sickles\"], coins[\"knuts\"]), \"Knuts\")"
   ]
  },
  {
   "cell_type": "markdown",
   "id": "24c0030d",
   "metadata": {},
   "source": [
    "### unpack6.py"
   ]
  },
  {
   "cell_type": "code",
   "execution_count": 39,
   "id": "40800f58",
   "metadata": {},
   "outputs": [
    {
     "name": "stdout",
     "output_type": "stream",
     "text": [
      "50775 Knuts\n"
     ]
    }
   ],
   "source": [
    "# Unpacks a dict\n",
    "\n",
    "\n",
    "def total(galleons, sickles, knuts):\n",
    "    return (galleons * 17 + sickles) * 29 + knuts\n",
    "\n",
    "\n",
    "coins = {\"galleons\": 100, \"sickles\": 50, \"knuts\": 25}\n",
    "\n",
    "print(total(**coins), \"Knuts\")\n"
   ]
  },
  {
   "cell_type": "markdown",
   "id": "c5d858c6",
   "metadata": {},
   "source": [
    "#### Q:  Can we have more than 3 key value pairs?"
   ]
  },
  {
   "cell_type": "code",
   "execution_count": 40,
   "id": "80b5a911",
   "metadata": {},
   "outputs": [
    {
     "ename": "TypeError",
     "evalue": "total() got an unexpected keyword argument 'pennies'",
     "output_type": "error",
     "traceback": [
      "\u001b[0;31m---------------------------------------------------------------------------\u001b[0m",
      "\u001b[0;31mTypeError\u001b[0m                                 Traceback (most recent call last)",
      "\u001b[0;32m/tmp/ipykernel_15970/4266902859.py\u001b[0m in \u001b[0;36m<module>\u001b[0;34m\u001b[0m\n\u001b[1;32m      8\u001b[0m \u001b[0mcoins\u001b[0m \u001b[0;34m=\u001b[0m \u001b[0;34m{\u001b[0m\u001b[0;34m\"galleons\"\u001b[0m\u001b[0;34m:\u001b[0m \u001b[0;36m100\u001b[0m\u001b[0;34m,\u001b[0m \u001b[0;34m\"sickles\"\u001b[0m\u001b[0;34m:\u001b[0m \u001b[0;36m50\u001b[0m\u001b[0;34m,\u001b[0m \u001b[0;34m\"knuts\"\u001b[0m\u001b[0;34m:\u001b[0m \u001b[0;36m25\u001b[0m\u001b[0;34m,\u001b[0m \u001b[0;34m\"pennies\"\u001b[0m\u001b[0;34m:\u001b[0m\u001b[0;36m1\u001b[0m\u001b[0;34m}\u001b[0m\u001b[0;34m\u001b[0m\u001b[0;34m\u001b[0m\u001b[0m\n\u001b[1;32m      9\u001b[0m \u001b[0;34m\u001b[0m\u001b[0m\n\u001b[0;32m---> 10\u001b[0;31m \u001b[0mprint\u001b[0m\u001b[0;34m(\u001b[0m\u001b[0mtotal\u001b[0m\u001b[0;34m(\u001b[0m\u001b[0;34m**\u001b[0m\u001b[0mcoins\u001b[0m\u001b[0;34m)\u001b[0m\u001b[0;34m,\u001b[0m \u001b[0;34m\"Knuts\"\u001b[0m\u001b[0;34m)\u001b[0m\u001b[0;34m\u001b[0m\u001b[0;34m\u001b[0m\u001b[0m\n\u001b[0m",
      "\u001b[0;31mTypeError\u001b[0m: total() got an unexpected keyword argument 'pennies'"
     ]
    }
   ],
   "source": [
    "# Unpacks a dict\n",
    "\n",
    "\n",
    "def total(galleons, sickles, knuts):\n",
    "    return (galleons * 17 + sickles) * 29 + knuts\n",
    "\n",
    "\n",
    "coins = {\"galleons\": 100, \"sickles\": 50, \"knuts\": 25, \"pennies\":1}\n",
    "\n",
    "print(total(**coins), \"Knuts\")\n"
   ]
  },
  {
   "cell_type": "markdown",
   "id": "aebff3a8",
   "metadata": {},
   "source": [
    "#### Q: Can we have default values?"
   ]
  },
  {
   "cell_type": "markdown",
   "id": "1d9bef65",
   "metadata": {},
   "source": []
  },
  {
   "cell_type": "markdown",
   "id": "066d6463",
   "metadata": {},
   "source": [
    "## variable number arguments `*args` `**kwargs` "
   ]
  },
  {
   "cell_type": "markdown",
   "id": "02bff440",
   "metadata": {},
   "source": [
    "### unpack7.py"
   ]
  },
  {
   "cell_type": "code",
   "execution_count": 41,
   "id": "5f520b63",
   "metadata": {},
   "outputs": [
    {
     "name": "stdout",
     "output_type": "stream",
     "text": [
      "Positional: (100, 50, 25)\n"
     ]
    }
   ],
   "source": [
    "# Prints positional arguments\n",
    "\n",
    "\n",
    "def f(*args, **kwargs):\n",
    "    print(\"Positional:\", args)\n",
    "\n",
    "\n",
    "f(100, 50, 25)\n"
   ]
  },
  {
   "cell_type": "markdown",
   "id": "63d42dad",
   "metadata": {},
   "source": [
    "### unpack8.py"
   ]
  },
  {
   "cell_type": "code",
   "execution_count": 43,
   "id": "9d47f4d4",
   "metadata": {},
   "outputs": [
    {
     "name": "stdout",
     "output_type": "stream",
     "text": [
      "Named: {'galleons': 100, 'sickles': 50, 'knuts': 25}\n"
     ]
    }
   ],
   "source": [
    "# Prints named arguments\n",
    "\n",
    "\n",
    "def f(*args, **kwargs):\n",
    "    print(\"Named:\", kwargs)\n",
    "\n",
    "\n",
    "f(galleons=100, sickles=50, knuts=25)\n"
   ]
  },
  {
   "cell_type": "markdown",
   "id": "0700de68",
   "metadata": {},
   "source": [
    "#### Q: What if pass a list to print()?\n"
   ]
  },
  {
   "cell_type": "code",
   "execution_count": null,
   "id": "147616d0",
   "metadata": {},
   "outputs": [],
   "source": []
  },
  {
   "cell_type": "markdown",
   "id": "6febc4fa",
   "metadata": {},
   "source": [
    "#### Q:"
   ]
  },
  {
   "cell_type": "code",
   "execution_count": null,
   "id": "43397986",
   "metadata": {},
   "outputs": [],
   "source": []
  },
  {
   "cell_type": "markdown",
   "id": "8b48095f",
   "metadata": {},
   "source": [
    "## map"
   ]
  },
  {
   "cell_type": "markdown",
   "id": "dce90353",
   "metadata": {},
   "source": [
    "### yell0.py"
   ]
  },
  {
   "cell_type": "code",
   "execution_count": 44,
   "id": "dc56d11d",
   "metadata": {},
   "outputs": [
    {
     "name": "stdout",
     "output_type": "stream",
     "text": [
      "THIS IS CS50\n"
     ]
    }
   ],
   "source": [
    "# Prints a word in uppercase\n",
    "\n",
    "\n",
    "def main():\n",
    "    yell(\"This is CS50\")\n",
    "\n",
    "\n",
    "def yell(word):\n",
    "    print(word.upper())\n",
    "\n",
    "\n",
    "if __name__ == \"__main__\":\n",
    "    main()\n"
   ]
  },
  {
   "cell_type": "markdown",
   "id": "02f7ee7b",
   "metadata": {},
   "source": [
    "### yell1.py"
   ]
  },
  {
   "cell_type": "code",
   "execution_count": 45,
   "id": "d2956100",
   "metadata": {},
   "outputs": [
    {
     "name": "stdout",
     "output_type": "stream",
     "text": [
      "THIS IS CS50\n"
     ]
    }
   ],
   "source": [
    "# Passes a list\n",
    "\n",
    "\n",
    "def main():\n",
    "    yell([\"This\", \"is\", \"CS50\"])\n",
    "\n",
    "\n",
    "def yell(words):\n",
    "    uppercased = []\n",
    "    for word in words:\n",
    "        uppercased.append(word.upper())\n",
    "    print(*uppercased)\n",
    "\n",
    "\n",
    "if __name__ == \"__main__\":\n",
    "    main()\n"
   ]
  },
  {
   "cell_type": "markdown",
   "id": "e4b7243d",
   "metadata": {},
   "source": [
    "### yell3.py"
   ]
  },
  {
   "cell_type": "code",
   "execution_count": 46,
   "id": "8431ca70",
   "metadata": {},
   "outputs": [
    {
     "name": "stdout",
     "output_type": "stream",
     "text": [
      "THIS IS CS50\n"
     ]
    }
   ],
   "source": [
    "# Uses map\n",
    "\n",
    "\n",
    "def main():\n",
    "    yell(\"This\", \"is\", \"CS50\")\n",
    "\n",
    "\n",
    "def yell(*words):\n",
    "    uppercased = map(str.upper, words)\n",
    "    print(*uppercased)\n",
    "\n",
    "\n",
    "if __name__ == \"__main__\":\n",
    "    main()\n"
   ]
  },
  {
   "cell_type": "markdown",
   "id": "1478f504",
   "metadata": {},
   "source": [
    "## list comprehension"
   ]
  },
  {
   "cell_type": "code",
   "execution_count": 47,
   "id": "7229d7f5",
   "metadata": {},
   "outputs": [
    {
     "name": "stdout",
     "output_type": "stream",
     "text": [
      "THIS IS CS50\n"
     ]
    }
   ],
   "source": [
    "# Uses list comprehension\n",
    "\n",
    "\n",
    "def main():\n",
    "    yell(\"This\", \"is\", \"CS50\")\n",
    "\n",
    "\n",
    "def yell(*words):\n",
    "    uppercased = [arg.upper() for arg in words]\n",
    "    print(*uppercased)\n",
    "\n",
    "\n",
    "if __name__ == \"__main__\":\n",
    "    main()\n"
   ]
  },
  {
   "cell_type": "markdown",
   "id": "367e0bb2",
   "metadata": {},
   "source": [
    "#### Q: can we do conditional "
   ]
  },
  {
   "cell_type": "markdown",
   "id": "719172bc",
   "metadata": {},
   "source": []
  },
  {
   "cell_type": "markdown",
   "id": "6aea7f2b",
   "metadata": {},
   "source": [
    "#### Q "
   ]
  },
  {
   "cell_type": "markdown",
   "id": "56f04f8d",
   "metadata": {},
   "source": []
  },
  {
   "cell_type": "markdown",
   "id": "7e687d84",
   "metadata": {},
   "source": [
    "## filter with list comprehension and conditional statement"
   ]
  },
  {
   "cell_type": "markdown",
   "id": "dd9bba65",
   "metadata": {},
   "source": [
    "### gryffindors0.py"
   ]
  },
  {
   "cell_type": "code",
   "execution_count": 49,
   "id": "83056c63",
   "metadata": {},
   "outputs": [
    {
     "name": "stdout",
     "output_type": "stream",
     "text": [
      "Harry\n",
      "Hermione\n",
      "Ron\n"
     ]
    }
   ],
   "source": [
    "# Filters by house using loop\n",
    "\n",
    "students = [\n",
    "    {\"name\": \"Hermione\", \"house\": \"Gryffindor\"},\n",
    "    {\"name\": \"Harry\", \"house\": \"Gryffindor\"},\n",
    "    {\"name\": \"Ron\", \"house\": \"Gryffindor\"},\n",
    "    {\"name\": \"Draco\", \"house\": \"Slytherin\"},\n",
    "]\n",
    "\n",
    "gryffindors = []\n",
    "for student in students:\n",
    "    if student[\"house\"] == \"Gryffindor\":\n",
    "        gryffindors.append(student[\"name\"])\n",
    "\n",
    "for gryffindor in sorted(gryffindors):\n",
    "    print(gryffindor)\n"
   ]
  },
  {
   "cell_type": "markdown",
   "id": "294e9aee",
   "metadata": {},
   "source": [
    "### gryffindors1.py"
   ]
  },
  {
   "cell_type": "code",
   "execution_count": 48,
   "id": "628b08f9",
   "metadata": {},
   "outputs": [
    {
     "name": "stdout",
     "output_type": "stream",
     "text": [
      "Harry\n",
      "Hermione\n",
      "Ron\n"
     ]
    }
   ],
   "source": [
    "# Filters by house using list comprehension\n",
    "\n",
    "students = [\n",
    "    {\"name\": \"Hermione\", \"house\": \"Gryffindor\"},\n",
    "    {\"name\": \"Harry\", \"house\": \"Gryffindor\"},\n",
    "    {\"name\": \"Ron\", \"house\": \"Gryffindor\"},\n",
    "    {\"name\": \"Draco\", \"house\": \"Slytherin\"},\n",
    "]\n",
    "\n",
    "gryffindors = [\n",
    "    student[\"name\"] for student in students if student[\"house\"] == \"Gryffindor\"\n",
    "]\n",
    "\n",
    "for gryffindor in sorted(gryffindors):\n",
    "    print(gryffindor)\n"
   ]
  },
  {
   "cell_type": "markdown",
   "id": "1ac86f1c",
   "metadata": {},
   "source": [
    "### gryffindors2.py"
   ]
  },
  {
   "cell_type": "code",
   "execution_count": 50,
   "id": "c03b7aa6",
   "metadata": {},
   "outputs": [
    {
     "name": "stdout",
     "output_type": "stream",
     "text": [
      "Harry\n",
      "Hermione\n",
      "Ron\n"
     ]
    }
   ],
   "source": [
    "# Uses filter and key with lambda\n",
    "\n",
    "students = [\n",
    "    {\"name\": \"Hermione\", \"house\": \"Gryffindor\"},\n",
    "    {\"name\": \"Harry\", \"house\": \"Gryffindor\"},\n",
    "    {\"name\": \"Ron\", \"house\": \"Gryffindor\"},\n",
    "    {\"name\": \"Draco\", \"house\": \"Slytherin\"},\n",
    "]\n",
    "\n",
    "\n",
    "def is_gryffindor(s):\n",
    "    return s[\"house\"] == \"Gryffindor\"\n",
    "\n",
    "\n",
    "gryffindors = filter(is_gryffindor, students)\n",
    "\n",
    "for gryffindor in sorted(gryffindors, key=lambda s: s[\"name\"]):\n",
    "    print(gryffindor[\"name\"])"
   ]
  },
  {
   "cell_type": "markdown",
   "id": "2b483117",
   "metadata": {},
   "source": [
    "### gryffindors3.py"
   ]
  },
  {
   "cell_type": "code",
   "execution_count": 51,
   "id": "24ce47d9",
   "metadata": {},
   "outputs": [
    {
     "name": "stdout",
     "output_type": "stream",
     "text": [
      "Harry\n",
      "Hermione\n",
      "Ron\n"
     ]
    }
   ],
   "source": [
    "# Uses filter with lambda\n",
    "\n",
    "students = [\n",
    "    {\"name\": \"Hermione\", \"house\": \"Gryffindor\"},\n",
    "    {\"name\": \"Harry\", \"house\": \"Gryffindor\"},\n",
    "    {\"name\": \"Ron\", \"house\": \"Gryffindor\"},\n",
    "    {\"name\": \"Draco\", \"house\": \"Slytherin\"},\n",
    "]\n",
    "\n",
    "\n",
    "gryffindors = filter(lambda s: s[\"house\"] == \"Gryffindor\", students)\n",
    "\n",
    "for gryffindor in sorted(gryffindors, key=lambda s: s[\"name\"]):\n",
    "    print(gryffindor[\"name\"])\n"
   ]
  },
  {
   "cell_type": "markdown",
   "id": "06cd0c52",
   "metadata": {},
   "source": [
    "#### Q "
   ]
  },
  {
   "cell_type": "markdown",
   "id": "bc888d6c",
   "metadata": {},
   "source": []
  },
  {
   "cell_type": "markdown",
   "id": "0d83de79",
   "metadata": {},
   "source": [
    "#### Q can we write the `is_gryffindor` function into the filter function (lambda function)"
   ]
  },
  {
   "cell_type": "markdown",
   "id": "18119662",
   "metadata": {},
   "source": [
    "Yes"
   ]
  },
  {
   "cell_type": "markdown",
   "id": "525f3675",
   "metadata": {},
   "source": [
    "## dictionary comprehensions"
   ]
  },
  {
   "cell_type": "markdown",
   "id": "cb2d7fbd",
   "metadata": {},
   "source": [
    "### gryffindors4.py"
   ]
  },
  {
   "cell_type": "code",
   "execution_count": 52,
   "id": "fe95b368",
   "metadata": {},
   "outputs": [
    {
     "name": "stdout",
     "output_type": "stream",
     "text": [
      "[{'name': 'Hermione', 'house': 'Gryffindor'}, {'name': 'Harry', 'house': 'Gryffindor'}, {'name': 'Ron', 'house': 'Gryffindor'}]\n"
     ]
    }
   ],
   "source": [
    "# Creates list of dicts using loop\n",
    "\n",
    "students = [\"Hermione\", \"Harry\", \"Ron\"]\n",
    "\n",
    "gryffindors = []\n",
    "\n",
    "for student in students:\n",
    "    gryffindors.append({\"name\": student, \"house\": \"Gryffindor\"})\n",
    "\n",
    "print(gryffindors)\n"
   ]
  },
  {
   "cell_type": "markdown",
   "id": "13016703",
   "metadata": {},
   "source": [
    "### gryffindors5.py"
   ]
  },
  {
   "cell_type": "code",
   "execution_count": 53,
   "id": "d02ed56b",
   "metadata": {},
   "outputs": [
    {
     "name": "stdout",
     "output_type": "stream",
     "text": [
      "[{'name': 'Hermione', 'house': 'Gryffindor'}, {'name': 'Harry', 'house': 'Gryffindor'}, {'name': 'Ron', 'house': 'Gryffindor'}]\n"
     ]
    }
   ],
   "source": [
    "# Uses dictionary comprehension instead\n",
    "\n",
    "students = [\"Hermione\", \"Harry\", \"Ron\"]\n",
    "\n",
    "gryffindors = [{\"name\": student, \"house\": \"Gryffindor\"} for student in students]\n",
    "\n",
    "print(gryffindors)\n"
   ]
  },
  {
   "cell_type": "markdown",
   "id": "7be99771",
   "metadata": {},
   "source": [
    "### gryffindors6.py"
   ]
  },
  {
   "cell_type": "code",
   "execution_count": 54,
   "id": "fa83340e",
   "metadata": {},
   "outputs": [
    {
     "name": "stdout",
     "output_type": "stream",
     "text": [
      "{'Hermione': 'Gryffindor', 'Harry': 'Gryffindor', 'Ron': 'Gryffindor'}\n"
     ]
    }
   ],
   "source": [
    "# Uses dictionary comprehension instead\n",
    "\n",
    "students = [\"Hermione\", \"Harry\", \"Ron\"]\n",
    "\n",
    "gryffindors = {student: \"Gryffindor\" for student in students}\n",
    "\n",
    "print(gryffindors)\n"
   ]
  },
  {
   "cell_type": "markdown",
   "id": "a032158f",
   "metadata": {},
   "source": [
    "## enumerate"
   ]
  },
  {
   "cell_type": "markdown",
   "id": "aea2657b",
   "metadata": {},
   "source": [
    "### gryffindors7.py"
   ]
  },
  {
   "cell_type": "code",
   "execution_count": 55,
   "id": "e34c2040",
   "metadata": {},
   "outputs": [
    {
     "name": "stdout",
     "output_type": "stream",
     "text": [
      "1 Hermione\n",
      "2 Harry\n",
      "3 Ron\n"
     ]
    }
   ],
   "source": [
    "# Iterates over a list by index\n",
    "\n",
    "students = [\"Hermione\", \"Harry\", \"Ron\"]\n",
    "\n",
    "for i in range(len(students)):\n",
    "    print(i + 1, students[i])\n"
   ]
  },
  {
   "cell_type": "markdown",
   "id": "9b010b38",
   "metadata": {},
   "source": [
    "### gryffindors8.py"
   ]
  },
  {
   "cell_type": "code",
   "execution_count": 56,
   "id": "1cecaab8",
   "metadata": {},
   "outputs": [
    {
     "name": "stdout",
     "output_type": "stream",
     "text": [
      "1 Hermione\n",
      "2 Harry\n",
      "3 Ron\n"
     ]
    }
   ],
   "source": [
    "# Uses enumerate instead\n",
    "\n",
    "students = [\"Hermione\", \"Harry\", \"Ron\"]\n",
    "\n",
    "for i, student in enumerate(students):\n",
    "    print(i + 1, student)\n"
   ]
  },
  {
   "cell_type": "markdown",
   "id": "01d1740c",
   "metadata": {},
   "source": [
    "## generators"
   ]
  },
  {
   "cell_type": "markdown",
   "id": "c837897c",
   "metadata": {},
   "source": [
    "### sleep0.py"
   ]
  },
  {
   "cell_type": "code",
   "execution_count": 58,
   "id": "43ec0f0c",
   "metadata": {},
   "outputs": [
    {
     "name": "stdout",
     "output_type": "stream",
     "text": [
      "What's n? 5\n",
      "\n",
      "🐑\n",
      "🐑🐑\n",
      "🐑🐑🐑\n",
      "🐑🐑🐑🐑\n"
     ]
    }
   ],
   "source": [
    "# Prints n sheep\n",
    "\n",
    "n = int(input(\"What's n? \"))\n",
    "for i in range(n):\n",
    "    print(\"🐑\" * i)\n"
   ]
  },
  {
   "cell_type": "markdown",
   "id": "da030b7c",
   "metadata": {},
   "source": [
    "### sleep1.py"
   ]
  },
  {
   "cell_type": "code",
   "execution_count": 59,
   "id": "2c6d88fd",
   "metadata": {},
   "outputs": [
    {
     "name": "stdout",
     "output_type": "stream",
     "text": [
      "What's n? 3\n",
      "\n",
      "🐑\n",
      "🐑🐑\n"
     ]
    }
   ],
   "source": [
    "# Adds main\n",
    "\n",
    "\n",
    "def main():\n",
    "    n = int(input(\"What's n? \"))\n",
    "    for i in range(n):\n",
    "        print(\"🐑\" * i)\n",
    "\n",
    "\n",
    "if __name__ == \"__main__\":\n",
    "    main()\n"
   ]
  },
  {
   "cell_type": "markdown",
   "id": "2ced26aa",
   "metadata": {},
   "source": [
    "### sleep2.py"
   ]
  },
  {
   "cell_type": "code",
   "execution_count": 60,
   "id": "f580dbd6",
   "metadata": {},
   "outputs": [
    {
     "name": "stdout",
     "output_type": "stream",
     "text": [
      "What's n? 5\n",
      "\n",
      "🐑\n",
      "🐑🐑\n",
      "🐑🐑🐑\n",
      "🐑🐑🐑🐑\n"
     ]
    }
   ],
   "source": [
    "# Returns n sheep from helper function\n",
    "\n",
    "\n",
    "def main():\n",
    "    n = int(input(\"What's n? \"))\n",
    "    for i in range(n):\n",
    "        print(sheep(i))\n",
    "\n",
    "\n",
    "def sheep(n):\n",
    "    return \"🐑\" * n\n",
    "\n",
    "\n",
    "if __name__ == \"__main__\":\n",
    "    main()\n"
   ]
  },
  {
   "cell_type": "markdown",
   "id": "18534ef6",
   "metadata": {},
   "source": [
    "### sleep3.py"
   ]
  },
  {
   "cell_type": "code",
   "execution_count": 61,
   "id": "343cbbaa",
   "metadata": {},
   "outputs": [
    {
     "name": "stdout",
     "output_type": "stream",
     "text": [
      "What's n? 5\n",
      "\n",
      "🐑\n",
      "🐑🐑\n",
      "🐑🐑🐑\n",
      "🐑🐑🐑🐑\n"
     ]
    }
   ],
   "source": [
    "# Returns a list of sheep\n",
    "\n",
    "\n",
    "def main():\n",
    "    n = int(input(\"What's n? \"))\n",
    "    for s in sheep(n):\n",
    "        print(s)\n",
    "\n",
    "\n",
    "def sheep(n):\n",
    "    flock = []\n",
    "    for i in range(n):\n",
    "        flock.append(\"🐑\" * i)\n",
    "    return flock\n",
    "\n",
    "\n",
    "if __name__ == \"__main__\":\n",
    "    main()\n"
   ]
  },
  {
   "cell_type": "markdown",
   "id": "4d7753b7",
   "metadata": {},
   "source": [
    "## generators"
   ]
  },
  {
   "cell_type": "markdown",
   "id": "a155cc15",
   "metadata": {},
   "source": [
    "## yield"
   ]
  },
  {
   "cell_type": "markdown",
   "id": "ef0ac0bf",
   "metadata": {},
   "source": [
    "### sleep4.py"
   ]
  },
  {
   "cell_type": "code",
   "execution_count": 62,
   "id": "0b2d20aa",
   "metadata": {},
   "outputs": [
    {
     "name": "stdout",
     "output_type": "stream",
     "text": [
      "What's n? 5\n",
      "\n",
      "🐑\n",
      "🐑🐑\n",
      "🐑🐑🐑\n",
      "🐑🐑🐑🐑\n"
     ]
    }
   ],
   "source": [
    "# Uses yield\n",
    "\n",
    "\n",
    "def main():\n",
    "    n = int(input(\"What's n? \"))\n",
    "    for s in sheep(n):\n",
    "        print(s)\n",
    "\n",
    "\n",
    "def sheep(n):\n",
    "    for i in range(n):\n",
    "        yield \"🐑\" * i\n",
    "\n",
    "\n",
    "if __name__ == \"__main__\":\n",
    "    main()\n"
   ]
  },
  {
   "cell_type": "markdown",
   "id": "0299f264",
   "metadata": {},
   "source": [
    "#### Q :"
   ]
  },
  {
   "cell_type": "code",
   "execution_count": null,
   "id": "9c826e8a",
   "metadata": {},
   "outputs": [],
   "source": []
  },
  {
   "cell_type": "markdown",
   "id": "fc8867e0",
   "metadata": {},
   "source": [
    "#### Q :"
   ]
  },
  {
   "cell_type": "code",
   "execution_count": null,
   "id": "5022c95c",
   "metadata": {},
   "outputs": [],
   "source": [
    "\n",
    "\n"
   ]
  },
  {
   "cell_type": "markdown",
   "id": "4d7569fd",
   "metadata": {},
   "source": [
    "## interator"
   ]
  },
  {
   "cell_type": "markdown",
   "id": "7b918888",
   "metadata": {},
   "source": [
    "# Final word\n"
   ]
  },
  {
   "cell_type": "markdown",
   "id": "efbfc247",
   "metadata": {},
   "source": [
    "Tell me and I forget, show me and I remember, involve me and I understand."
   ]
  },
  {
   "cell_type": "code",
   "execution_count": 63,
   "id": "1a20624f",
   "metadata": {},
   "outputs": [
    {
     "name": "stdout",
     "output_type": "stream",
     "text": [
      "What's this? This is cs50!\n",
      "  _____________\n",
      "| This is cs50! |\n",
      "  =============\n",
      "             \\\n",
      "              \\\n",
      "                ^__^\n",
      "                (oo)\\_______\n",
      "                (__)\\       )\\/\\\n",
      "                    ||----w |\n",
      "                    ||     ||\n"
     ]
    }
   ],
   "source": [
    "import cowsay\n",
    "import pyttsx3\n",
    "\n",
    "engine = pyttsx3.init()\n",
    "this = input(\"What's this? \")\n",
    "cowsay.cow(this)\n",
    "engine.say(this)\n",
    "engine.runAndWait()\n"
   ]
  },
  {
   "cell_type": "code",
   "execution_count": null,
   "id": "6d989551",
   "metadata": {},
   "outputs": [],
   "source": []
  }
 ],
 "metadata": {
  "kernelspec": {
   "display_name": "Python 3 (ipykernel)",
   "language": "python",
   "name": "python3"
  },
  "language_info": {
   "codemirror_mode": {
    "name": "ipython",
    "version": 3
   },
   "file_extension": ".py",
   "mimetype": "text/x-python",
   "name": "python",
   "nbconvert_exporter": "python",
   "pygments_lexer": "ipython3",
   "version": "3.9.7"
  }
 },
 "nbformat": 4,
 "nbformat_minor": 5
}
