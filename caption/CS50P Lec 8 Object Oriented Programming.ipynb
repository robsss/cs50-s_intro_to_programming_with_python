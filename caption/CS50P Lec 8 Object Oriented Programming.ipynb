{
 "cells": [
  {
   "cell_type": "markdown",
   "metadata": {},
   "source": [
    "# CS50P_Lecture 8 - Live Shoot"
   ]
  },
  {
   "cell_type": "markdown",
   "metadata": {},
   "source": [
    "## Video shortcut"
   ]
  },
  {
   "cell_type": "markdown",
   "metadata": {},
   "source": [
    "`19:38-24:44` Audio starts, intro\n",
    "\n",
    "`27:28` Shooting additional footage for Lecture 1 using new Python 3.10 feature (match/case)\n",
    "\n",
    "`40:47-43:32` Chat with streaming audience"
   ]
  },
  {
   "cell_type": "markdown",
   "metadata": {},
   "source": [
    "## `27:28` Shooting additional footage for Lecture 1 using new Python 3.10 feature (match/case)"
   ]
  },
  {
   "cell_type": "code",
   "execution_count": 2,
   "metadata": {},
   "outputs": [
    {
     "ename": "SyntaxError",
     "evalue": "invalid syntax (<ipython-input-2-2555c3264952>, line 3)",
     "output_type": "error",
     "traceback": [
      "\u001b[0;36m  File \u001b[0;32m\"<ipython-input-2-2555c3264952>\"\u001b[0;36m, line \u001b[0;32m3\u001b[0m\n\u001b[0;31m    match name:\u001b[0m\n\u001b[0m             ^\u001b[0m\n\u001b[0;31mSyntaxError\u001b[0m\u001b[0;31m:\u001b[0m invalid syntax\n"
     ]
    }
   ],
   "source": [
    "name = input(\"What's your name? \")\n",
    "\n",
    "match name:\n",
    "    case \"Harry\" | \"Hermione\" | \"Ron\":\n",
    "        print(\"Gryffindor\")\n",
    "    case \"Draco\":\n",
    "        print(\"Slytherin\")\n",
    "    case _:\n",
    "        print(\"Who?\")"
   ]
  },
  {
   "cell_type": "markdown",
   "metadata": {},
   "source": [
    "However, this python feature come with python version >= 3.10"
   ]
  },
  {
   "cell_type": "code",
   "execution_count": 3,
   "metadata": {},
   "outputs": [
    {
     "name": "stdout",
     "output_type": "stream",
     "text": [
      "3.7.13\n"
     ]
    }
   ],
   "source": [
    "import platform\n",
    "print(platform.python_version())\n"
   ]
  },
  {
   "cell_type": "markdown",
   "metadata": {},
   "source": [
    "Python version as tuple (major, minor, patchlevel) of strings:"
   ]
  },
  {
   "cell_type": "code",
   "execution_count": 4,
   "metadata": {},
   "outputs": [
    {
     "name": "stdout",
     "output_type": "stream",
     "text": [
      "('3', '7', '13')\n",
      "<class 'tuple'>\n"
     ]
    }
   ],
   "source": [
    "import platform\n",
    "print(platform.python_version_tuple())\n",
    "print(type(platform.python_version_tuple()))"
   ]
  },
  {
   "cell_type": "markdown",
   "metadata": {},
   "source": [
    "### Q: what if if you're trying to meet several conditions?\n",
    "in other words: what if we want to use `and` in match statement?"
   ]
  },
  {
   "cell_type": "markdown",
   "metadata": {},
   "source": [
    "If we want to use `and` logic in match statement, it is better to use if statement."
   ]
  },
  {
   "cell_type": "markdown",
   "metadata": {},
   "source": [
    "Any questions or confusion on match or case that I can clear up here.\n",
    "\n",
    "Yeah. Ansel\n",
    "\n",
    "Sure. I think we can hear you.\n",
    "\n",
    "Yes.\n",
    "\n",
    "Hi, David.\n",
    "\n",
    "So this has to do with or but what if it was And\n",
    "\n",
    "what if you were trained to me\n",
    "\n",
    "several conditions in this case you can't use and what case is going to be used for.\n",
    "\n",
    "Is this or this or this other thing And that's sensible in the sense that it wouldn't\n",
    "\n",
    "really make sense for a variable to have this\n",
    "\n",
    "value and this value and this other value.\n",
    "\n",
    "Right? It's got to be one or the other. Typically\n",
    "\n",
    "there is some slightly more sophisticated functionality for the match statement.\n",
    "\n",
    "But really the intent here is to say or if you\n",
    "\n",
    "do need to express the and logic that you're describing,\n",
    "\n",
    "it's best to go back to the more familiar if LF and so forth,\n",
    "\n",
    "which is a little more versatile because you can ask any questions you want,\n",
    "\n",
    "even ones that don't involve matching on strings or values more generally"
   ]
  },
  {
   "cell_type": "markdown",
   "metadata": {},
   "source": [
    "### Q: Why python use single vertical bar `|` to represent `or` logic, in C, C++, JAVA people tend to use double vertical bar `||` instead ?"
   ]
  },
  {
   "cell_type": "markdown",
   "metadata": {},
   "source": [
    "Just because the designer of python choose this convention."
   ]
  },
  {
   "cell_type": "markdown",
   "metadata": {},
   "source": [
    "other questions on match or case.\n",
    "\n",
    "Ah, Yeah.\n",
    "\n",
    "Um, so\n",
    "\n",
    "I noticed that you've used all for so harry or harmony or wrong\n",
    "\n",
    "um,\n",
    "\n",
    "in other programming languages they tend to use or so two slashes.\n",
    "\n",
    "Is that, is this a different type of board to the ones there? Because\n",
    "\n",
    "if you use an oran, let's say java, it's\n",
    "\n",
    "to do with true and false\n",
    "\n",
    "news, but I'm not sure.\n",
    "\n",
    "Yeah,\n",
    "\n",
    "I was talking with a colleague just before this because it strikes me as strange to,\n",
    "\n",
    "I don't know why they used the vertical bar.\n",
    "\n",
    "I would have preferred personally. They just use or for instance,\n",
    "\n",
    "there is likely something called a pep python enhancement proposal,\n",
    "\n",
    "pe pe that probably elaborate on why this choice was made.\n",
    "\n",
    "I haven't had a chance to pull it up myself,\n",
    "\n",
    "but that too is a distinction with C and C plus plus and java.\n",
    "\n",
    "They tend to use two vertical bars to indicate logical\n",
    "\n",
    "or whereas a single vertical bar typically is something called\n",
    "\n",
    "bit wise or where you can manipulate individual zeros and\n",
    "\n",
    "ones As for why it's this way in python,\n",
    "\n",
    "I don't know, but this is one of those just because in essence,\n",
    "\n",
    "this is the way python chose to do it.\n",
    "\n",
    "Maybe it's because it's a little more succinct honestly than two vertical bars.\n",
    "\n",
    "But I'm just guessing"
   ]
  },
  {
   "cell_type": "markdown",
   "metadata": {},
   "source": [
    "### Q: what if we want to do similar match not an exact match?"
   ]
  },
  {
   "cell_type": "markdown",
   "metadata": {},
   "source": [
    "Yes, we can  do pattern match like `regexe`. It is way much more powerful than switch in C C++ JAVA"
   ]
  },
  {
   "cell_type": "markdown",
   "metadata": {},
   "source": [
    "how about a couple more questions on match\n",
    "\n",
    "or case. Yeah,\n",
    "\n",
    "I'm saying it right.\n",
    "\n",
    "Yes, we can hear you.\n",
    "\n",
    "My question was does this look for an exact match?\n",
    "\n",
    "And what if if we want to have a similar,\n",
    "\n",
    "somewhat similar kind of a match?\n",
    "\n",
    "Not an exact much\n",
    "\n",
    "really good question short answer. You can do that and more with match.\n",
    "\n",
    "I wanted to show just the basics here.\n",
    "\n",
    "So as to show an equivalent to the if LF approach that we previously did.\n",
    "\n",
    "But yes, if you actually read up on the match keyword,\n",
    "\n",
    "it's way more powerful than the switch statement is in languages\n",
    "\n",
    "like C and C plus plus and java and so forth.\n",
    "\n",
    "I just didn't want to get into the weeds here.\n",
    "\n",
    "But yes,\n",
    "\n",
    "you can do things similar in spirit to\n",
    "\n",
    "regular expression matching and patterns more generally.\n",
    "\n",
    "It's actually pretty darn powerful.\n",
    "\n",
    "But feel,\n",
    "\n",
    "remember now we're filming this for lecture one so we\n",
    "\n",
    "didn't want things to get too scary too fast."
   ]
  },
  {
   "cell_type": "markdown",
   "metadata": {},
   "source": [
    "### Q: Can `_` statement can appear in the middle of the statement?"
   ]
  },
  {
   "cell_type": "markdown",
   "metadata": {},
   "source": [
    "Maybe default make `_` in the end.\n",
    "\n",
    "If you are interested in this, you could refer to [PEP 636](https://peps.python.org/pep-0636/)"
   ]
  },
  {
   "cell_type": "markdown",
   "metadata": {},
   "source": [
    "Another question from the group on match your case Christopher.\n",
    "\n",
    "Yes, we can.\n",
    "\n",
    "So I want to know on the case.\n",
    "\n",
    "Can the kids got to get a\n",
    "\n",
    "or else or else stealing to end it or you can just be kissed\n",
    "\n",
    "when you are done?\n",
    "\n",
    "Oh, uh, that's a good question.\n",
    "\n",
    "The case with the underscore I believe has to be at the end.\n",
    "\n",
    "I haven't tinkered enough to know if it could be higher.\n",
    "\n",
    "I'm not sure what that would mean logically.\n",
    "\n",
    "Um,\n",
    "\n",
    "so for now assume that this is indeed the default case\n",
    "\n",
    "that goes at the bottom rung action just for fun.\n",
    "\n",
    "Do you mind kind of googling to see if that's\n",
    "\n",
    "or maybe carter just so we don't distract.\n",
    "\n",
    "Um well,\n",
    "\n",
    "let me see if I'm carter can chime in Christopher on zoom\n",
    "\n",
    "just to clarify that in a bit in the chat window."
   ]
  },
  {
   "cell_type": "markdown",
   "metadata": {},
   "source": [
    "### Q: How you would use or if you can use list or  tuple in the `match case`?\n"
   ]
  },
  {
   "cell_type": "markdown",
   "metadata": {},
   "source": [
    "If you are interested in this, you could refer to [PEP 636](https://peps.python.org/pep-0636/)"
   ]
  },
  {
   "cell_type": "markdown",
   "metadata": {},
   "source": [
    "How about one more question then we'll\n",
    "\n",
    "do some hellos and then object oriented programming\n",
    "\n",
    "questions on match your case. Yeah, Michael.\n",
    "\n",
    "I got\n",
    "\n",
    "Yes, we can hear you now.\n",
    "\n",
    "Okay.\n",
    "\n",
    "Um, sorry, I was, I was wondering how you would use or if you can use um,\n",
    "\n",
    "like lists or uh, couples in in the case, in the match case.\n",
    "\n",
    "Yes. So similar in a house question. You can actually do that too.\n",
    "\n",
    "So you can match that a variable or a value. Indeed.\n",
    "\n",
    "Lines up with the contents of a list or a couple or another data structure.\n",
    "\n",
    "So here too is how matches way more powerful than switches in java C and C plus plus.\n",
    "\n",
    "Let me defer to an online reference of carter.\n",
    "\n",
    "You wouldn't mind googling and offering something that looks pretty accessible.\n",
    "\n",
    "Um You can indeed do that too.\n",
    "\n",
    "Indeed.\n",
    "\n",
    "All right,\n",
    "\n",
    "well let me go ahead and put if we could function put everyone's hands down,\n",
    "\n",
    "feel free to continue asking questions of carter and the team in the chat."
   ]
  },
  {
   "cell_type": "markdown",
   "metadata": {},
   "source": [
    "## Object_Oriented Programming"
   ]
  },
  {
   "cell_type": "markdown",
   "metadata": {},
   "source": [
    "## tuple"
   ]
  },
  {
   "cell_type": "markdown",
   "metadata": {},
   "source": [
    "### student3.py"
   ]
  },
  {
   "cell_type": "code",
   "execution_count": null,
   "metadata": {},
   "outputs": [],
   "source": [
    "# Returns student as tuple, without unpacking it\n",
    "\n",
    "\n",
    "def main():\n",
    "    student = get_student()\n",
    "    print(f\"{student[0]} from {student[1]}\")\n",
    "\n",
    "\n",
    "def get_student():\n",
    "    name = input(\"Name: \")\n",
    "    house = input(\"House: \")\n",
    "    return (name, house)\n",
    "\n",
    "\n",
    "if __name__ == \"__main__\":\n",
    "    main()"
   ]
  },
  {
   "cell_type": "markdown",
   "metadata": {},
   "source": [
    "#### Q: What's the difference between a list and a tuple?"
   ]
  },
  {
   "cell_type": "markdown",
   "metadata": {},
   "source": [
    "list is mutable, tuple is immutable.\n",
    "Tuple is especially useful when we do not want to change the value of the element."
   ]
  },
  {
   "cell_type": "markdown",
   "metadata": {},
   "source": [
    "\n",
    "Let me pause here now and see if there are any questions on\n",
    "\n",
    "this technique of returning a tubal and indexing into it in this way.\n",
    "\n",
    "Yeah Gene question\n",
    "\n",
    "what is the difference between a list and that couple\n",
    "\n",
    "couple. A good question. A list is a sequence of values. That can be changed.\n",
    "\n",
    "You can go into location zero or one or two or onward and actually change the value?\n",
    "\n",
    "That's in it. We're about to see with a couple. It's immutable.\n",
    "\n",
    "You cannot change its values once you create it as by returning it as I did. That's it.\n",
    "\n",
    "That is the tubal you are stuck with. That's a good thing.\n",
    "\n",
    "Sometimes if you want to program defensively and make sure that you\n",
    "\n",
    "or some other programmer can't change the values inside of some variable.\n",
    "\n",
    "Or it could be constraining.\n",
    "\n",
    "If you actually want to be able to change the values, then you can't use a couple.\n",
    "\n",
    "You're gonna have to use a list instead."
   ]
  },
  {
   "cell_type": "markdown",
   "metadata": {},
   "source": [
    "#### Q: When would you use tuple vs list?\n"
   ]
  },
  {
   "cell_type": "markdown",
   "metadata": {},
   "source": [
    "For safety, use tuple if we don't want others mistakenly change the value."
   ]
  },
  {
   "cell_type": "markdown",
   "metadata": {},
   "source": [
    "How about one more question or heck, one more.\n",
    "\n",
    "Hello?\n",
    "\n",
    "How about Sebastiano if I'm saying it right.\n",
    "\n",
    "Uh Yeah. Um I just uh what's the I guess what's it like?\n",
    "\n",
    "Actually use case where you would use a couple versus\n",
    "\n",
    "you know,\n",
    "\n",
    "a list or something else? That's similar.\n",
    "\n",
    "It's a really good question. When would you use a couple versus a list?\n",
    "\n",
    "When you want to program defensively or in general when\n",
    "\n",
    "you know that the values in this variable shouldn't change.\n",
    "\n",
    "So why would you use a data type that allows them to be changed?\n",
    "\n",
    "It just invites mistakes. Bugs down the line.\n",
    "\n",
    "Either by you or colleagues who are interacting with your code.\n",
    "\n",
    "So tubal is just another way where you can\n",
    "\n",
    "increase the probability of correctness by\n",
    "\n",
    "just not letting anyone yourself included,\n",
    "\n",
    "change the contents there in.\n",
    "\n",
    "So it's just another tool in your toolkit.\n",
    "\n",
    "But let's make clear then what I mean by immutable again,\n",
    "\n",
    "I claim that immutable means that you cannot change the value."
   ]
  },
  {
   "cell_type": "markdown",
   "metadata": {},
   "source": [
    "### student4.py"
   ]
  },
  {
   "cell_type": "code",
   "execution_count": null,
   "metadata": {},
   "outputs": [],
   "source": [
    "# Demonstrates immutability of tuples, removes parentheses\n",
    "# https://scifi.stackexchange.com/q/105992\n",
    "\n",
    "\n",
    "def main():\n",
    "    student = get_student()\n",
    "    if student[0] == \"Padma\":\n",
    "        student[1] = \"Ravenclaw\"\n",
    "    print(f\"{student[0]} from {student[1]}\")\n",
    "\n",
    "\n",
    "def get_student():\n",
    "    name = input(\"Name: \")\n",
    "    house = input(\"House: \")\n",
    "    return name, house\n",
    "\n",
    "\n",
    "if __name__ == \"__main__\":\n",
    "    main()"
   ]
  },
  {
   "cell_type": "markdown",
   "metadata": {},
   "source": [
    "#### Q: can we use nested list and tuple?"
   ]
  },
  {
   "cell_type": "markdown",
   "metadata": {},
   "source": [
    "Yes."
   ]
  },
  {
   "cell_type": "markdown",
   "metadata": {},
   "source": [
    "Any questions now on tuttle's versus lists or\n",
    "\n",
    "this idea of immutable bility versus mutability.\n",
    "\n",
    "Yeah. Leila if I'm saying it right.\n",
    "\n",
    "Oh.\n",
    "\n",
    "Uh huh.\n",
    "\n",
    "Hi, extra la la\n",
    "\n",
    "hello can be used nest tackle in patterns like a nest placed.\n",
    "\n",
    "Absolutely.\n",
    "\n",
    "You can have not only nested lists in python where one\n",
    "\n",
    "of the elements in a list could be another list.\n",
    "\n",
    "So you have some square brackets out here,\n",
    "\n",
    "you might have some other square brackets inside.\n",
    "\n",
    "You can absolutely do the same with a couple as well.\n",
    "\n",
    "There's no constraint on the types of values you can put in there.\n",
    "\n",
    "We've not had occasion to do that in this case, I'm just returning a simple,\n",
    "\n",
    "simple couple with two elements. But yes, you can absolutely do that too."
   ]
  },
  {
   "cell_type": "markdown",
   "metadata": {},
   "source": [
    "#### Q:  what's the distinction between of `[]` `()` and accessing the value of the list or tuple?\n"
   ]
  },
  {
   "cell_type": "markdown",
   "metadata": {},
   "source": [
    "Square bracket is used to construct a list,\n",
    "parenthesis is used to define a tuple in python. However, the square bracket is used to access the value of list and tuple."
   ]
  },
  {
   "cell_type": "markdown",
   "metadata": {},
   "source": [
    "Other questions on couples versus lists.\n",
    "\n",
    "Yeah. Remy over to\n",
    "\n",
    "um Please I want to um make some clarification.\n",
    "\n",
    "Is that um the square bracket bracket is used for the least.\n",
    "\n",
    "And the bracket is we use for the taco.\n",
    "\n",
    "Can you say that again? The audio broke up a little bit.\n",
    "\n",
    "Okay. Um\n",
    "\n",
    "I want to know if the square bracket bracket is used for\n",
    "\n",
    "only for the list and the bracket is used for the taco.\n",
    "\n",
    "How do you know that? This is the case?\n",
    "\n",
    "Mhm.\n",
    "\n",
    "Okay. For example, um when I see the square bracket um is there many use for the list?\n",
    "\n",
    "Oh, a really good question uh sort of.\n",
    "\n",
    "So when you create a value, like a list,\n",
    "\n",
    "you use square brackets and that would indeed be a visual indicator.\n",
    "\n",
    "That this is definitely a list.\n",
    "\n",
    "If you instead see parentheses,\n",
    "\n",
    "that's a visual indicator when creating a value that it's definitely a couple.\n",
    "\n",
    "However, somewhat confusingly,\n",
    "\n",
    "both lists and couples use square brackets when you access the contents of them.\n",
    "\n",
    "When you index into them at location zero or location one,\n",
    "\n",
    "you always use square brackets.\n",
    "\n",
    "So that's the distinction there. Good question.\n"
   ]
  },
  {
   "cell_type": "markdown",
   "metadata": {},
   "source": [
    "### student6.py"
   ]
  },
  {
   "cell_type": "code",
   "execution_count": null,
   "metadata": {},
   "outputs": [],
   "source": [
    "# Stores student as dict\n",
    "\n",
    "\n",
    "def main():\n",
    "    student = get_student()\n",
    "    print(f\"{student[\"name\"]} from {student[\"house\"]}\")\n",
    "\n",
    "\n",
    "def get_student():\n",
    "    student = {}\n",
    "    student[\"name\"] = input(\"Name: \")\n",
    "    student[\"house\"] = input(\"House: \")\n",
    "    return student\n",
    "\n",
    "\n",
    "if __name__ == \"__main__\":\n",
    "    main()\n"
   ]
  },
  {
   "cell_type": "markdown",
   "metadata": {},
   "source": [
    "There is problem within this code."
   ]
  },
  {
   "cell_type": "markdown",
   "metadata": {},
   "source": [
    "We cann't use double quote in the duoble quote."
   ]
  },
  {
   "cell_type": "markdown",
   "metadata": {},
   "source": [
    "**correct**"
   ]
  },
  {
   "cell_type": "code",
   "execution_count": null,
   "metadata": {},
   "outputs": [],
   "source": [
    "# Stores student as dict\n",
    "\n",
    "\n",
    "def main():\n",
    "    student = get_student()\n",
    "    print(f\"{student['name']} from {student['house']}\")\n",
    "\n",
    "\n",
    "def get_student():\n",
    "    student = {}\n",
    "    student[\"name\"] = input(\"Name: \")\n",
    "    student[\"house\"] = input(\"House: \")\n",
    "    return student\n",
    "\n",
    "\n",
    "if __name__ == \"__main__\":\n",
    "    main()\n"
   ]
  },
  {
   "cell_type": "markdown",
   "metadata": {},
   "source": [
    "## dict"
   ]
  },
  {
   "cell_type": "markdown",
   "metadata": {},
   "source": [
    "### student7.py"
   ]
  },
  {
   "cell_type": "code",
   "execution_count": null,
   "metadata": {},
   "outputs": [],
   "source": [
    "# Eliminates unneeded variable\n",
    "\n",
    "\n",
    "def main():\n",
    "    student = get_student()\n",
    "    print(f\"{student['name']} from {student['house']}\")\n",
    "\n",
    "\n",
    "def get_student():\n",
    "    name = input(\"Name: \")\n",
    "    house = input(\"House: \")\n",
    "    return {\"name\": name, \"house\": house}\n",
    "\n",
    "\n",
    "if __name__ == \"__main__\":\n",
    "    main()"
   ]
  },
  {
   "cell_type": "markdown",
   "metadata": {},
   "source": [
    "### student8.py"
   ]
  },
  {
   "cell_type": "code",
   "execution_count": null,
   "metadata": {},
   "outputs": [],
   "source": [
    "# Demonstrates mutability of dicts\n",
    "\n",
    "\n",
    "def main():\n",
    "    student = get_student()\n",
    "    if student[\"name\"] == \"Padma\":\n",
    "        student[\"house\"] = \"Ravenclaw\"\n",
    "    print(f\"{student['name']} from {student['house']}\")\n",
    "\n",
    "\n",
    "def get_student():\n",
    "    name = input(\"Name: \")\n",
    "    house = input(\"House: \")\n",
    "    return {\"name\": name, \"house\": house}\n",
    "\n",
    "\n",
    "if __name__ == \"__main__\":\n",
    "    main()\n"
   ]
  },
  {
   "cell_type": "markdown",
   "metadata": {},
   "source": [
    "#### Q: Can you flip the \"name\" and \"house\" keys?"
   ]
  },
  {
   "cell_type": "markdown",
   "metadata": {},
   "source": [
    "Absolutely, no matter which order, it work perfectly, so it is beneficial to use dict to document those associtation, and we no bothering to remeber the order the element. "
   ]
  },
  {
   "cell_type": "markdown",
   "metadata": {},
   "source": [
    "Are any questions then on this progression from tumbles to lists to dictionaries.\n",
    "\n",
    "We haven't necessarily introduced anything new other than those tunnels\n",
    "\n",
    "which had been available to us all this time.\n",
    "\n",
    "But the goal at the moment is just to demonstrate this distinction among\n",
    "\n",
    "these different data types and how they each work a little bit differently.\n",
    "\n",
    "Uh, strength. If I'm saying that right,\n",
    "\n",
    "It's a\n",
    "\n",
    "the right name.\n",
    "\n",
    "Household name.\n",
    "\n",
    "Sorry, can you speak a little louder? It's a little quiet for us.\n",
    "\n",
    "Can you name\n",
    "\n",
    "post?\n",
    "\n",
    "How soon can you flip the keys?\n",
    "\n",
    "Absolutely.\n",
    "\n",
    "In a dictionary,\n",
    "\n",
    "the order of the keys is typically remembered but it\n",
    "\n",
    "doesn't matter in which order you actually set them.\n",
    "\n",
    "If you're just going to access individual keys anyway,\n",
    "\n",
    "you could change the order of name and house but still access them in any order.\n",
    "\n",
    "It's this collection of key value pairs.\n",
    "\n",
    "Typically the order doesn't matter.\n",
    "\n",
    "Unless for instance,\n",
    "\n",
    "you want to iterate over the dictionary in a loop and see the keys in a specific order."
   ]
  },
  {
   "cell_type": "markdown",
   "metadata": {},
   "source": [
    "#### Q:  Can we use nested list to replace the dict?"
   ]
  },
  {
   "cell_type": "markdown",
   "metadata": {},
   "source": [
    "No, it won't help with this problem."
   ]
  },
  {
   "cell_type": "markdown",
   "metadata": {},
   "source": [
    "Other questions on dictionaries or lists or topples. Ducks. If I'm saying it right.\n",
    "\n",
    "Yes, sir, sir. I wanted to ask that. What if\n",
    "\n",
    "Apple is a list and accommodate\n",
    "\n",
    "combination of lists.\n",
    "\n",
    "You could use a combination of lists if you mean putting a list inside of a list.\n",
    "\n",
    "I would argue that doesn't really solve a problem here\n",
    "\n",
    "because all I have is one name and one house.\n",
    "\n",
    "But yes, you can have lists. Inside of lists.\n",
    "\n",
    "You can have lists inside of dictionaries?\n",
    "\n",
    "I warned us that a what if a combination of list is there in a couple.\n",
    "\n",
    "So is the list like we can change the list because people are immutable\n",
    "\n",
    "correct.\n",
    "\n",
    "You can change the contents of lists and you can put most anything you want in them,\n",
    "\n",
    "other lists or strings.\n",
    "\n",
    "As I've done integers or anything else. Topples.\n",
    "\n",
    "You can do the exact same thing, but you cannot change them once you've created them.\n",
    "\n",
    "A dictionary is more like a list in that. It is mutable. You can change it.\n",
    "\n",
    "But the way you index into a dictionary is by way of these keys.\n",
    "\n",
    "These strings as we keep seeing\n",
    "\n",
    "rather than by numbers, those numeric indices.\n"
   ]
  },
  {
   "cell_type": "markdown",
   "metadata": {},
   "source": [
    "## classes"
   ]
  },
  {
   "cell_type": "markdown",
   "metadata": {},
   "source": [
    "A powerful tool to facilitate user-defined data type or container."
   ]
  },
  {
   "cell_type": "markdown",
   "metadata": {},
   "source": [
    "## student9.py"
   ]
  },
  {
   "cell_type": "code",
   "execution_count": 8,
   "metadata": {},
   "outputs": [
    {
     "name": "stdout",
     "output_type": "stream",
     "text": [
      "Name: Harry\n",
      "House: Gryffindor\n",
      "Harry from Gryffindor\n"
     ]
    }
   ],
   "source": [
    "# Defines class for a student\n",
    "\n",
    "\n",
    "class Student:\n",
    "    ...\n",
    "\n",
    "\n",
    "def main():\n",
    "    student = get_student()\n",
    "    print(f\"{student.name} from {student.house}\")\n",
    "\n",
    "\n",
    "def get_student():\n",
    "    student = Student()\n",
    "    student.name = input(\"Name: \")\n",
    "    student.house = input(\"House: \")\n",
    "    return student\n",
    "\n",
    "\n",
    "if __name__ == \"__main__\":\n",
    "    main()\n"
   ]
  },
  {
   "cell_type": "markdown",
   "metadata": {},
   "source": [
    "By convention, the class name use camel case, the name of variables and funtions use snake case."
   ]
  },
  {
   "cell_type": "markdown",
   "metadata": {},
   "source": [
    "## objects: an instance of class"
   ]
  },
  {
   "cell_type": "markdown",
   "metadata": {},
   "source": [
    "#### Q: Is the object mutable or immutable?"
   ]
  },
  {
   "cell_type": "markdown",
   "metadata": {},
   "source": [
    "Here, it is mutable\n"
   ]
  },
  {
   "cell_type": "markdown",
   "metadata": {},
   "source": [
    "any questions now on classes.\n",
    "\n",
    "This new keyword class or this idea of these objects or instances thereof.\n",
    "\n",
    "Yeah, Mohammed.\n",
    "\n",
    "This is a good question and we've clearly laid the\n",
    "\n",
    "stage for having that conversation about every data type.\n",
    "\n",
    "Now we will see that they are mutable but you\n",
    "\n",
    "can make them immutable so you can get the best of\n",
    "\n",
    "both worlds now by writing some actual code and we'll write\n",
    "\n",
    "more code than the dot dot dot in just a bit"
   ]
  },
  {
   "cell_type": "markdown",
   "metadata": {},
   "source": [
    "#### Q: What would be the properties of those classed?"
   ]
  },
  {
   "cell_type": "markdown",
   "metadata": {},
   "source": [
    "Thus far, the properties(attributes) of the class is `name` and `house`"
   ]
  },
  {
   "cell_type": "markdown",
   "metadata": {},
   "source": [
    "other questions on classes or these objects there of rohit\n",
    "\n",
    "hello? Yes. Rohit\n",
    "\n",
    "then what would be the properties of those classes?\n",
    "\n",
    "What would be the properties of those classes?\n",
    "\n",
    "Yes, Yes.\n",
    "\n",
    "So at the moment the properties of or the attributes of as\n",
    "\n",
    "I've been calling them thus far would just be name and house.\n",
    "\n",
    "It turns out that there may very well be other\n",
    "\n",
    "attributes built into classes that we may see before long.\n",
    "\n",
    "But for now the only two attributes that I care about\n",
    "\n",
    "are the ones that I myself created namely name and House are\n",
    "\n",
    "again what I would call attributes and in a little bit\n",
    "\n",
    "we're gonna start calling those same\n",
    "\n",
    "attributes more technically instance variables.\n",
    "\n",
    "Name and House as I presented them here in V.\n",
    "\n",
    "S code are really just variables called name and called House\n",
    "\n",
    "inside of an object whose type is student\n",
    "\n",
    "allow me to pause here for just a moment.\n",
    "\n",
    "We'll take a quick break and we'll come back in about five minutes and\n",
    "\n",
    "pick up from there and see what more we can do with classes."
   ]
  },
  {
   "cell_type": "markdown",
   "metadata": {},
   "source": [
    "## attribute "
   ]
  },
  {
   "cell_type": "markdown",
   "metadata": {},
   "source": [
    "## instance variables"
   ]
  },
  {
   "cell_type": "markdown",
   "metadata": {},
   "source": [
    "#### Q:  main is calling get_student and get_student return a student object."
   ]
  },
  {
   "cell_type": "markdown",
   "metadata": {},
   "source": [
    "But first are there any questions still about classes or these objects?\n",
    "\n",
    "But rest assured. We're about to see many, many, many more features thereof to\n",
    "\n",
    "any questions though before we resume\n",
    "\n",
    "Daniel.\n",
    "\n",
    "It was only like uh how the data is talking to the function.\n",
    "\n",
    "The function is sulking first to the class\n",
    "\n",
    "that's for for access the sudden that name and\n",
    "\n",
    "then the main is asking to the class about\n",
    "\n",
    "the info that the function gets students give her\n",
    "\n",
    "I think correct to recap then by line number on line 11 we are creating a\n",
    "\n",
    "student object from that class template if you\n",
    "\n",
    "will from that blueprint from that mold.\n",
    "\n",
    "And we're calling that variable student and then on line 12\n",
    "\n",
    "and 13 were creating variables inside of that student attributes,\n",
    "\n",
    "so to speak.\n",
    "\n",
    "Called name and house.\n",
    "\n",
    "So it's very similar in spirit to a dictionary but we're gonna\n",
    "\n",
    "we're about to see that there's even more functionality than a dictionary.\n",
    "\n",
    "Yeah that was the question that maine is talking that the function main is\n",
    "\n",
    "talking to the class and it don't talk directly to gets to them function\n",
    "\n",
    "Correent?\n",
    "\n",
    "Main is online six is calling get students\n",
    "\n",
    "and get student is returning a student object."
   ]
  },
  {
   "cell_type": "markdown",
   "metadata": {},
   "source": [
    "#### Q: Can attribute be different data type"
   ]
  },
  {
   "cell_type": "markdown",
   "metadata": {},
   "source": [
    "Yes"
   ]
  },
  {
   "cell_type": "markdown",
   "metadata": {},
   "source": [
    "Other questions before we resume?\n",
    "\n",
    "Yeah. Anjali\n",
    "\n",
    "Hi so can the attributes be different data types like could\n",
    "\n",
    "you have an integer as well as name and house.\n",
    "\n",
    "Absolutely.\n",
    "\n",
    "We're using strings here but those attributes can be any types of values.\n",
    "\n",
    "Indeed. Good question other questions on classes. Are these objects\n",
    "\n",
    "a meal?\n",
    "\n",
    "A meal.\n",
    "\n",
    "It's still muted.\n",
    "\n",
    "Sorry, I was having some difficulties on muting you could the attributes.\n",
    "\n",
    "Name and house be within the class or or does it have to be um in the function\n",
    "\n",
    "can be in the class and hold that thought because\n",
    "\n",
    "you're about to see what more we can do.\n",
    "\n",
    "This is the very simple way of doing things like a dictionary.\n",
    "\n",
    "We're about to get way fancier than that."
   ]
  },
  {
   "cell_type": "markdown",
   "metadata": {},
   "source": [
    "#### Q:  Could the attributes name and house within the class or does it has to be in the function?"
   ]
  },
  {
   "cell_type": "markdown",
   "metadata": {},
   "source": [
    "Can be in the class."
   ]
  },
  {
   "cell_type": "markdown",
   "metadata": {},
   "source": [
    "#### Q: Can class be called inside a function?"
   ]
  },
  {
   "cell_type": "markdown",
   "metadata": {},
   "source": [
    "Absolutely yes."
   ]
  },
  {
   "cell_type": "markdown",
   "metadata": {},
   "source": [
    "And how about one more question here to lou\n",
    "\n",
    "Okay.\n",
    "\n",
    "Um other that's like basil school can classically called Inside the function.\n",
    "\n",
    "Can the class B called inside a function?\n",
    "\n",
    "Absolutely. And we're doing that here.\n",
    "\n",
    "Notice that inside of my get student function in line 11 is where I'm\n",
    "\n",
    "inst And she ating a student object and then I'm returning it to maine\n",
    "\n",
    "and you could even define classes.\n",
    "\n",
    "Inside of functions if you only want that class to exist inside that function.\n",
    "\n",
    "That's not something we're going to do.\n",
    "\n",
    "But on occasion it makes sense to do that when you kind of want to keep a\n",
    "\n",
    "class private to a function so to speak and not let any other code use it instead.\n",
    "\n",
    "Alright,\n",
    "\n",
    "let's go ahead and come back here and we're about\n",
    "\n",
    "to see a whole bunch more features of these classes.\n",
    "\n",
    "Alright max ready when you are?"
   ]
  },
  {
   "cell_type": "markdown",
   "metadata": {},
   "source": [
    "## methods `__init__`"
   ]
  },
  {
   "cell_type": "markdown",
   "metadata": {},
   "source": [
    "The author of python give us this function constructor"
   ]
  },
  {
   "cell_type": "markdown",
   "metadata": {},
   "source": [
    "### student10.py"
   ]
  },
  {
   "cell_type": "code",
   "execution_count": 5,
   "metadata": {},
   "outputs": [
    {
     "name": "stdout",
     "output_type": "stream",
     "text": [
      "Name: Jack\n",
      "House: Ravenclaw\n",
      "Jack from Ravenclaw\n"
     ]
    }
   ],
   "source": [
    "# Adds __init__\n",
    "\n",
    "\n",
    "class Student:\n",
    "    def __init__(self, name, house):\n",
    "        self.name = name\n",
    "        self.house = house\n",
    "\n",
    "\n",
    "def main():\n",
    "    student = get_student()\n",
    "    print(f\"{student.name} from {student.house}\")\n",
    "\n",
    "\n",
    "def get_student():\n",
    "    name = input(\"Name: \")\n",
    "    house = input(\"House: \")\n",
    "    student = Student(name, house) # treat it as function\n",
    "    return student\n",
    "\n",
    "\n",
    "if __name__ == \"__main__\":\n",
    "    main()\n"
   ]
  },
  {
   "cell_type": "markdown",
   "metadata": {},
   "source": [
    "#### Q: What is the difference between init method and default constructor?"
   ]
  },
  {
   "cell_type": "markdown",
   "metadata": {},
   "source": [
    "JAVA or C++: constructor\n"
   ]
  },
  {
   "cell_type": "markdown",
   "metadata": {},
   "source": [
    "Python: initialization method\n",
    "\n",
    "a default mehtod `__new__` handle the construction of the instanciation of class in memory. Generally, you programmer don't need to manipulate the `new` function, it just works for you, instead, you define your own init method "
   ]
  },
  {
   "cell_type": "markdown",
   "metadata": {},
   "source": [
    "So any questions on this emit method whose purpose in life again\n",
    "\n",
    "is to initialize and otherwise empty object when you first create it.\n",
    "\n",
    "Uh mentally, if I'm saying that right?\n",
    "\n",
    "Hello, david.\n",
    "\n",
    "Yeah,\n",
    "\n",
    "my question is that what is the difference\n",
    "\n",
    "between the innit method and deport constructor?\n",
    "\n",
    "A good question.\n",
    "\n",
    "So in other languages, if you program before, for instance,\n",
    "\n",
    "java there are x functions that are explicitly\n",
    "\n",
    "called constructors that indeed construct an object,\n",
    "\n",
    "they initialize it with values,\n",
    "\n",
    "python technically, cause this innit method, the initialization method.\n",
    "\n",
    "It initialize is the value.\n",
    "\n",
    "It's online. 14 line 15. Now with my code. If I scroll back down\n",
    "\n",
    "that I'm technically constructing the object,\n",
    "\n",
    "it turns out there's another special method in python\n",
    "\n",
    "that we won't talk about in detail today,\n",
    "\n",
    "called underscore,\n",
    "\n",
    "underscore new underscore underscore that actually handles the process\n",
    "\n",
    "of creating an empty object in memory for us.\n",
    "\n",
    "But generally speaking,\n",
    "\n",
    "you the programmer don't need to manipulate the new function.\n",
    "\n",
    "It just works for you.\n",
    "\n",
    "Instead,\n",
    "\n",
    "you define your own innit method here and in it function inside of your class.\n",
    "\n",
    "And that method initialize is the contents of the object.\n",
    "\n",
    "So there's technically a distinction between constructing the\n",
    "\n",
    "object with new and initializing it within it.\n",
    "\n",
    "But in the world of python, you pretty much only worry about\n",
    "\n",
    "the innit method, python generally does the other part for you.\n",
    "\n",
    "A good question."
   ]
  },
  {
   "cell_type": "markdown",
   "metadata": {},
   "source": [
    "#### Q:  What if you want to store more than one name or more than one house?"
   ]
  },
  {
   "cell_type": "markdown",
   "metadata": {},
   "source": [
    "lists\n"
   ]
  },
  {
   "cell_type": "markdown",
   "metadata": {},
   "source": [
    "Others\n",
    "\n",
    "ahmed\n",
    "\n",
    "what about if you want to store more than one name or more than one house?\n",
    "\n",
    "A good question.\n",
    "\n",
    "If you want to store more than one name or more than one house,\n",
    "\n",
    "you can do this in different ways.\n",
    "\n",
    "You could create other attributes,\n",
    "\n",
    "technically called instance variables like self dot name,\n",
    "\n",
    "one self dot name to but we've seen in the past that that is\n",
    "\n",
    "not a very good design just to have multiple variables to store multiple things.\n",
    "\n",
    "Maybe instead you have an instance variable called self dot names plural and you\n",
    "\n",
    "set it equal to a list of names or a list of houses.\n",
    "\n",
    "Now, in this case,\n",
    "\n",
    "I don't think that really solves the problem\n",
    "\n",
    "because I'm trying to implement a student singular.\n",
    "\n",
    "So it doesn't really make sense to have multiple.\n",
    "\n",
    "First names, maybe a nickname, maybe a last name.\n",
    "\n",
    "So we could add those two,\n",
    "\n",
    "but I don't think we need multiple names per se and in this case multiple houses.\n",
    "\n",
    "But absolutely you could do that using some of our familiar building blocks, like\n",
    "\n",
    "lists,"
   ]
  },
  {
   "cell_type": "markdown",
   "metadata": {},
   "source": [
    "#### Q: How are classes and objects represented in memory?"
   ]
  },
  {
   "cell_type": "markdown",
   "metadata": {},
   "source": [
    "The class technically just code"
   ]
  },
  {
   "cell_type": "markdown",
   "metadata": {},
   "source": [
    "objects are stored in memory by taking up some number of bytes, objects maybe take a chunk of memory, probably in the same location, but python handles for you."
   ]
  },
  {
   "cell_type": "markdown",
   "metadata": {},
   "source": [
    "other questions\n",
    "\n",
    "on classes and objects. Neha if I'm saying it right,\n",
    "\n",
    "Oh, still there we go.\n",
    "\n",
    "Our class is represented in memory.\n",
    "\n",
    "These just lists of things kind of tight, tight to each other or\n",
    "\n",
    "I missed the first part. Can you say again? What's tied to each other?\n",
    "\n",
    "Our class is represented in the memory.\n",
    "\n",
    "Like are these lists of things just tied to each other in some way?\n",
    "\n",
    "Are the classes assigned to each other and\n",
    "\n",
    "know they're completely independent.\n",
    "\n",
    "So just because I've created this class doesn't\n",
    "\n",
    "mean there's any connection to any other classes.\n",
    "\n",
    "We'll see ways to create multiple classes though.\n",
    "\n",
    "How are they represented in memory?\n",
    "\n",
    "Say again. How our classes or objects represented in memory?\n",
    "\n",
    "How are classes and objects represented in memory?\n",
    "\n",
    "So the class is technically just code.\n",
    "\n",
    "It is the code on the top of my file lines,\n",
    "\n",
    "one through four that defines that blueprint that template if you will,\n",
    "\n",
    "objects are stored in the computer's memory by taking up some number of bytes.\n",
    "\n",
    "So you're probably familiar with bytes or kilobytes or megabytes.\n",
    "\n",
    "There's some chunk of bytes,\n",
    "\n",
    "probably all in the same location in the computer's memory\n",
    "\n",
    "or RAM where those where those objects are stored.\n",
    "\n",
    "But that's what python the program handles for you, python,\n",
    "\n",
    "the interpreter figures out where in the computer's memory to put it,\n",
    "\n",
    "you and I the programmers get to think and solve problems at this level python,\n",
    "\n",
    "the interpreter handles those lower level details for you."
   ]
  },
  {
   "cell_type": "markdown",
   "metadata": {},
   "source": [
    "#### Q: If you can do the same thing in the dictionary, why bother using classes?"
   ]
  },
  {
   "cell_type": "markdown",
   "metadata": {},
   "source": [
    "Get familier with class."
   ]
  },
  {
   "cell_type": "markdown",
   "metadata": {},
   "source": [
    "How about one final question on classes and objects, Vasundhara,\n",
    "\n",
    "if I'm saying it right.\n",
    "\n",
    "Hi, thank you so much. Now.\n",
    "\n",
    "My question is if we can the same, do the same thing with the dictionaries\n",
    "\n",
    "to use classes. Good question.\n",
    "\n",
    "If you can do the same things as you can with dictionaries,\n",
    "\n",
    "why should you use classes?\n",
    "\n",
    "Because we are just scratching the surface now of what you can do with classes,\n",
    "\n",
    "allow me to go back now to my keyboard and show you more of what you can do with classes.\n",
    "\n",
    "But in short, you can do much more with classes,\n",
    "\n",
    "you can ensure the correctness of your data much more with classes.\n",
    "\n",
    "You can error check things and generally\n",
    "\n",
    "you can design more complicated software more effectively\n",
    "\n",
    "and will continue to see today features of\n",
    "\n",
    "python and object oriented programming more generally,\n",
    "\n",
    "that allows us to do just that."
   ]
  },
  {
   "cell_type": "markdown",
   "metadata": {},
   "source": [
    "### student11.py"
   ]
  },
  {
   "cell_type": "code",
   "execution_count": null,
   "metadata": {},
   "outputs": [],
   "source": [
    "# Eliminates unneeded variable\n",
    "\n",
    "\n",
    "class Student:\n",
    "    def __init__(self, name, house):\n",
    "        self.name = name\n",
    "        self.house = house\n",
    "\n",
    "\n",
    "def main():\n",
    "    student = get_student()\n",
    "    print(f\"{student.name} from {student.house}\")\n",
    "\n",
    "\n",
    "def get_student():\n",
    "    name = input(\"Name: \")\n",
    "    house = input(\"House: \")\n",
    "    return Student(name, house)\n",
    "\n",
    "\n",
    "if __name__ == \"__main__\":\n",
    "    main()\n",
    "    "
   ]
  },
  {
   "cell_type": "markdown",
   "metadata": {},
   "source": [
    "## raise"
   ]
  },
  {
   "cell_type": "markdown",
   "metadata": {},
   "source": [
    "raise user-dfined exception"
   ]
  },
  {
   "cell_type": "markdown",
   "metadata": {},
   "source": [
    "### student12.py"
   ]
  },
  {
   "cell_type": "code",
   "execution_count": null,
   "metadata": {},
   "outputs": [],
   "source": [
    "# Adds validation in __init__ using raise\n",
    "\n",
    "\n",
    "class Student:\n",
    "    def __init__(self, name, house):\n",
    "        if not name:\n",
    "            raise ValueError(\"Missing name\")\n",
    "        if house not in [\"Gryffindor\", \"Hufflepuff\", \"Ravenclaw\",\\\n",
    "                         \"Slytherin\"]:\n",
    "            raise ValueError(\"Invalid house\")\n",
    "        self.name = name\n",
    "        self.house = house\n",
    "\n",
    "\n",
    "def main():\n",
    "    student = get_student()\n",
    "    print(f\"{student.name} from {student.house}\")\n",
    "\n",
    "\n",
    "def get_student():\n",
    "    name = input(\"Name: \")\n",
    "    house = input(\"House: \")\n",
    "    return Student(name, house)\n",
    "\n",
    "\n",
    "if __name__ == \"__main__\":\n",
    "    main()\n"
   ]
  },
  {
   "cell_type": "markdown",
   "metadata": {},
   "source": [
    "#### Q: What if user has middle name, last name?"
   ]
  },
  {
   "cell_type": "markdown",
   "metadata": {},
   "source": [
    "Some different solution to this question"
   ]
  },
  {
   "cell_type": "markdown",
   "metadata": {},
   "source": [
    "Any questions now\n",
    "\n",
    "on\n",
    "\n",
    "this use of classes and in it and now this ability\n",
    "\n",
    "to raise exceptions when something goes wrong inside of the initialization.\n",
    "\n",
    "Uh, Giordani, if I'm saying it right.\n",
    "\n",
    "Yes, yes, I'm sorry, I was muted. So what if\n",
    "\n",
    "the user has a middle name, name, middle name and last name? How would you fix that?\n",
    "\n",
    "A good question.\n",
    "\n",
    "If you wanted the user to if you wanted the students have a first name,\n",
    "\n",
    "middle name and last name.\n",
    "\n",
    "We could do this in a bunch of different ways.\n",
    "\n",
    "The simplest though,\n",
    "\n",
    "if let me clear my screen here and let me just temporarily do this.\n",
    "\n",
    "Let me propose that the Senate method taking a first argument,\n",
    "\n",
    "a middle argument and a last argument.\n",
    "\n",
    "And then what I think I would do down here is ultimately have first\n",
    "\n",
    "equals first and then I would do the same thing for middle and last.\n",
    "\n",
    "So middle and middle and then last and last. And then what I would have to do here\n",
    "\n",
    "is when I actually ask the user for their name, I might need to really go all out.\n",
    "\n",
    "I might need to ask them first for their first name and\n",
    "\n",
    "store that in a variable called first and therefore pass in first.\n",
    "\n",
    "I might similarly need to ask them for their middle name\n",
    "\n",
    "and store that in a variable and then pass in a second argument.\n",
    "\n",
    "Middle and then lastly if you will let me\n",
    "\n",
    "go ahead and create a third variable called last.\n",
    "\n",
    "Get the input for their last name and pass that in as well.\n",
    "\n",
    "I could instead just use one input and just ask them for their whole name.\n",
    "\n",
    "So type in David malin enter or David,\n",
    "\n",
    "J malan all three of them and maybe I could use python split function,\n",
    "\n",
    "maybe a regular expression to tease it apart.\n",
    "\n",
    "That's probably going to be messy because there's gonna be\n",
    "\n",
    "people who don't have just two or three names,\n",
    "\n",
    "they might have four or five.\n",
    "\n",
    "So maybe sometimes it's better to have multiple prompts,\n",
    "\n",
    "but that's not a problem because with the class we have\n",
    "\n",
    "the expressiveness to take in more arguments if we want.\n",
    "\n",
    "We could even take a list if we wanted but I think we\n",
    "\n",
    "probably want to have even more error checking then not just for name,\n",
    "\n",
    "but for first and then maybe for middle and then maybe for last.\n",
    "\n",
    "So it just is more and more code though,\n",
    "\n",
    "there would be ways to perhaps consolidate that to let me undo\n",
    "\n",
    "all of that and"
   ]
  },
  {
   "cell_type": "markdown",
   "metadata": {},
   "source": [
    "#### Q: Can I just put them in seperate file somewhere and import them as a library into my project?"
   ]
  },
  {
   "cell_type": "markdown",
   "metadata": {},
   "source": [
    "Yes, we can implement those calsses in our own library just like we use other 3rd party library."
   ]
  },
  {
   "cell_type": "markdown",
   "metadata": {},
   "source": [
    "see if there are other questions now on classes\n",
    "\n",
    "Yeah, 50 if I'm saying that right,\n",
    "\n",
    "correct.\n",
    "\n",
    "Um that feels like those libraries we import pretty much doing something similar.\n",
    "\n",
    "I assume this is classes or something I might do at the beginning of a project.\n",
    "\n",
    "Can I just put them in a different file and\n",
    "\n",
    "important into my project or my main code as needed.\n",
    "\n",
    "Absolutely. A really good question.\n",
    "\n",
    "You could imagine wanting to use this student class, not just in student dot pi,\n",
    "\n",
    "but in other files or other projects of yours.\n",
    "\n",
    "And absolutely.\n",
    "\n",
    "You can create your own library of classes by putting the student class in your\n",
    "\n",
    "own module or package per our discussion\n",
    "\n",
    "in the past about libraries more generally.\n",
    "\n",
    "And absolutely, you can do that.\n",
    "\n",
    "And later today will we see that we've actually been\n",
    "\n",
    "using classes you and I before in third party libraries."
   ]
  },
  {
   "cell_type": "markdown",
   "metadata": {},
   "source": [
    "#### Q: Can you have optional variable in class?"
   ]
  },
  {
   "cell_type": "markdown",
   "metadata": {},
   "source": [
    "Give those argument default name     "
   ]
  },
  {
   "cell_type": "markdown",
   "metadata": {},
   "source": [
    "So you two can absolutely do the same. How about one more question on classes?\n",
    "\n",
    "Yeah. ErIC\n",
    "\n",
    "erIC over to uh so I have two questions.\n",
    "\n",
    "Question one,\n",
    "\n",
    "can you have optional variables in classes and two can you have your own error?\n",
    "\n",
    "Names\n",
    "\n",
    "like let's be egotistical and say I want to raise eric error\n",
    "\n",
    "cannot be done. Short answer. Yes.\n",
    "\n",
    "So you can see these in IT functions are just like python functions more generally,\n",
    "\n",
    "even though they're special and that they're gonna\n",
    "\n",
    "get called automatically by python for you.\n",
    "\n",
    "But if you wanted to make house optional, you could do something like this.\n",
    "\n",
    "You could give it a default value\n",
    "\n",
    "in the in IT functions, signature, so to speak, in that first line of code online too.\n",
    "\n",
    "And that would allow me to not have to pass in house in this case I'm\n",
    "\n",
    "going to continue to always pass the name\n",
    "\n",
    "and house but you could make things optional.\n",
    "\n",
    "And yes, your second question.\n",
    "\n",
    "If you wanted to have your own error message like an eric error,\n",
    "\n",
    "you could actually create your own eric error exception.\n",
    "\n",
    "And we'll see in a little bit that there's actually a\n",
    "\n",
    "whole suite of exceptions that exist and you too can invent those\n",
    "\n",
    "as well."
   ]
  },
  {
   "cell_type": "markdown",
   "metadata": {},
   "source": [
    "#### Q: Can you have your own error name?"
   ]
  },
  {
   "cell_type": "markdown",
   "metadata": {},
   "source": [
    "Absolutely yes. Just like `try ... except ...` catch `FontNotFound`\n",
    "exception in pset3 last one problem.\n",
    "\n",
    "```python\n",
    "class FontNotFoundError(exception):\n",
    "    pass\n",
    "\n",
    "```\n",
    "\n",
    "all user-defined exception should subclass the exception class "
   ]
  },
  {
   "cell_type": "markdown",
   "metadata": {},
   "source": [
    "### student13.py"
   ]
  },
  {
   "cell_type": "code",
   "execution_count": 9,
   "metadata": {},
   "outputs": [
    {
     "name": "stdout",
     "output_type": "stream",
     "text": [
      "Name: Harry\n",
      "House: Gryffindor\n",
      "<__main__.Student object at 0x7f506435ee90>\n"
     ]
    }
   ],
   "source": [
    "# Prints student without __str__\n",
    "\n",
    "\n",
    "class Student:\n",
    "    def __init__(self, name, house):\n",
    "        if not name:\n",
    "            raise ValueError(\"Missing name\")\n",
    "        if house not in [\"Gryffindor\", \"Hufflepuff\", \"Ravenclaw\", \\\n",
    "                         \"Slytherin\"]:\n",
    "            raise ValueError(\"Invalid house\")\n",
    "        self.name = name\n",
    "        self.house = house\n",
    "\n",
    "\n",
    "def main():\n",
    "    student = get_student()\n",
    "    print(student)\n",
    "\n",
    "\n",
    "def get_student():\n",
    "    name = input(\"Name: \")\n",
    "    house = input(\"House: \")\n",
    "    return Student(name, house)\n",
    "\n",
    "\n",
    "if __name__ == \"__main__\":\n",
    "    main()\n"
   ]
  },
  {
   "cell_type": "markdown",
   "metadata": {},
   "source": [
    "## `__str__`\n"
   ]
  },
  {
   "cell_type": "markdown",
   "metadata": {},
   "source": [
    "Special method which is automatically called by python when is been call by programmer\n"
   ]
  },
  {
   "cell_type": "markdown",
   "metadata": {},
   "source": [
    "### student14.py"
   ]
  },
  {
   "cell_type": "code",
   "execution_count": 10,
   "metadata": {},
   "outputs": [
    {
     "name": "stdout",
     "output_type": "stream",
     "text": [
      "Name: Harry\n",
      "House: Gryffindor\n",
      "Harry from Gryffindor\n"
     ]
    }
   ],
   "source": [
    "# Adds __str__\n",
    "\n",
    "\n",
    "class Student:\n",
    "    def __init__(self, name, house):\n",
    "        if not name:\n",
    "            raise ValueError(\"Missing name\")\n",
    "        if house not in [\"Gryffindor\", \"Hufflepuff\", \"Ravenclaw\", \"Slytherin\"]:\n",
    "            raise ValueError(\"Invalid house\")\n",
    "        self.name = name\n",
    "        self.house = house\n",
    "\n",
    "    def __str__(self):\n",
    "        return f\"{self.name} from {self.house}\"\n",
    "\n",
    "\n",
    "def main():\n",
    "    student = get_student()\n",
    "    print(student)\n",
    "\n",
    "\n",
    "def get_student():\n",
    "    name = input(\"Name: \")\n",
    "    house = input(\"House: \")\n",
    "    return Student(name, house)\n",
    "\n",
    "\n",
    "if __name__ == \"__main__\":\n",
    "    main()\n"
   ]
  },
  {
   "cell_type": "markdown",
   "metadata": {},
   "source": [
    "#### Q: "
   ]
  },
  {
   "cell_type": "markdown",
   "metadata": {},
   "source": []
  },
  {
   "cell_type": "markdown",
   "metadata": {},
   "source": [
    "questions on this function here.\n",
    "\n",
    "This thunder stir method.\n",
    "\n",
    "Again, it's among the special methods that just come with classes in python\n",
    "\n",
    "questions on this. Yeah. Over to\n",
    "\n",
    "uh, john is it john?\n",
    "\n",
    "Yeah, it's john john, thank you for calling on me.\n",
    "\n",
    "Well, I've been following along writing\n",
    "\n",
    "in V. S. Code\n",
    "\n",
    "and\n",
    "\n",
    "I'm pretty sure I have exactly the same program as you do,\n",
    "\n",
    "but it's throwing a type error that student\n",
    "\n",
    "with capital S\n",
    "\n",
    "takes no arguments.\n",
    "\n",
    "Student with capital S takes no arguments.\n",
    "\n",
    "Um, I don't, I can't, I'm not sure offhand.\n",
    "\n",
    "If you want to copy, paste your code into the chat window?\n",
    "\n",
    "Let me propose that someone else in the chat room\n",
    "\n",
    "might be able to answer or my colleague carter,\n",
    "\n",
    "but I'm not sure I can be that useful without seeing it here.\n",
    "\n",
    "So if you don't mind, you can, if you want to paste into the chat instead\n",
    "\n",
    "and let me go on to someone else just because I\n",
    "\n",
    "won't be able to see the chat in real time."
   ]
  },
  {
   "cell_type": "markdown",
   "metadata": {},
   "source": [
    "#### Q: Is there anything else that `__str__` can do?\n"
   ]
  },
  {
   "cell_type": "markdown",
   "metadata": {},
   "source": [
    "There are many others"
   ]
  },
  {
   "cell_type": "markdown",
   "metadata": {},
   "source": [
    "Yes. Um, so two questions.\n",
    "\n",
    "One is um uh is there anything else that\n",
    "\n",
    "the underscore underscore underscore stir method can do.\n",
    "\n",
    "Um The other question is, what's the difference between stir and reaper?\n",
    "\n",
    "A good question.\n",
    "\n",
    "So there are many other methods that come with python classes that\n",
    "\n",
    "start with underscore underscore we're just scratching the surface and well,\n",
    "\n",
    "pretty much focus primarily on these.\n",
    "\n",
    "But yes, there are many others and we'll see at least one other in just a little bit.\n",
    "\n",
    "There is among the others is indeed one called Red pepper,\n",
    "\n",
    "which is a representation of the python object.\n",
    "\n",
    "Generally speaking,\n",
    "\n",
    "the underscore underscore r E P R underscore\n",
    "\n",
    "underscore method is meant for developers eyes,\n",
    "\n",
    "it typically has more information than harry from Gryffindor.\n",
    "\n",
    "It would also say what type of object it\n",
    "\n",
    "is like a student capital S whereas underscore underscore,\n",
    "\n",
    "stir underscore underscore is generally meant for users,\n",
    "\n",
    "the users of the program and it's meant to be even more user friendly.\n",
    "\n",
    "But both of those can be overridden as you see fit"
   ]
  },
  {
   "cell_type": "markdown",
   "metadata": {},
   "source": [
    "#### Q: What's the difference between`__str__` [`__repr__`](https://docs.python.org/3/reference/datamodel.html?highlight=__repr__#object.__repr__)?"
   ]
  },
  {
   "cell_type": "markdown",
   "metadata": {},
   "source": [
    "Recommand to read from python official doc.\n",
    "\n",
    "object.__repr__(self)\n",
    "Called by the repr() built-in function to compute the “official” string representation of an object. If at all possible, this should look like a valid Python expression that could be used to recreate an object with the same value (given an appropriate environment). If this is not possible, a string of the form <...some useful description...> should be returned. The return value must be a string object. If a class defines __repr__() but not __str__(), then __repr__() is also used when an “informal” string representation of instances of that class is required.\n",
    "\n",
    "This is typically used for debugging, so it is important that the representation is information-rich and unambiguous.\n",
    "\n",
    "object.__str__(self)\n",
    "Called by str(object) and the built-in functions format() and print() to compute the “informal” or nicely printable string representation of an object. The return value must be a string object.\n",
    "\n",
    "This method differs from object.__repr__() in that there is no expectation that __str__() return a valid Python expression: a more convenient or concise representation can be used.\n",
    "\n",
    "The default implementation defined by the built-in type object calls object.__repr__()."
   ]
  },
  {
   "cell_type": "markdown",
   "metadata": {},
   "source": [
    "#### Q: "
   ]
  },
  {
   "cell_type": "markdown",
   "metadata": {},
   "source": []
  },
  {
   "cell_type": "markdown",
   "metadata": {},
   "source": [
    "### student15.py"
   ]
  },
  {
   "cell_type": "code",
   "execution_count": 11,
   "metadata": {},
   "outputs": [
    {
     "name": "stdout",
     "output_type": "stream",
     "text": [
      "Name: Harry\n",
      "House: Gryffindor\n",
      "Patronus: Pat\n",
      "Harry from Gryffindor\n"
     ]
    }
   ],
   "source": [
    "# Prompts for patronus too, but doesn't display yet\n",
    "\n",
    "\n",
    "class Student:\n",
    "    def __init__(self, name, house, patronus):\n",
    "        if not name:\n",
    "            raise ValueError(\"Missing name\")\n",
    "        if house not in [\"Gryffindor\", \"Hufflepuff\", \"Ravenclaw\",\\\n",
    "                         \"Slytherin\"]:\n",
    "            raise ValueError(\"Invalid house\")\n",
    "        self.name = name\n",
    "        self.house = house\n",
    "        self.patronus = patronus\n",
    "\n",
    "    def __str__(self):\n",
    "        return f\"{self.name} from {self.house}\"\n",
    "\n",
    "\n",
    "def main():\n",
    "    student = get_student()\n",
    "    print(student)\n",
    "\n",
    "\n",
    "def get_student():\n",
    "    name = input(\"Name: \")\n",
    "    house = input(\"House: \")\n",
    "    patronus = input(\"Patronus: \")\n",
    "    return Student(name, house, patronus)\n",
    "\n",
    "\n",
    "if __name__ == \"__main__\":\n",
    "    main()\n"
   ]
  },
  {
   "cell_type": "markdown",
   "metadata": {},
   "source": [
    "### student16.py"
   ]
  },
  {
   "cell_type": "code",
   "execution_count": null,
   "metadata": {},
   "outputs": [],
   "source": [
    "# Adds charm method to cast a charm\n",
    "\n",
    "\n",
    "class Student:\n",
    "    def __init__(self, name, house, patronus=None):\n",
    "        if not name:\n",
    "            raise ValueError(\"Missing name\")\n",
    "        if house not in [\"Gryffindor\", \"Hufflepuff\", \"Ravenclaw\",\\\n",
    "                         \"Slytherin\"]:\n",
    "            raise ValueError(\"Invalid house\")\n",
    "        if patronus and patronus not in [\"Stag\", \"Otter\", \\\n",
    "                                         \"Jack Russell terrier\"]:\n",
    "            raise ValueError(\"Invalid patronus\")\n",
    "        self.name = name\n",
    "        self.house = house\n",
    "        self.patronus = patronus\n",
    "\n",
    "    def __str__(self):\n",
    "        return f\"{self.name} from {self.house}\"\n",
    "\n",
    "    def charm(self):\n",
    "        match self.patronus:\n",
    "            case \"Stag\":\n",
    "                return \"🐴\"\n",
    "            case \"Otter\":\n",
    "                return \"🦦\"\n",
    "            case \"Jack Russell terrier\":\n",
    "                return \"🐶\"\n",
    "            case _:\n",
    "                return \"🪄\"\n",
    "\n",
    "\n",
    "def main():\n",
    "    student = get_student()\n",
    "    print(\"Expecto Patronum!\")\n",
    "    print(student.charm())\n",
    "\n",
    "\n",
    "def get_student():\n",
    "    name = input(\"Name: \")\n",
    "    house = input(\"House: \")\n",
    "    patronus = input(\"Patronus: \") or None\n",
    "    return Student(name, house, patronus)\n",
    "\n",
    "\n",
    "if __name__ == \"__main__\":\n",
    "    main()\n"
   ]
  },
  {
   "cell_type": "markdown",
   "metadata": {},
   "source": [
    "#### Q: Can we call method outside of the class?"
   ]
  },
  {
   "cell_type": "markdown",
   "metadata": {},
   "source": [
    "Absolutely, `student.charm()` is been called outside of the class inside of main function.\n",
    "\n",
    "The `__function__` called by python interpretor automatically"
   ]
  },
  {
   "cell_type": "markdown",
   "metadata": {},
   "source": [
    "questions now on what I've done by implementing this charm method.\n",
    "\n",
    "Again, to get here, we added a Patronus variable\n",
    "\n",
    "in our get student function\n",
    "\n",
    "that actually gets a third value from the user and then passes it in as a new argument\n",
    "\n",
    "to our innit method for tom\n",
    "\n",
    "Yeah. Hi, uh so\n",
    "\n",
    "um\n",
    "\n",
    "yes, we can hear you.\n",
    "\n",
    "Yeah, so like what I understand this, like this is a method\n",
    "\n",
    "and\n",
    "\n",
    "can we like to call a method outside the function?\n",
    "\n",
    "Like the str function\n",
    "\n",
    "str is also in the third and this is also a method. So how do we distinguish?\n",
    "\n",
    "Like, can we call it from outside the program?\n",
    "\n",
    "Can we call it from outside the class?\n",
    "\n",
    "Yeah, I would say.\n",
    "\n",
    "Absolutely. And we're seeing that already.\n",
    "\n",
    "If I scroll back down to my main function,\n",
    "\n",
    "which is outside of the class because it's all the way down in the file,\n",
    "\n",
    "it's all left aligned,\n",
    "\n",
    "just like the class notice online 28 I'm calling student dot\n",
    "\n",
    "charm and I'm accessing a method that's inside of the student object\n",
    "\n",
    "even though my main function is outside of the class\n",
    "\n",
    "and what's different between our inner function or method\n",
    "\n",
    "and our stir method that we've seen before.\n",
    "\n",
    "Those are called automatically when you try to create a student or\n",
    "\n",
    "when you try to print a student for the first time.\n",
    "\n",
    "We're now seeing a method that I invented inside of the student class\n",
    "\n",
    "that I can call anywhere I want and if I'm\n",
    "\n",
    "calling it outside of the class like I am here,\n",
    "\n",
    "I just use the name of the variable containing\n",
    "\n",
    "that student object and I just do dot charm\n",
    "\n",
    "just like I could access the individual attributes or\n",
    "\n",
    "instance variables inside of that object as well."
   ]
  },
  {
   "cell_type": "markdown",
   "metadata": {},
   "source": [
    "#### Q:  Why every method should have `self` as first argument?"
   ]
  },
  {
   "cell_type": "markdown",
   "metadata": {},
   "source": [
    "ther questions on\n",
    "\n",
    "classes and this new method charm tray. If I'm saying that right,\n",
    "\n",
    "you used to put a,\n",
    "\n",
    "if you go up on your code\n",
    "\n",
    "in the method and the\n",
    "\n",
    "and apprentices\n",
    "\n",
    "you are\n",
    "\n",
    "you put itself\n",
    "\n",
    "are you, is that you said That's gonna be uh\n",
    "\n",
    "initialize,\n",
    "\n",
    "I guess it's supposed to be like an initialized but like in in the top part you didn't,\n",
    "\n",
    "you didn't define it the same way.\n",
    "\n",
    "Do you have to keep like writing like you say class,\n",
    "\n",
    "students would you have to put the class on why you didn't put the class right there.\n",
    "\n",
    "So notice the indentation here.\n",
    "\n",
    "So on line one I've of course said class student colon\n",
    "\n",
    "and then everything below that is indented at the moment.\n",
    "\n",
    "That means that my innit method,\n",
    "\n",
    "my stir method and this new charm method are all inside of part of that class.\n",
    "\n",
    "By convention.\n",
    "\n",
    "Then each of these methods inside of a class should expect that python\n",
    "\n",
    "will automatically pass in at least one argument to every method in a class\n",
    "\n",
    "and that argument will always be a reference to the current object,\n",
    "\n",
    "the hairy object or the Draco object that is\n",
    "\n",
    "currently trying to cast a charm or be printed.\n",
    "\n",
    "So whenever you create a method inside of a class,\n",
    "\n",
    "you should always have it take at least one argument called self\n",
    "\n",
    "and then zero or more other arguments that are entirely up to you\n",
    "\n",
    "in it for instance, takes three more name. House Patronus\n",
    "\n",
    "stir takes zero more charm. Take zero more.\n",
    "\n",
    "But the convention is to always call that default\n",
    "\n",
    "argument self And python just automatically gives you access\n",
    "\n",
    "to the current object."
   ]
  },
  {
   "cell_type": "markdown",
   "metadata": {},
   "source": [
    "#### Q: The emoji in the double quote doesn't take as formal strings or something else."
   ]
  },
  {
   "cell_type": "markdown",
   "metadata": {},
   "source": [
    "Other questions. How about one more on classes\n",
    "\n",
    "and charms. Ducks? If I'm saying it right.\n",
    "\n",
    "Yes sir\n",
    "\n",
    "sir. I just wanted to ask that you have put the emojis in\n",
    "\n",
    "double quotes so it doesn't take the emojis as a formal strings or something else.\n",
    "\n",
    "Yes. If unfamiliar in emoji is just a character.\n",
    "\n",
    "It's part of a mapping of numbers to letters known as Unicode.\n",
    "\n",
    "And so whenever you see these emoji on the screen,\n",
    "\n",
    "like the horse or the otter or the dog here specifically,\n",
    "\n",
    "that's really just like a key from your keyboard.\n",
    "\n",
    "You and I on macs and Pcs can't typically type it\n",
    "\n",
    "because you see english characters or some other human language.\n",
    "\n",
    "But emoji are increasingly available via menus and drop down and in my\n",
    "\n",
    "case copy paste on Macs and PCS and android devices and iphones.\n",
    "\n",
    "They are just characters even though they look like pictures,\n",
    "\n",
    "you can think of it like a graphical font almost.\n",
    "\n",
    "So they're just text.\n",
    "\n",
    "And indeed, if you put them between double quotes or single quotes,\n",
    "\n",
    "you can print emoji just like you can any other human character as well.\n",
    "\n",
    "Well,"
   ]
  },
  {
   "cell_type": "markdown",
   "metadata": {},
   "source": [
    "## properties"
   ]
  },
  {
   "cell_type": "markdown",
   "metadata": {},
   "source": [
    "### student17.py"
   ]
  },
  {
   "cell_type": "code",
   "execution_count": null,
   "metadata": {},
   "outputs": [],
   "source": [
    "# Removes patronus for simplicy, circumvents error-checking by setting attribute\n",
    "\n",
    "\n",
    "class Student:\n",
    "    def __init__(self, name, house):\n",
    "        if not name:\n",
    "            raise ValueError(\"Invalid name\")\n",
    "        if house not in [\"Gryffindor\", \"Hufflepuff\", \"Ravenclaw\",\\\n",
    "                         \"Slytherin\"]:\n",
    "            raise ValueError(\"Invalid house\")\n",
    "        self.name = name\n",
    "        self.house = house\n",
    "\n",
    "    def __str__(self):\n",
    "        return f\"{self.name} from {self.house}\"\n",
    "\n",
    "\n",
    "def main():\n",
    "    student = get_student()\n",
    "    student.house = \"Number Four, Privet Drive\"\n",
    "    print(student)\n",
    "\n",
    "\n",
    "def get_student():\n",
    "    name = input(\"Name: \")\n",
    "    house = input(\"House: \")\n",
    "    return Student(name, house)\n",
    "\n",
    "\n",
    "if __name__ == \"__main__\":\n",
    "    main()\n"
   ]
  },
  {
   "cell_type": "markdown",
   "metadata": {},
   "source": [
    "## @property"
   ]
  },
  {
   "cell_type": "markdown",
   "metadata": {},
   "source": [
    "## decorators"
   ]
  },
  {
   "cell_type": "markdown",
   "metadata": {},
   "source": [
    "## student18.py"
   ]
  },
  {
   "cell_type": "code",
   "execution_count": null,
   "metadata": {},
   "outputs": [],
   "source": [
    "# Adds @property for house\n",
    "\n",
    "\n",
    "class Student:\n",
    "    def __init__(self, name, house):\n",
    "        if not name:\n",
    "            raise ValueError(\"Invalid name\")\n",
    "        self.name = name\n",
    "        self.house = house\n",
    "\n",
    "    def __str__(self):\n",
    "        return f\"{self.name} from {self.house}\"\n",
    "\n",
    "    @property\n",
    "    def house(self):\n",
    "        return self._house\n",
    "\n",
    "    @house.setter\n",
    "    def house(self, house):\n",
    "        if house not in [\"Gryffindor\", \"Hufflepuff\", \"Ravenclaw\", \\\n",
    "                         \"Slytherin\"]:\n",
    "            raise ValueError(\"Invalid house\")\n",
    "        self._house = house\n",
    "\n",
    "\n",
    "def main():\n",
    "    student = get_student()\n",
    "    print(student)\n",
    "\n",
    "\n",
    "def get_student():\n",
    "    name = input(\"Name: \")\n",
    "    house = input(\"House: \")\n",
    "    return Student(name, house)\n",
    "\n",
    "\n",
    "if __name__ == \"__main__\":\n",
    "    main()\n"
   ]
  },
  {
   "cell_type": "markdown",
   "metadata": {},
   "source": [
    "#### Q: Why setter and getter?"
   ]
  },
  {
   "cell_type": "markdown",
   "metadata": {},
   "source": [
    "But any question on\n",
    "\n",
    "properties\n",
    "\n",
    "and properties again, give us the ability to define getters and setters,\n",
    "\n",
    "respectively.\n",
    "\n",
    "Using new syntax like at property but ultimately they're allowing us\n",
    "\n",
    "to decorate some functions we wrote with this special behavior Nikita,\n",
    "\n",
    "can you hear? Yes, we can.\n",
    "\n",
    "Yeah.\n",
    "\n",
    "So my question is while we're using getters and setters,\n",
    "\n",
    "it's it's just for it's just for the purpose so that we can\n",
    "\n",
    "find out that function and that method that function in in our goal,\n",
    "\n",
    "is it\n",
    "\n",
    "my radar?\n",
    "\n",
    "Well, the I think if I'm hearing your corruption correctly,\n",
    "\n",
    "the reason that I'm going through the trouble of defining this getter or setter\n",
    "\n",
    "is because I want to make sure that programmers cannot do things like this.\n",
    "\n",
    "If I'm going through the trouble of validating\n",
    "\n",
    "the attributes for these student objects,\n",
    "\n",
    "I don't want you to be able to go in there and just change them at will I want\n",
    "\n",
    "to have some control over that object so that you\n",
    "\n",
    "can just trust that it's going to be correct.\n",
    "\n",
    "As designed.\n",
    "\n",
    "So using a getter and setter really just enables python\n",
    "\n",
    "to automatically detect when you're trying to manually set a\n",
    "\n",
    "value the equal sign and the dot as I've highlighted\n",
    "\n",
    "here is enough of a clue to python to realize,\n",
    "\n",
    "wait a minute you're trying to set a value.\n",
    "\n",
    "Let me see if this class has a setter defined and if so\n",
    "\n",
    "I'm gonna call that and I'm not just gonna blindly assign\n",
    "\n",
    "the value from right to left.\n",
    "\n",
    "So it's just giving me more control\n"
   ]
  },
  {
   "cell_type": "markdown",
   "metadata": {},
   "source": [
    "#### Q: Is it always one argument for getter and two arguments for setter?"
   ]
  },
  {
   "cell_type": "markdown",
   "metadata": {},
   "source": [
    "other questions on properties.\n",
    "\n",
    "Yeah. And Andres\n",
    "\n",
    "Yes, thank you.\n",
    "\n",
    "That means that when we use getters we just have used one argument\n",
    "\n",
    "and if we use setters is always going to be two arguments,\n",
    "\n",
    "it's not normal\n",
    "\n",
    "correct. It's always going to be one argument\n",
    "\n",
    "self for the getter\n",
    "\n",
    "to arguments for the center self and something else.\n",
    "\n",
    "And the intuition for that is if you're getting a value you don't\n",
    "\n",
    "need to pass anything else in because you already know the object.\n",
    "\n",
    "It's called student in this case.\n",
    "\n",
    "So you're just going to get the value of that property.\n",
    "\n",
    "But if you want to set the property to something else,\n",
    "\n",
    "you've got to pass in that argument,\n",
    "\n",
    "you've got to pass in the value to which you want to set it.\n",
    "\n",
    "So it's always zero or one.\n",
    "\n",
    "However you see it as one or two because again,\n",
    "\n",
    "any function inside of a class A K A method is going to be\n",
    "\n",
    "automatically past self so that you have access to that current object in memory.\n"
   ]
  },
  {
   "cell_type": "markdown",
   "metadata": {},
   "source": [
    "#### Q: we are using this underscore house in setters in order to not collide with metho with functionion, but why didn't we use the same uderscore house in any method?"
   ]
  },
  {
   "cell_type": "markdown",
   "metadata": {},
   "source": [
    "How about one other question on properties or the like Philip\n",
    "\n",
    "Oh yes. Hello. I just wanted to know\n",
    "\n",
    "like okay, we are using this underscore house in centers in order to not,\n",
    "\n",
    "not to collide with with method with with functioning,\n",
    "\n",
    "but why didn't we use the same underscore house in any method?\n",
    "\n",
    "Maybe\n",
    "\n",
    "maybe I missed it. But\n",
    "\n",
    "a good question.\n",
    "\n",
    "So even though I'm using the underscore house here in\n",
    "\n",
    "my center and the underscore house here in my getter,\n",
    "\n",
    "I deliberately did not use it\n",
    "\n",
    "up here.\n",
    "\n",
    "The reason for that\n",
    "\n",
    "is that by using self dot house and this equal sign,\n",
    "\n",
    "that's the same pattern that I want python to recognize.\n",
    "\n",
    "I want python to automatically call the center\n",
    "\n",
    "even when I'm passing in the house via the innit method.\n",
    "\n",
    "If I were to change this to do this,\n",
    "\n",
    "that would circumvent the center\n",
    "\n",
    "and now there's no error checking in it whatsoever.\n",
    "\n",
    "So it's such a fine line.\n",
    "\n",
    "The only thing standing between us and error checking or no error checking\n",
    "\n",
    "is the presence or absence of this underscore.\n",
    "\n",
    "But that's typically the convention by not using the underscore their,\n",
    "\n",
    "make sure that even that assignment goes through the\n",
    "\n",
    "center so that honestly I don't have to copy,\n",
    "\n",
    "paste the same error checking in to places I can put it just\n",
    "\n",
    "in the center. So it's better design.\n",
    "\n",
    "And that's why I manually retyped it at first but then I deleted it\n",
    "\n",
    "from in it."
   ]
  },
  {
   "cell_type": "markdown",
   "metadata": {},
   "source": [
    "### student19.py"
   ]
  },
  {
   "cell_type": "code",
   "execution_count": null,
   "metadata": {},
   "outputs": [],
   "source": [
    "# Adds @property for name\n",
    "\n",
    "\n",
    "class Student:\n",
    "    def __init__(self, name, house):\n",
    "        self.name = name\n",
    "        self.house = house\n",
    "\n",
    "    def __str__(self):\n",
    "        return f\"{self.name} from {self.house}\"\n",
    "\n",
    "    @property\n",
    "    def name(self):\n",
    "        return self._name\n",
    "\n",
    "    @name.setter\n",
    "    def name(self, name):\n",
    "        if not name:\n",
    "            raise ValueError(\"Invalid name\")\n",
    "        self._name = name\n",
    "\n",
    "    @property\n",
    "    def house(self):\n",
    "        return self._house\n",
    "\n",
    "    @house.setter\n",
    "    def house(self, house):\n",
    "        if house not in [\"Gryffindor\", \"Hufflepuff\", \"Ravenclaw\",\\\n",
    "                         \"Slytherin\"]:\n",
    "            raise ValueError(\"Invalid house\")\n",
    "        self._house = house\n",
    "\n",
    "\n",
    "def main():\n",
    "    student = get_student()\n",
    "    print(student)\n",
    "\n",
    "\n",
    "def get_student():\n",
    "    name = input(\"Name: \")\n",
    "    house = input(\"House: \")\n",
    "    return Student(name, house)\n",
    "\n",
    "\n",
    "if __name__ == \"__main__\":\n",
    "    main()\n"
   ]
  },
  {
   "cell_type": "markdown",
   "metadata": {},
   "source": [
    "If I add a new line with \n",
    "```python\n",
    "student._house = \"Number Four, Privet Drive\"\n",
    "```\n",
    "Unfortunately, this will circumvent the security check of property and decorator of `setter` and `getter`"
   ]
  },
  {
   "cell_type": "code",
   "execution_count": null,
   "metadata": {},
   "outputs": [],
   "source": [
    "# Adds @property for name\n",
    "\n",
    "\n",
    "class Student:\n",
    "    def __init__(self, name, house):\n",
    "        self.name = name\n",
    "        self.house = house\n",
    "\n",
    "    def __str__(self):\n",
    "        return f\"{self.name} from {self.house}\"\n",
    "\n",
    "    @property\n",
    "    def name(self):\n",
    "        return self._name\n",
    "\n",
    "    @name.setter\n",
    "    def name(self, name):\n",
    "        if not name:\n",
    "            raise ValueError(\"Invalid name\")\n",
    "        self._name = name\n",
    "\n",
    "    @property\n",
    "    def house(self):\n",
    "        return self._house\n",
    "\n",
    "    @house.setter\n",
    "    def house(self, house):\n",
    "        if house not in [\"Gryffindor\", \"Hufflepuff\", \"Ravenclaw\",\\\n",
    "                         \"Slytherin\"]:\n",
    "            raise ValueError(\"Invalid house\")\n",
    "        self._house = house\n",
    "\n",
    "\n",
    "def main():\n",
    "    student = get_student()\n",
    "    student._house = \"Number Four, Privet Drive\"\n",
    "    print(student)\n",
    "\n",
    "\n",
    "def get_student():\n",
    "    name = input(\"Name: \")\n",
    "    house = input(\"House: \")\n",
    "    return Student(name, house)\n",
    "\n",
    "\n",
    "if __name__ == \"__main__\":\n",
    "    main()"
   ]
  },
  {
   "cell_type": "markdown",
   "metadata": {},
   "source": [
    "By convention, there is no mechenism prevnet us circumvent the security check functions and keep us from accessing the single or double underscores like `_house` `__house`, by convention, python assume us do not touch those attributes and functins."
   ]
  },
  {
   "cell_type": "markdown",
   "metadata": {},
   "source": [
    "#### Q: terminolofy: attribute, properties, instance variables, method?\n"
   ]
  },
  {
   "cell_type": "markdown",
   "metadata": {},
   "source": [
    "Alright, we are back, we'll give folks a moment to resume. Um Any questions?\n",
    "\n",
    "I know that was a lot.\n",
    "\n",
    "This has been dense already,\n",
    "\n",
    "but this is where we're sort of graduating to a new paradigm of programming\n",
    "\n",
    "and rest assured if you've only been watching\n",
    "\n",
    "the lectures live the past few weeks but\n",
    "\n",
    "haven't actually done all of the assignments and\n",
    "\n",
    "not all of the assignments are even up.\n",
    "\n",
    "It's okay if you're feeling like programming,\n",
    "\n",
    "just got very real michael questions.\n",
    "\n",
    "Yeah.\n",
    "\n",
    "So would it be accurate to say that the property\n",
    "\n",
    "of of an object would have to be defined by\n",
    "\n",
    "one of these functions are defined as a function rather\n",
    "\n",
    "than So it is that's distinct from an attributes,\n",
    "\n",
    "such as the way we had it before.\n",
    "\n",
    "Self dot name was just a variable\n",
    "\n",
    "uh correct.\n",
    "\n",
    "So the terminology here is an attribute is anything that comes after a dot\n",
    "\n",
    "in the context of an object and that could be an instance variable,\n",
    "\n",
    "which is just a variable inside the object or it\n",
    "\n",
    "could be a function like one of these properties.\n",
    "\n",
    "So a property yes. Is always a function in python.\n",
    "\n",
    "That's how they are defined by a getter and a setter.\n",
    "\n",
    "Oh, we lost your mike. You want to meet again.\n",
    "\n",
    "It's not letting me. There we go.\n",
    "\n",
    "There we go. Okay. Um so our property is always defined with the property decorator\n",
    "\n",
    "for all intensive purposes. Yes.\n",
    "\n",
    "A decorator though is just syntactic sugar for\n",
    "\n",
    "what would otherwise be an explicit function call?\n",
    "\n",
    "Maybe carter if you don't mind googling python property function.\n",
    "\n",
    "There's an alternative syntax, Michael,\n",
    "\n",
    "but I would say that no one does it that way because\n",
    "\n",
    "the decorator is meant to make things prettier and just more readable.\n",
    "\n",
    "Okay. So would a method be a property as well or are those distinct?\n",
    "\n",
    "Only a method is only a property If you the programmer\n",
    "\n",
    "define it as a property as via the app property keyword.\n",
    "\n",
    "Okay. Thank you. Sure. "
   ]
  },
  {
   "cell_type": "markdown",
   "metadata": {},
   "source": [
    "#### Q: Can decorators be customizable at my own decorator?\n"
   ]
  },
  {
   "cell_type": "markdown",
   "metadata": {},
   "source": [
    "Other questions.\n",
    "\n",
    "Yeah. Gene.\n",
    "\n",
    "Hello? Hello.\n",
    "\n",
    "Oh\n",
    "\n",
    "my question is,\n",
    "\n",
    "can decorators\n",
    "\n",
    "be customizable\n",
    "\n",
    "for example, at my own decorator?\n",
    "\n",
    "And if so how\n",
    "\n",
    "uh let me defer the how to another time or perhaps to a U. R. L.\n",
    "\n",
    "That that carter can paste into the chat.\n",
    "\n",
    "But yes, a decorator is just a function that gets called on another function.\n",
    "\n",
    "The at sign is a special syntax to just make this easy.\n",
    "\n",
    "But this is similar to Michael's question.\n",
    "\n",
    "There's other ways to invoke decorators.\n",
    "\n",
    "The at property decorator comes with python, it is not something we invented.\n",
    "\n",
    "It just works with the language. You can create any decorator you want.\n",
    "\n",
    "If you take CS fifty's course on web programming,\n",
    "\n",
    "you'll see ones that allow you to decorate routes in web applications.\n",
    "\n",
    "For CS fifty's check.\n",
    "\n",
    "50 program we use decorators to indicate that a\n",
    "\n",
    "function is a check so anyone can create decorators,\n",
    "\n",
    "but at property it just comes with python.\n",
    "\n",
    "That's a property function that comes with python.\n",
    "\n",
    "And let me see if carter can just point you at some related reading."
   ]
  },
  {
   "cell_type": "markdown",
   "metadata": {},
   "source": [
    "#### Q: How we can save all this data for each student if we have more than one student?\n"
   ]
  },
  {
   "cell_type": "markdown",
   "metadata": {},
   "source": [
    "File I/O\n",
    "\n",
    "Database"
   ]
  },
  {
   "cell_type": "markdown",
   "metadata": {},
   "source": [
    "How about time for one or two more questions before we resume\n",
    "\n",
    "Maria.\n",
    "\n",
    "Hello David. How we can save all this data for each student.\n",
    "\n",
    "How can we save all? As in if you had multiple students in memory\n",
    "\n",
    "So different ways. So right now we're as complicated as these examples are.\n",
    "\n",
    "I'm trying to keep them as simple as possible\n",
    "\n",
    "by only dealing with one student at a time.\n",
    "\n",
    "And of course when the program ends we\n",
    "\n",
    "throw away harry's information or Draco's information.\n",
    "\n",
    "If you think back a couple of weeks to our file io\n",
    "\n",
    "lecture you could imagine storing all of this data in a C.\n",
    "\n",
    "S. V. Permanently.\n",
    "\n",
    "You could imagine now maybe reading from that C. S. V.\n",
    "\n",
    "And instead of reading the data into a dict reader,\n",
    "\n",
    "like a dictionary reader you could actually read it into a list of objects,\n",
    "\n",
    "each of which is a student class.\n",
    "\n",
    "So this is just another way of allowing us to represent the data.\n",
    "\n",
    "Or again if you take CS fifty's web programming class taught by a colleague of ours\n",
    "\n",
    "you can store the data in a database to and you can manipulate the\n",
    "\n",
    "data with python code and classes but you can save it in a database.\n",
    "\n",
    "All we're doing today is giving you more tools\n",
    "\n",
    "to manipulate data wallets in the computer's memory."
   ]
  },
  {
   "cell_type": "markdown",
   "metadata": {},
   "source": [
    "#### Q: Can we developer add some data?\n",
    "\n",
    "```python\n",
    "student.somethin = \"123\"\n",
    "```"
   ]
  },
  {
   "cell_type": "markdown",
   "metadata": {},
   "source": [
    "Yes, you can as an usual programmer. \n",
    "\n",
    "But, the python mindset is that, even if you can, please don't do that.\n",
    "\n",
    "This is one upside of python and ruby that we can access, but the downside is that malicious guy may broken the program.\n",
    "\n",
    "JAVA is fully for security."
   ]
  },
  {
   "cell_type": "markdown",
   "metadata": {},
   "source": [
    "How about one final question before we resume\n",
    "\n",
    "jean Luc\n",
    "\n",
    "I wanted to ask if it's possible like for the for the user actually too\n",
    "\n",
    "add more data for example. I don't know if you have information about\n",
    "\n",
    "um a second name, like another variable like\n",
    "\n",
    "short answer. Yes.\n",
    "\n",
    "I mean we I've been using name and house so that\n",
    "\n",
    "we have something canonical but also simple with just two strings.\n",
    "\n",
    "You can put any number of instance variables or even properties inside of a class.\n",
    "\n",
    "And indeed in a bit we'll see some examples of\n",
    "\n",
    "classes that actually have many more values inside of them.\n",
    "\n",
    "Yeah. But what what what is the user not the developer? What is the user?\n",
    "\n",
    "I mean can we grant the user like access to the variable like to add some data? So yeah.\n",
    "\n",
    "Good question. \n",
    "Let me come back to this line of code here.\n",
    "\n",
    "Um And user,\n",
    "\n",
    "let's assume that the user is the non programmer who's just using the keyboard.\n",
    "\n",
    "So I think you mean the programmer like me or you who is using this student class?\n",
    "\n",
    "Yes. You could do something like this.\n",
    "\n",
    "You could say student dot something equals 123.\n",
    "\n",
    "There's nothing stopping the programmer for putting any number\n",
    "\n",
    "of pieces of data inside of the object.\n",
    "\n",
    "Um Generally though just don't do that. You shouldn't do that.\n",
    "\n",
    "Python is not gonna stop you from doing that but you just shouldn't do that.\n",
    "\n",
    "And this is a this is part of the python mindset. It's very different from java, java.\n",
    "\n",
    "Which is very commonly used in enterprise applications where\n",
    "\n",
    "you really want things to be very correct,\n",
    "\n",
    "very testable.\n",
    "\n",
    "Not circumvent herbal, that's a feature of java.\n",
    "\n",
    "It's also really annoying sometimes because you can't\n",
    "\n",
    "do things you might want to do.\n",
    "\n",
    "Python is nice,\n",
    "\n",
    "ruby is nice because it supports even a feature known as monkey patching,\n",
    "\n",
    "whereby you can actually\n",
    "\n",
    "change the inside contents of objects and classes and\n",
    "\n",
    "that's actually really useful if you want to add\n",
    "\n",
    "functionality to someone else's code without them having thought\n",
    "\n",
    "of to put that functionality in its place.\n",
    "\n",
    "But the downside is it's really easy to break things and do things you shouldn't.\n",
    "\n",
    "So the python mindset is please don't do that,\n",
    "\n",
    "but if you really want to, you can"
   ]
  },
  {
   "cell_type": "markdown",
   "metadata": {},
   "source": []
  },
  {
   "cell_type": "markdown",
   "metadata": {},
   "source": [
    "## `int` class"
   ]
  },
  {
   "cell_type": "markdown",
   "metadata": {},
   "source": [
    "## `str` class"
   ]
  },
  {
   "cell_type": "markdown",
   "metadata": {},
   "source": [
    "## `str.lower()` method"
   ]
  },
  {
   "cell_type": "markdown",
   "metadata": {},
   "source": [
    "## `str.strip()` method"
   ]
  },
  {
   "cell_type": "markdown",
   "metadata": {},
   "source": [
    "## `list` class"
   ]
  },
  {
   "cell_type": "markdown",
   "metadata": {},
   "source": [
    "## `list.append()` method"
   ]
  },
  {
   "cell_type": "markdown",
   "metadata": {},
   "source": [
    "## `dict` class"
   ]
  },
  {
   "cell_type": "markdown",
   "metadata": {},
   "source": [
    "## type()"
   ]
  },
  {
   "cell_type": "code",
   "execution_count": null,
   "metadata": {},
   "outputs": [],
   "source": [
    "print(type(50))"
   ]
  },
  {
   "cell_type": "code",
   "execution_count": null,
   "metadata": {},
   "outputs": [],
   "source": [
    "print(type(\"hello world\"))"
   ]
  },
  {
   "cell_type": "code",
   "execution_count": null,
   "metadata": {},
   "outputs": [],
   "source": [
    "print(type([]))"
   ]
  },
  {
   "cell_type": "code",
   "execution_count": null,
   "metadata": {},
   "outputs": [],
   "source": [
    "print(type(lsit()))"
   ]
  },
  {
   "cell_type": "code",
   "execution_count": null,
   "metadata": {},
   "outputs": [],
   "source": [
    "print(type({}))"
   ]
  },
  {
   "cell_type": "code",
   "execution_count": null,
   "metadata": {},
   "outputs": [],
   "source": [
    "print(type(dict()))"
   ]
  },
  {
   "cell_type": "code",
   "execution_count": null,
   "metadata": {},
   "outputs": [],
   "source": [
    "print(type(set()))"
   ]
  },
  {
   "cell_type": "code",
   "execution_count": null,
   "metadata": {},
   "outputs": [],
   "source": [
    "print(type(()))"
   ]
  },
  {
   "cell_type": "code",
   "execution_count": null,
   "metadata": {},
   "outputs": [],
   "source": [
    "print(type(tuple()))"
   ]
  },
  {
   "cell_type": "markdown",
   "metadata": {},
   "source": [
    "## class method"
   ]
  },
  {
   "cell_type": "markdown",
   "metadata": {},
   "source": [
    "## @classmethod"
   ]
  },
  {
   "cell_type": "markdown",
   "metadata": {},
   "source": [
    "## hat0.py"
   ]
  },
  {
   "cell_type": "code",
   "execution_count": null,
   "metadata": {},
   "outputs": [],
   "source": [
    "# Implements sort() with an instance method\n",
    "\n",
    "import random\n",
    "\n",
    "\n",
    "class Hat:\n",
    "    def __init__(self):\n",
    "        self.houses = [\"Gryffindor\", \"Hufflepuff\", \"Ravenclaw\",\\\n",
    "                       \"Slytherin\"]\n",
    "\n",
    "    def sort(self, name):\n",
    "        print(name, \"is in\", random.choice(self.houses))\n",
    "\n",
    "\n",
    "hat = Hat()\n",
    "hat.sort(\"Harry\")\n"
   ]
  },
  {
   "cell_type": "code",
   "execution_count": null,
   "metadata": {},
   "outputs": [],
   "source": []
  },
  {
   "cell_type": "markdown",
   "metadata": {},
   "source": [
    "## hat1.py "
   ]
  },
  {
   "cell_type": "code",
   "execution_count": null,
   "metadata": {},
   "outputs": [],
   "source": [
    "# class method\n",
    "\n",
    "import random\n",
    "\n",
    "\n",
    "class Hat:\n",
    "    # class variable\n",
    "    houses = [\"Gryffindor\", \"Hufflepuff\", \"Ravenclaw\", \"Slytherin\"]\n",
    "\n",
    "    @classmethod\n",
    "    def sort(cls, name):\n",
    "        print(name, \"is in\", random.choice(cls.houses))\n",
    "\n",
    "\n",
    "Hat.sort(\"Harry\")"
   ]
  },
  {
   "cell_type": "markdown",
   "metadata": {},
   "source": [
    "#### Q: Can we have a class inside of other?"
   ]
  },
  {
   "cell_type": "markdown",
   "metadata": {},
   "source": [
    "questions now on these class variables or these\n",
    "\n",
    "class methods which are in contrast with instance\n",
    "\n",
    "variables and instance methods and the one thing\n",
    "\n",
    "at least that's a little strange here,\n",
    "\n",
    "is that even though there's a decorator called at classmethod.\n",
    "\n",
    "There is not one called at instance method.\n",
    "\n",
    "A method is just automatically a so called instant method\n",
    "\n",
    "when you define it without any decorator.\n",
    "\n",
    "Yordani, if I'm saying it right,\n",
    "\n",
    "Hi, can you hear me?\n",
    "\n",
    "Good question. Can you have?\n",
    "\n",
    "Because I know when you create a class,\n",
    "\n",
    "sometimes it gets bigger because you keep adding methods, can you have a class\n",
    "\n",
    "inside another class?\n",
    "\n",
    "You can you can define one class inside of another.\n",
    "\n",
    "Generally speaking, this isn't done, but there are cases where it can be helpful,\n",
    "\n",
    "especially for larger, more sophisticated programs.\n",
    "\n",
    "So yes, it is possible"
   ]
  },
  {
   "cell_type": "markdown",
   "metadata": {},
   "source": [
    "#### Q: What's the difference between class variable and instance variable?"
   ]
  },
  {
   "cell_type": "markdown",
   "metadata": {},
   "source": [
    "other questions on classes or class methods or class variables. Daniel.\n",
    "\n",
    "The question was about the self dot houses.\n",
    "\n",
    "When you when we remove it, we and we passed the data.\n",
    "\n",
    "The variable is created itself before when we put self dot houses,\n",
    "\n",
    "we were telling the the the classroom\n",
    "\n",
    "create that variable\n",
    "\n",
    "when you start or why we remove themselves.\n",
    "\n",
    "So in the previous examples,\n",
    "\n",
    "both of the hat demonstration and also all of the student demonstrations, we were\n",
    "\n",
    "uh creating a student object by calling student capital s open\n",
    "\n",
    "parenthesis close parenthesis with eventually name in the house passed in.\n",
    "\n",
    "And then we were using the double the double underscore innit method to\n",
    "\n",
    "initialize the self dot name and the self dot house instance variables there in\n",
    "\n",
    "to those respective values\n",
    "\n",
    "in this latest version of the sorting hat,\n",
    "\n",
    "I haven't bothered with self anywhere only because conceptually I don't\n",
    "\n",
    "need or want there to be multiple hats in the world.\n",
    "\n",
    "I'm just using the class\n",
    "\n",
    "is kind of a container\n",
    "\n",
    "to bundle up this list of houses. This sorting functionality.\n",
    "\n",
    "Maybe eventually I'll add more functionality to it, but that's it.\n",
    "\n",
    "And so sometimes you can use object oriented programming in this\n",
    "\n",
    "somewhat different way when you want there to be functionality,\n",
    "\n",
    "but it's not specific to any one specific\n",
    "\n",
    "hat it's specific to the sorting hat itself.\n"
   ]
  },
  {
   "cell_type": "markdown",
   "metadata": {},
   "source": [
    "#### Q: why bother using class and class method since we can solve this problem using procedure oriented programming?"
   ]
  },
  {
   "cell_type": "markdown",
   "metadata": {},
   "source": [
    "Reusable, simplicity, encapsulating, security, sepetate it into a multiple file."
   ]
  },
  {
   "cell_type": "markdown",
   "metadata": {},
   "source": [
    "\n",
    "How about one other question now on\n",
    "\n",
    "these class variables or methods?\n",
    "\n",
    "Just another way of using object oriented\n",
    "\n",
    "programming but to solve somewhat different problems,\n",
    "\n",
    "Yan,\n",
    "\n",
    "can you hear me now? Yes, we can. Okay, that's great.\n",
    "\n",
    "So, I want to ask if, well, what's the difference between the class head\n",
    "\n",
    "and I know like a function\n",
    "\n",
    "of hat\n",
    "\n",
    "because it seems the same to me\n",
    "\n",
    "because you know, you can print\n",
    "\n",
    "in a function, you can define a list of houses within a function.\n",
    "\n",
    "So why is it a class? A good question.\n",
    "\n",
    "So why are we using a class at all and not just having a file called hat dot pie with\n",
    "\n",
    "a variable called houses and a function called sort like\n",
    "\n",
    "why are we adding this complexity in this particular case?\n",
    "\n",
    "We don't necessarily need to, I could absolutely go in here.\n",
    "\n",
    "I could get rid of the class.\n",
    "\n",
    "I could undo this indentation,\n",
    "\n",
    "I could get rid of this decorator and I could get\n",
    "\n",
    "rid of the hat dot and I could just do this.\n",
    "\n",
    "And additionally, let's see, let's get rid of class here.\n",
    "\n",
    "Let's get rid of class here and now run python of hat dot pi enter and it still works.\n",
    "\n",
    "Put harry in the wrong house. But that's what happened. What happens randomly.\n",
    "\n",
    "That's fine too.\n",
    "\n",
    "What we're introducing today by way of object oriented programming,\n",
    "\n",
    "it's just a different way of modeling the world.\n",
    "\n",
    "It's not really compelling with an example like this, frankly,\n",
    "\n",
    "that's relatively simple.\n",
    "\n",
    "It's not very complex. There's not much functionality.\n",
    "\n",
    "Honestly, the version that we just typed up these 10 lines,\n",
    "\n",
    "this is fine, this solves this problem.\n",
    "\n",
    "But as our code gets longer as we start collaborating with other people\n",
    "\n",
    "is the problems we're trying to solve with could get more sophisticated,\n",
    "\n",
    "you're going to find that your code gets messy quickly and you're\n",
    "\n",
    "gonna find that you have a huge number of functions for instance,\n",
    "\n",
    "in one file and some of them are related to each other,\n",
    "\n",
    "but some of them are not Well at that point,\n",
    "\n",
    "wouldn't it be nice to just organize them a little differently.\n",
    "\n",
    "And in the world of harry potter, let's have a class for students,\n",
    "\n",
    "let's have a class for professor, let's have a class for the sorting hat,\n",
    "\n",
    "let's have a class for something else.\n",
    "\n",
    "And so once your world gets much more complicated than some of the demonstrations\n",
    "\n",
    "we do here in class when we want to focus on individual ideas.\n",
    "\n",
    "Object oriented programming is just a way of encapsulating related data,\n",
    "\n",
    "that is variables related functionality that is methods\n",
    "\n",
    "inside of things that have names. These things are called classes.\n",
    "\n",
    "So it's just another way to solve problems.\n",
    "\n",
    "And when we focused on libraries a couple of weeks\n",
    "\n",
    "back that too was another solution to the same problem.\n",
    "\n",
    "You can define your own modules or packages,\n",
    "\n",
    "put some of your data and or functionality in there and that's fine too.\n",
    "\n",
    "And sometimes which one you should use overlaps.\n",
    "\n",
    "If you're familiar with ven diagrams,\n",
    "\n",
    "the overlapping region might mean that you could use a class,\n",
    "\n",
    "you could use a module or package, you could just use a single local file\n",
    "\n",
    "over time you'll develop an instinct and maybe even a personal preference for\n",
    "\n",
    "which tool to use."
   ]
  },
  {
   "cell_type": "markdown",
   "metadata": {},
   "source": [
    "### student20.py"
   ]
  },
  {
   "cell_type": "code",
   "execution_count": null,
   "metadata": {},
   "outputs": [],
   "source": [
    "# Moves get_student into Student class\n",
    "\n",
    "\n",
    "class Student:\n",
    "    def __init__(self, name, house):\n",
    "        self.name = name\n",
    "        self.house = house\n",
    "\n",
    "    def __str__(self):\n",
    "        return f\"{self.name} from {self.house}\"\n",
    "\n",
    "    @classmethod\n",
    "    def get(cls):\n",
    "        name = input(\"Name: \")\n",
    "        house = input(\"House: \")\n",
    "        return cls(name, house)\n",
    "\n",
    "\n",
    "def main():\n",
    "    student = Student.get()\n",
    "    print(student)\n",
    "\n",
    "\n",
    "if __name__ == \"__main__\":\n",
    "    main()\n"
   ]
  },
  {
   "cell_type": "markdown",
   "metadata": {},
   "source": [
    "#### Q: Does the class have to be defined before the main function in terms of order?"
   ]
  },
  {
   "cell_type": "markdown",
   "metadata": {},
   "source": [
    "questions. Now on this\n",
    "\n",
    "use of a class method\n",
    "\n",
    "disability just to\n",
    "\n",
    "hide functionality inside of a class, so as to call it directly Michael?\n",
    "\n",
    "Yeah.\n",
    "\n",
    "So, uh with the way that this program is laid out here,\n",
    "\n",
    "um does the does the class have to be defined before\n",
    "\n",
    "the main function in terms of the order of the,\n",
    "\n",
    "of the program? A really good, a really good question.\n",
    "\n",
    "So, when in doubt, let's try this. So let's try to change the order.\n",
    "\n",
    "Let's move main to the top, which I've often encouraged.\n",
    "\n",
    "So let's go ahead and above the class do this.\n",
    "\n",
    "And notice now that technically line two is mentioning student,\n",
    "\n",
    "which does not exist until a line six and below\n",
    "\n",
    "let me go ahead and clear my terminal and run python of student dot p\n",
    "\n",
    "so far so good. Harry, Gryffindor. Okay. And indeed Harry is from Gryffindor.\n",
    "\n",
    "The reason Michael,\n",
    "\n",
    "it does not matter in this case is because\n",
    "\n",
    "we're not actually calling main until the very end.\n",
    "\n",
    "And just as in the past,\n",
    "\n",
    "that means that python has a chance to read everything top to bottom left to right.\n",
    "\n",
    "So everything exists,\n",
    "\n",
    "I would say generally classes are defined at the top of the file.\n",
    "\n",
    "However,\n",
    "\n",
    "it would be even maybe cleaner to move the class's\n",
    "\n",
    "definition to its own file and then import it.\n",
    "\n",
    "So essentially to make reusable code by putting it into your\n",
    "\n",
    "own module or package so that not just this program,\n",
    "\n",
    "but many others can use that definition of students as well."
   ]
  },
  {
   "cell_type": "markdown",
   "metadata": {},
   "source": [
    "#### Q: Shell we use `cls` for any other class method, can we use different name?"
   ]
  },
  {
   "cell_type": "markdown",
   "metadata": {},
   "source": [
    "\n",
    "Other questions now\n",
    "\n",
    "on classes, class methods or the like erIC\n",
    "\n",
    "and I apologize, I misspelled I misspelled your your exception name earlier,\n",
    "\n",
    "I realized now on zoom's window,\n",
    "\n",
    "nobody can spell it. It's fine.\n",
    "\n",
    "Um,\n",
    "\n",
    "under the class method get are we using CLS parentheses simply because we're\n",
    "\n",
    "passing a list or is there any other reason why we're using CLS,\n",
    "\n",
    "parenthesis\n",
    "\n",
    "and the name. Common House. Nothing to do with the list. This stands for class.\n",
    "\n",
    "The problem is class is a special word\n",
    "\n",
    "that is meant to be used up here. You shouldn't be using it as the name of a parameter.\n",
    "\n",
    "So the convention in the python world is to abbreviate it as CLS,\n",
    "\n",
    "you can call it anything.\n",
    "\n",
    "You could call it X. But the convention would have us generally right.\n",
    "\n",
    "CLS and its just a way of python giving me a reference to that current class.\n",
    "\n",
    "I mean specifically in reference to returning um,\n",
    "\n",
    "parenthesis named Common house as opposed to just return name.\n",
    "\n",
    "Common House.\n",
    "\n",
    "Yeah.\n",
    "\n",
    "Name comma House. So you could do. I'm not sure I'm following correctly.\n",
    "\n",
    "What I'm really doing is this,\n",
    "\n",
    "but I'm generalizing it by using the past\n",
    "\n",
    "in variable that technically refers to student.\n",
    "\n",
    "This is not a list, this is not a couple.\n",
    "\n",
    "This is a function call to the student constructor that's going to\n",
    "\n",
    "build me a student object and invoke ultimately the initialization function.\n",
    "\n",
    "Um, we're very early on when we had a previous function, we we simply had to return,\n",
    "\n",
    "um, named Common House.\n",
    "\n",
    "We didn't have it in parentheses or anything.\n",
    "\n",
    "It's specifically in reference to that. That was very early on.\n",
    "\n",
    "That was like version one or two.\n",
    "\n",
    "When I was returning deliberately a couple and couples were fine,\n",
    "\n",
    "but they have to be numerically indexed with zero.\n",
    "\n",
    "And the one thing they were immutable, which means I couldn't change them.\n",
    "\n",
    "So there's nothing wrong with this approach, Version one.\n",
    "\n",
    "But with classes today's whole claim is that\n",
    "\n",
    "you just get a lot more capabilities instead.\n",
    "\n",
    "That's all that's happening.\n"
   ]
  },
  {
   "cell_type": "markdown",
   "metadata": {},
   "source": [
    "#### Q: Is there a way to like declare all the possible attributes of the class?"
   ]
  },
  {
   "cell_type": "markdown",
   "metadata": {},
   "source": [
    "How About one More Question On Classes Here?\n",
    "\n",
    "Yeah. Over to Phillip.\n",
    "\n",
    "Mm hmm.\n",
    "\n",
    "Yeah. Okay. Uh, so, uh, okay.\n",
    "\n",
    "As I understood quite on, allow allow this very, very many things to do.\n",
    "\n",
    "But I wanted to ask is there a way to like declare all the all the possible,\n",
    "\n",
    "all the possible attributes of the class?\n",
    "\n",
    "Because\n",
    "\n",
    "it looks so inconsistent. I mean, especially after languages like java. So we just\n",
    "\n",
    "didn't declare\n",
    "\n",
    "possible attributes anywhere.\n",
    "\n",
    "Um, well, so my takeaway there is, this is python's approach to these principles.\n",
    "\n",
    "Different languages like java just take a\n",
    "\n",
    "different approach but have very similar features.\n",
    "\n",
    "The syntax just tends to vary and this is\n",
    "\n",
    "how the python community chose to implement this idea.\n",
    "\n",
    "The right mental model ultimately is that these instance variables,\n",
    "\n",
    "instant methods\n",
    "\n",
    "belong to or operate on specific objects,\n",
    "\n",
    "a specific student specific hat class variables and\n",
    "\n",
    "class methods operate on the entire class itself\n",
    "\n",
    "or in turn all objects of that class which we've not seen in a demonstration of,\n",
    "\n",
    "but it's sort of a higher level concepts and there's yet another\n",
    "\n",
    "uh called static methods which we won't get into.\n",
    "\n",
    "But there's other ways to do things in python like this too."
   ]
  },
  {
   "cell_type": "markdown",
   "metadata": {},
   "source": [
    "## staticmethod"
   ]
  },
  {
   "cell_type": "markdown",
   "metadata": {},
   "source": [
    "## `@staticmethod` \n",
    "does not cover this lecture"
   ]
  },
  {
   "cell_type": "markdown",
   "metadata": {},
   "source": [
    "## inheritance"
   ]
  },
  {
   "cell_type": "markdown",
   "metadata": {},
   "source": [
    "### wizard.py"
   ]
  },
  {
   "cell_type": "code",
   "execution_count": null,
   "metadata": {},
   "outputs": [],
   "source": [
    "# Demonstrates inheritance [maybe don't add `if` error-checking]\n",
    "\n",
    "\n",
    "class Wizard:\n",
    "    def __init__(self, name):\n",
    "        if not name:\n",
    "            raise ValueError(\"Missing name\")\n",
    "        self.name = name\n",
    "\n",
    "    ...\n",
    "\n",
    "\n",
    "class Student(Wizard):\n",
    "    def __init__(self, name, house):\n",
    "        super().__init__(name)\n",
    "        self.house = house\n",
    "\n",
    "    ...\n",
    "\n",
    "\n",
    "class Professor(Wizard):\n",
    "    def __init__(self, name, subject):\n",
    "        super().__init__(name)\n",
    "        self.subject = subject\n",
    "\n",
    "    ...\n",
    "\n",
    "\n",
    "wizard = Wizard(\"Albus\")\n",
    "student = Student(\"Harry\")\n",
    "professor = Professor(\"Severus\")\n",
    "...\n"
   ]
  },
  {
   "cell_type": "markdown",
   "metadata": {},
   "source": [
    "#### Q: is there any situation where, because from what I've seen so far, a lot of times, there's like a lot of nesting if you do super, does it go one up?"
   ]
  },
  {
   "cell_type": "markdown",
   "metadata": {},
   "source": [
    "Any questions now on this idea of\n",
    "\n",
    "inheritance, which is a key feature of a lot of object oriented\n",
    "\n",
    "programming languages?\n",
    "\n",
    "Sebastiano?\n",
    "\n",
    "Yeah, I think so, yes.\n",
    "\n",
    "Um, so is there any situation where,\n",
    "\n",
    "because from what I've seen so far, a lot of times,\n",
    "\n",
    "there's like a lot of nesting if you do super, does it go one up?\n",
    "\n",
    "Is there any situation where, you know, it's nested in another class as well?\n",
    "\n",
    "Um, above wizard,\n",
    "\n",
    "let's say like wizard has something nested there and then\n",
    "\n",
    "you're trying to pull something from it and you know,\n",
    "\n",
    "how does that affect if if it's something about that?\n",
    "\n",
    "A really good question. If you were to have a super super class.\n",
    "\n",
    "So your hierarchy is even taller than the\n",
    "\n",
    "two levels of hierarchy that we currently have.\n",
    "\n",
    "Absolutely.\n",
    "\n",
    "But what's nice about object oriented,\n",
    "\n",
    "what's nice about inheritance as the name\n",
    "\n",
    "implies is just as you might have inherited\n",
    "\n",
    "certain traits as a human from your\n",
    "\n",
    "grandfather and grandmother or your great grandfather,\n",
    "\n",
    "or great grandmother,\n",
    "\n",
    "some of those properties can actually trickle down to you, so to speak,\n",
    "\n",
    "in the context of code as well.\n",
    "\n",
    "So when you descend from another class,\n",
    "\n",
    "that is when you subclass a super class or a super super class,\n",
    "\n",
    "you actually do inherit all of the functionality, not just from one level above you,\n",
    "\n",
    "but from two or three.\n",
    "\n",
    "So you can indeed access some of that functionality as well,\n",
    "\n",
    "and you can even override it if you want\n",
    "\n",
    "some of these classes to behave a little bit differently\n",
    "\n",
    "than others."
   ]
  },
  {
   "cell_type": "markdown",
   "metadata": {},
   "source": [
    "#### Q: can you have like two parents on the same level?"
   ]
  },
  {
   "cell_type": "markdown",
   "metadata": {},
   "source": [
    "Other questions on inheritance,\n",
    "\n",
    "Anjali.\n",
    "\n",
    "So it's kind of similar to the last one,\n",
    "\n",
    "but can you have like two parents on the same level?\n",
    "\n",
    "A really good question.\n",
    "\n",
    "So there are ways to implement uh descendants from\n",
    "\n",
    "multiple parents and there's different ways to do this.\n",
    "\n",
    "Not just in python, but other languages.\n",
    "\n",
    "We've kept things simple here though by having a single inheritance path.\n",
    "\n",
    "Good question."
   ]
  },
  {
   "cell_type": "markdown",
   "metadata": {},
   "source": [
    "#### Q:  can we have multiple arguments in super, that double underscore in it?"
   ]
  },
  {
   "cell_type": "markdown",
   "metadata": {},
   "source": [
    "How about one more question on inheritance?\n",
    "\n",
    "Yeah, Gene,\n",
    "\n",
    "hello, My question is, can we have multiple arguments in super\n",
    "\n",
    "that\n",
    "\n",
    "double underscore in it?\n",
    "\n",
    "Yes,\n",
    "\n",
    "you can have multiple arguments passed to the innit method if they are appropriate.\n",
    "\n",
    "In this case, I've only passed in name on line 10 and I've only passed a name online,\n",
    "\n",
    "18.\n",
    "\n",
    "Why?\n",
    "\n",
    "Well, if we scroll up to line to where I defined the innit method for the wizard class,\n",
    "\n",
    "I'm only sorry, you're not seeing this?\n",
    "\n",
    "Let me rewind.\n",
    "\n",
    "Yes, but in this case I'm only passing in name online 18.\n",
    "\n",
    "And I'm only passing in name online 10. Why? Because online too.\n",
    "\n",
    "When I define the method for the Wizard class, I only expect a single argument,\n",
    "\n",
    "but I could absolutely have under common functionality\n",
    "\n",
    "like I could add in a patronus.\n",
    "\n",
    "If both students and professors have patronus is that can come out of their wands,\n",
    "\n",
    "I could have two arguments instead."
   ]
  },
  {
   "cell_type": "markdown",
   "metadata": {},
   "source": [
    "## exception"
   ]
  },
  {
   "cell_type": "markdown",
   "metadata": {},
   "source": [
    "```\n",
    "BaseException\n",
    " +-- SystemExit\n",
    " +-- KeyboardInterrupt\n",
    " +-- GeneratorExit\n",
    " +-- Exception\n",
    "      +-- StopIteration\n",
    "      +-- StopAsyncIteration\n",
    "      +-- ArithmeticError\n",
    "      |    +-- FloatingPointError\n",
    "      |    +-- OverflowError\n",
    "      |    +-- ZeroDivisionError\n",
    "      +-- AssertionError\n",
    "      +-- AttributeError\n",
    "      +-- BufferError\n",
    "      +-- EOFError\n",
    "      +-- ImportError\n",
    "      |    +-- ModuleNotFoundError\n",
    "      +-- LookupError\n",
    "      |    +-- IndexError\n",
    "      |    +-- KeyError\n",
    "      +-- MemoryError\n",
    "      +-- NameError\n",
    "      |    +-- UnboundLocalError\n",
    "      +-- OSError\n",
    "      |    +-- BlockingIOError\n",
    "      |    +-- ChildProcessError\n",
    "      |    +-- ConnectionError\n",
    "      |    |    +-- BrokenPipeError\n",
    "      |    |    +-- ConnectionAbortedError\n",
    "      |    |    +-- ConnectionRefusedError\n",
    "      |    |    +-- ConnectionResetError\n",
    "      |    +-- FileExistsError\n",
    "      |    +-- FileNotFoundError\n",
    "      |    +-- InterruptedError\n",
    "      |    +-- IsADirectoryError\n",
    "      |    +-- NotADirectoryError\n",
    "      |    +-- PermissionError\n",
    "      |    +-- ProcessLookupError\n",
    "      |    +-- TimeoutError\n",
    "      +-- ReferenceError\n",
    "      +-- RuntimeError\n",
    "      |    +-- NotImplementedError\n",
    "      |    +-- RecursionError\n",
    "      +-- SyntaxError\n",
    "      |    +-- IndentationError\n",
    "      |         +-- TabError\n",
    "      +-- SystemError\n",
    "      +-- TypeError\n",
    "      +-- ValueError\n",
    "      |    +-- UnicodeError\n",
    "      |         +-- UnicodeDecodeError\n",
    "      |         +-- UnicodeEncodeError\n",
    "      |         +-- UnicodeTranslateError\n",
    "      +-- Warning\n",
    "           +-- DeprecationWarning\n",
    "           +-- PendingDeprecationWarning\n",
    "           +-- RuntimeWarning\n",
    "           +-- SyntaxWarning\n",
    "           +-- UserWarning\n",
    "           +-- FutureWarning\n",
    "           +-- ImportWarning\n",
    "           +-- UnicodeWarning\n",
    "           +-- BytesWarning\n",
    "           +-- EncodingWarning\n",
    "           +-- ResourceWarning\n",
    "```"
   ]
  },
  {
   "cell_type": "markdown",
   "metadata": {},
   "source": [
    "## operator overloading"
   ]
  },
  {
   "cell_type": "markdown",
   "metadata": {},
   "source": [
    "```\n",
    "+ plus number\n",
    "    \n",
    "  concatenation\n",
    "```"
   ]
  },
  {
   "cell_type": "markdown",
   "metadata": {},
   "source": [
    "### valut0.py"
   ]
  },
  {
   "cell_type": "code",
   "execution_count": null,
   "metadata": {},
   "outputs": [],
   "source": [
    "# Adds vaults, storing total in new vault\n",
    "\n",
    "\n",
    "class Vault:\n",
    "    def __init__(self, galleons=0, sickles=0, knuts=0):\n",
    "        self.galleons = galleons\n",
    "        self.sickles = sickles\n",
    "        self.knuts = knuts\n",
    "\n",
    "    def __str__(self):\n",
    "        return f\"{self.galleons} Galleons, {self.sickles} Sickles, {self.knuts} Knuts\"\n",
    "\n",
    "\n",
    "potter = Vault(100, 50, 25)\n",
    "print(potter)\n",
    "\n",
    "weasley = Vault(25, 50, 100)\n",
    "print(weasley)\n",
    "\n",
    "galleons = potter.galleons + weasley.galleons\n",
    "sickles = potter.sickles + weasley.sickles\n",
    "knuts = potter.knuts + weasley.knuts\n",
    "\n",
    "total = Vault(galleons, sickles, knuts)\n",
    "print(total)\n"
   ]
  },
  {
   "cell_type": "markdown",
   "metadata": {},
   "source": [
    "### vault1.py"
   ]
  },
  {
   "cell_type": "code",
   "execution_count": null,
   "metadata": {},
   "outputs": [],
   "source": [
    "# Adds vaults via operator overloading\n",
    "\n",
    "\n",
    "class Vault:\n",
    "    def __init__(self, galleons=0, sickles=0, knuts=0):\n",
    "        self.galleons = galleons\n",
    "        self.sickles = sickles\n",
    "        self.knuts = knuts\n",
    "\n",
    "    def __str__(self):\n",
    "        return f\"{self.galleons} Galleons, {self.sickles} Sickles, {self.knuts} Knuts\"\n",
    "\n",
    "    def __add__(self, other):\n",
    "        galleons = self.galleons + other.galleons\n",
    "        sickles = self.sickles + other.sickles\n",
    "        knuts = self.knuts + other.knuts\n",
    "        return Vault(galleons, sickles, knuts)\n",
    "\n",
    "\n",
    "potter = Vault(100, 50, 25)\n",
    "print(potter)\n",
    "\n",
    "weasley = Vault(25, 50, 100)\n",
    "print(weasley)\n",
    "\n",
    "total = potter + weasley\n",
    "print(total)\n"
   ]
  },
  {
   "cell_type": "markdown",
   "metadata": {},
   "source": [
    "#### Q: how would you go about creating a function for adding a student and A vault for 2, 2 separate classes? How would that be possible?\n"
   ]
  },
  {
   "cell_type": "markdown",
   "metadata": {},
   "source": [
    "Any questions now on operator overloading\n",
    "\n",
    "or this example here?\n",
    "\n",
    "Yeah. Over to ERIC.\n",
    "\n",
    "So, uh, let's say you wanted, well let's let's say student had a a purse variable.\n",
    "\n",
    "Um how would you go about creating a function for adding a student and\n",
    "\n",
    "A vault for 2, 2 separate classes? How would that be possible?\n",
    "\n",
    "A good question.\n",
    "\n",
    "If you wanted to implement support for adding two things, Two classes,\n",
    "\n",
    "let me think for a moment.\n",
    "\n",
    "Um\n",
    "\n",
    "let me see what happens here. I don't know off hand. Let's do this.\n",
    "\n",
    "Let's create a stir and see what happens if I add potter plus a stir\n",
    "\n",
    "stir object. Yeah, Okay, so it would work.\n",
    "\n",
    "I'm just figuring this out as I go here erIC.\n",
    "\n",
    "So just to be clear what I did was I just changed Weasley to stir just to see\n",
    "\n",
    "what would happen when I add a vault plus a stir and it will work theoretically why?\n",
    "\n",
    "Because so long as the type of value on the left has\n",
    "\n",
    "an add method implemented other can be any type that you want,\n",
    "\n",
    "you just have to decide and code what it's gonna mean conceptually to add a\n",
    "\n",
    "vault plus a string which in this case probably doesn't make any sense at all.\n",
    "\n",
    "But it's possible it's going to be the operandi on the left and\n",
    "\n",
    "I'm inferring that I did not know the answer a moment ago.\n",
    "\n",
    "I'm inferring that because what I got was an attribute error ah here online 11.\n",
    "\n",
    "Because python did not like this other dot galleons didn't work\n",
    "\n",
    "but I could make it work by figuring something out.\n",
    "\n",
    "Really good question. I didn't know that one myself."
   ]
  },
  {
   "cell_type": "markdown",
   "metadata": {},
   "source": [
    "#### Q: Can we define our own operator?"
   ]
  },
  {
   "cell_type": "markdown",
   "metadata": {},
   "source": [
    "NO"
   ]
  },
  {
   "cell_type": "markdown",
   "metadata": {},
   "source": [
    "Other questions on operator overloading?\n",
    "\n",
    "Yeah, for deep.\n",
    "\n",
    "Yes we can.\n",
    "\n",
    "Okay. Um\n",
    "\n",
    "can you define new operators in python?\n",
    "\n",
    "Can you define new operators in python?\n",
    "\n",
    "Ah This is your good questions today,\n",
    "\n",
    "carter's gonna quickly google if he doesn't mind.\n",
    "\n",
    "I don't think so.\n",
    "\n",
    "There is a very long but precise list of operators that you can overload.\n",
    "\n",
    "I do not believe you can assign arbitrary characters to be operators in python.\n",
    "\n",
    "Uh let me defer to carter in the chat to revoke.\n",
    "\n",
    "Okay, I'm seeing two of my colleagues are saying no not possible.\n",
    "\n",
    "So I'm gonna go with my first instinct. No.\n",
    "\n",
    "Otherwise they'd be kind of cool, you can make emoji do whatever you want to."
   ]
  },
  {
   "cell_type": "markdown",
   "metadata": {},
   "source": [
    "#### Q: Is that the only operation you can do ?"
   ]
  },
  {
   "cell_type": "markdown",
   "metadata": {},
   "source": [
    "How about one final question on operator overloading?\n",
    "\n",
    "Yeah.\n",
    "\n",
    "Uh Treva Treva if I'm saying it right,\n",
    "\n",
    "is that the only operation you can do\n",
    "\n",
    "is a\n",
    "\n",
    "as far as like can you do a subtraction as well, You can you can do so many others.\n",
    "\n",
    "Let me know if carter you don't mind pulling up this U. R. L. Here.\n",
    "\n",
    "So this link here, special method names and today's slides.\n",
    "\n",
    "You'll see a long list of all of the operators that you can overload.\n",
    "\n",
    "You can do less than equals than plus equals minus equals, pretty much any symbol.\n",
    "\n",
    "You've seen me type on the screen can be overloaded in the context of classes."
   ]
  },
  {
   "cell_type": "markdown",
   "metadata": {},
   "source": [
    "## short Q&A"
   ]
  },
  {
   "cell_type": "markdown",
   "metadata": {},
   "source": [
    "### Q"
   ]
  },
  {
   "cell_type": "markdown",
   "metadata": {},
   "source": [
    "But let me see if we have some casual questions here from the group, Michael,\n",
    "\n",
    "talking about the a lot of differences between python\n",
    "\n",
    "and and uh say java in terms of um,\n",
    "\n",
    "having\n",
    "\n",
    "private and public uh, scoping and stuff like that in terms of the uh,\n",
    "\n",
    "was it where you were able to override the the attributes of a of an object?\n",
    "\n",
    "Um,\n",
    "\n",
    "I was wondering what the security implications of that are like\n",
    "\n",
    "if that is something that can be exploited by um,\n",
    "\n",
    "you know, by malicious uh, programmers,\n",
    "\n",
    "um and whether or not that uh is indicative of of a\n",
    "\n",
    "something less secure in python than with other languages like java.\n",
    "\n",
    "It's a good question. So short answer. Yes.\n",
    "\n",
    "If you had an especially large project where\n",
    "\n",
    "you might not necessarily be able to trust\n",
    "\n",
    "everyone 100% and you don't necessarily have the\n",
    "\n",
    "ability to audit every single line of code.\n",
    "\n",
    "If it's a developing quickly\n",
    "\n",
    "theoretically,\n",
    "\n",
    "someone could be writing code that's accessing\n",
    "\n",
    "variables or state that they really shouldn't be\n",
    "\n",
    "at the end of the day though, in python, it's just possible to do that.\n",
    "\n",
    "This is one of the reasons people might gravitate toward another language that has\n",
    "\n",
    "more visibility constraints in place because it\n",
    "\n",
    "does just lockdown data more tightly.\n",
    "\n",
    "With that said, when the developer has access to the code itself,\n",
    "\n",
    "sort of all bets are off anyway because they have access to the entire\n",
    "\n",
    "code base and theoretically could make changes\n",
    "\n",
    "to or poke holes in the visibility section\n",
    "\n",
    "settings like public or protected or private. But in general, that is yes.\n",
    "\n",
    "An appeal of other languages like Java and that you just don't have\n",
    "\n",
    "these kinds of worries whether it's for security or just correctness reasons.\n",
    "\n",
    "And in fact, this is one of my own hangups with python,\n",
    "\n",
    "like I kind of like the public and private nature of languages like Java,\n",
    "\n",
    "I don't really love this sort of honor system that we're on,\n",
    "\n",
    "where we're just supposed to don't do that even though you can,\n",
    "\n",
    "because it isn't it? Yeah, I was just gonna is it?\n",
    "\n",
    "Um so it's only it's only a concern in terms of having access to the code base though,\n",
    "\n",
    "like there's no um,\n",
    "\n",
    "there's no other issues that that could be exploited without access to the\n",
    "\n",
    "code base uh know that even that's um not necessarily the case,\n",
    "\n",
    "it depends on what the code is doing.\n",
    "\n",
    "If the code bases somehow trusting\n",
    "\n",
    "that user input is safe.\n",
    "\n",
    "That could be an attack mechanism because someone\n",
    "\n",
    "could somehow inject code into the system.\n",
    "\n",
    "Even a user, not a programmer that somehow accesses the contents of objects,\n",
    "\n",
    "gets people's passwords or whatnot because they're lying there in memory.\n",
    "\n",
    "So I think the short answer is that it is yes.\n",
    "\n",
    "A better defense mechanism just to kind of lock yourself out of this. But even then,\n",
    "\n",
    "you know,\n",
    "\n",
    "a smart enough programmer could poke holes in it just\n",
    "\n",
    "by nature of having access to the code base.\n",
    "\n",
    "So there are there are there ways of mitigating that within python?\n",
    "\n",
    "No.\n",
    "\n",
    "Is the short answer like this is a feature of\n",
    "\n",
    "the language um not a bug or anything like that\n",
    "\n",
    "or or it's a lack of feature if you will"
   ]
  },
  {
   "cell_type": "markdown",
   "metadata": {},
   "source": [
    "### Q"
   ]
  },
  {
   "cell_type": "markdown",
   "metadata": {},
   "source": [
    "other questions on this or anything else,\n",
    "\n",
    "Ansel\n",
    "\n",
    "Yes. What do you recommend next?\n",
    "\n",
    "For those who want to go deeper into finance python, But for finance?\n",
    "\n",
    "Oh, um there's nothing really specific about oo for the world of finance.\n",
    "\n",
    "Um it depends what you're implementing,\n",
    "\n",
    "like object oriented programming is just a tool in your toolkit.\n",
    "\n",
    "So you now have the ability to represent different forms of entities you can imagine\n",
    "\n",
    "representing a company or a portfolio of stocks or any number of\n",
    "\n",
    "other things using classes instead of more generic lists or dictionaries.\n",
    "\n",
    "If you want to learn more,\n",
    "\n",
    "the thing to learn more about is just object\n",
    "\n",
    "oriented programming more generally that it really isn't tied to\n",
    "\n",
    "financial applications with that said there's probably some Youtube tutorial\n",
    "\n",
    "or book or course that do intersect the two,\n",
    "\n",
    "but there's nothing inherent about those two worlds necessarily.\n",
    "\n",
    "So I I don't have a good answer other than google in that case,\n",
    "\n",
    "but I would skew your terms towards the oo stuff,\n",
    "\n",
    "not so much the finance stuff if you want to get good at these primitives."
   ]
  },
  {
   "cell_type": "markdown",
   "metadata": {},
   "source": [
    "### Q"
   ]
  },
  {
   "cell_type": "markdown",
   "metadata": {},
   "source": [
    "Other questions from Ahmed,\n",
    "\n",
    "if if I'm wondering if we convened this course,\n",
    "\n",
    "we will prepare to CS 50 Ai course or we still have to learn more about python.\n",
    "\n",
    "Um You don't this course,\n",
    "\n",
    "CS 50 P will teach you way more about python then we teach you in CS 50 X In CS 50 x.\n",
    "\n",
    "Though you'll learn more about programming more generally,\n",
    "\n",
    "problem solving. And so I you could try to go straight from this class to CS 50 AI.\n",
    "\n",
    "But generally speaking,\n",
    "\n",
    "having more programming experience under your belt will make\n",
    "\n",
    "the Ai class a little more accessible because you'll\n",
    "\n",
    "just be a more comfortable programmer and you can\n",
    "\n",
    "really focus on the Ai stuff in the class,\n",
    "\n",
    "Not just the programming stuff."
   ]
  },
  {
   "cell_type": "markdown",
   "metadata": {},
   "source": [
    "### Q"
   ]
  },
  {
   "cell_type": "markdown",
   "metadata": {},
   "source": [
    "How about time for a couple more questions?\n",
    "\n",
    "Yeah. Sandra from Singer writes.\n",
    "\n",
    "Um Hello,\n",
    "\n",
    "my question is are we gonna are we going to have a final project for its calls?\n",
    "\n",
    "No. So we at the moment we plan for their only to be problem sets.\n",
    "\n",
    "So when you reach the final problem set, you have successfully finished."
   ]
  },
  {
   "cell_type": "markdown",
   "metadata": {},
   "source": [
    "### Q"
   ]
  },
  {
   "cell_type": "markdown",
   "metadata": {},
   "source": [
    "One thing\n",
    "\n",
    "metal.\n",
    "\n",
    "Yeah. David, my question is, can we use unitary operator overloading?\n",
    "\n",
    "And the biden?\n",
    "\n",
    "Which operator again?\n",
    "\n",
    "Unity operator overloading? Unity operator. I'm not sure. Oh, unitary operators?\n",
    "\n",
    "Um\n",
    "\n",
    "Good question. I'm trying to\n",
    "\n",
    "are there, can you think of any function carter\n",
    "\n",
    "like in C Plus plus, you can overload plus plus and minus minus.\n",
    "\n",
    "Those don't exist in c python?\n",
    "\n",
    "I'm just trying to think of an example\n",
    "\n",
    "if you email me, I'll try to remember, I can't think of one off the top of my head,\n",
    "\n",
    "but I'm guessing I'm just blanking at the moment on the spot.\n",
    "\n",
    "Alright, allow me to officially wrap us here. We will be in touch next week via email.\n",
    "\n",
    "If we have one final shoot, otherwise the content will continue to go on the website.\n",
    "\n",
    "Thank you so much for joining us and have a wonderful morning, afternoon or evening.\n",
    "\n",
    "This was\n",
    "\n",
    "CS 50\n"
   ]
  },
  {
   "cell_type": "markdown",
   "metadata": {},
   "source": []
  },
  {
   "cell_type": "markdown",
   "metadata": {},
   "source": []
  },
  {
   "cell_type": "markdown",
   "metadata": {},
   "source": []
  },
  {
   "cell_type": "markdown",
   "metadata": {},
   "source": []
  },
  {
   "cell_type": "markdown",
   "metadata": {},
   "source": []
  },
  {
   "cell_type": "code",
   "execution_count": null,
   "metadata": {},
   "outputs": [],
   "source": []
  },
  {
   "cell_type": "markdown",
   "metadata": {},
   "source": []
  },
  {
   "cell_type": "markdown",
   "metadata": {},
   "source": []
  },
  {
   "cell_type": "code",
   "execution_count": null,
   "metadata": {},
   "outputs": [],
   "source": []
  },
  {
   "cell_type": "markdown",
   "metadata": {},
   "source": []
  },
  {
   "cell_type": "code",
   "execution_count": null,
   "metadata": {},
   "outputs": [],
   "source": []
  },
  {
   "cell_type": "markdown",
   "metadata": {},
   "source": []
  },
  {
   "cell_type": "markdown",
   "metadata": {},
   "source": []
  },
  {
   "cell_type": "markdown",
   "metadata": {},
   "source": []
  },
  {
   "cell_type": "code",
   "execution_count": null,
   "metadata": {},
   "outputs": [],
   "source": []
  }
 ],
 "metadata": {
  "kernelspec": {
   "display_name": "Python 3 (ipykernel)",
   "language": "python",
   "name": "python3"
  },
  "language_info": {
   "codemirror_mode": {
    "name": "ipython",
    "version": 3
   },
   "file_extension": ".py",
   "mimetype": "text/x-python",
   "name": "python",
   "nbconvert_exporter": "python",
   "pygments_lexer": "ipython3",
   "version": "3.7.13"
  }
 },
 "nbformat": 4,
 "nbformat_minor": 2
}
